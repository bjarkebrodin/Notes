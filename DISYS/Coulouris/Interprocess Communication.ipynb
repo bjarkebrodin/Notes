{
 "cells": [
  {
   "cell_type": "markdown",
   "metadata": {},
   "source": [
    "# 4. Interprocess Communication"
   ]
  },
  {
   "cell_type": "markdown",
   "metadata": {},
   "source": [
    "UDP Datagrams\n",
    "- Connection-less\n",
    "- Barebones\n",
    "\n",
    "TCP Streams\n",
    "- Connection-oriented\n",
    "- Reliable-ish (Validity, Integrity, Ordering)\n",
    "\n",
    "Synchronous Communication\n",
    "- after `send` a process is blocked until a corresponding `receive` at the recipient process.\n",
    "- after `receive` a process is blocked until a message arrives.\n",
    "\n",
    "Asynchronous\n",
    "- nonblocking `send` \n",
    "- blocking or nonblocking `receive`; in case of non-blocking need to manage buffer for when message arrives as well as notification of arrival - nonblocking receive is awkward and generally not provided\n",
    "\n",
    "Address\n",
    "*(IP address, port)* \n",
    "Ports can have a single receiver but many senders\n",
    "\n",
    "Reliability\n",
    "*guaranteed delivery despite a reasonable number of lost packets*\n",
    "- Arrives within reasonable expectations\n",
    "- Uncorrupted\n",
    "- No duplications\n",
    "(May or may not be in sender-order, TCP does this though)"
   ]
  },
  {
   "cell_type": "markdown",
   "metadata": {},
   "source": [
    "## Tools\n",
    "\n",
    "`nslookup` - DNS Lookup\n",
    "\n",
    "`nmap` - Port scanning\n",
    "\n",
    "`nc` - Communication\n",
    "\n",
    "`traceroute` - Route tracer\n",
    "\n",
    "`ifconfig` - Network configuration\n",
    "\n",
    "`tcpdump` - Dump traffic from network\n",
    "\n",
    "`ping` - duh"
   ]
  },
  {
   "cell_type": "markdown",
   "metadata": {},
   "source": [
    "## Sockets (In Java)"
   ]
  },
  {
   "cell_type": "markdown",
   "metadata": {},
   "source": [
    "## `InetAddress`"
   ]
  },
  {
   "cell_type": "code",
   "execution_count": 21,
   "metadata": {},
   "outputs": [
    {
     "name": "stdout",
     "output_type": "stream",
     "text": [
      "google.com/216.58.207.238\n"
     ]
    }
   ],
   "source": [
    "import java.net.InetAddress;\n",
    "InetAddress addr = InetAddress.getByName(\"google.com\");\n",
    "\n",
    "System.out.println(addr);"
   ]
  },
  {
   "cell_type": "code",
   "execution_count": 37,
   "metadata": {},
   "outputs": [],
   "source": [
    "import java.net.UnknownHostException;\n",
    "Function<String,InetAddress> getByName = (String name) -> { try {\n",
    "    return InetAddress.getByName(name);\n",
    "} catch (UnknownHostException e) { return null; } }\n"
   ]
  },
  {
   "cell_type": "code",
   "execution_count": 58,
   "metadata": {},
   "outputs": [
    {
     "name": "stdout",
     "output_type": "stream",
     "text": [
      "true\n",
      "localhost\n",
      "google.com/142.250.74.46\n"
     ]
    }
   ],
   "source": [
    "System.out.println(getByName.apply(\"0.0.0.0\").isAnyLocalAddress());\n",
    "System.out.println(getByName.apply(\"00:00:00:00:00:00:00:1\").getHostName());\n",
    "System.out.println(getByName.apply(\"google.com\"));"
   ]
  },
  {
   "cell_type": "markdown",
   "metadata": {},
   "source": [
    "## UDP"
   ]
  },
  {
   "cell_type": "code",
   "execution_count": 20,
   "metadata": {},
   "outputs": [
    {
     "name": "stdout",
     "output_type": "stream",
     "text": [
      "Hello, Senor Mundo!\u0000\u0000\u0000\u0000\u0000\u0000\u0000\u0000\u0000\u0000\u0000\u0000\u0000\u0000\u0000\u0000\u0000\u0000\u0000\u0000\u0000\u0000\u0000\u0000\u0000\u0000\u0000\u0000\u0000\u0000\u0000\u0000\u0000\u0000\u0000\u0000\u0000\u0000\u0000\u0000\u0000\u0000\u0000\u0000\u0000\u0000\u0000\u0000\u0000\u0000\u0000\u0000\u0000\u0000\u0000\u0000\u0000\u0000\u0000\u0000\u0000\u0000\u0000\u0000\u0000\u0000\u0000\u0000\u0000\u0000\u0000\u0000\u0000\u0000\u0000\u0000\u0000\u0000\u0000\u0000\u0000\u0000\u0000\u0000\u0000\u0000\u0000\u0000\u0000\u0000\u0000\u0000\u0000\u0000\u0000\u0000\u0000\u0000\u0000\u0000\u0000\u0000\u0000\u0000\u0000\u0000\u0000\u0000\u0000\u0000\u0000\u0000\u0000\u0000\u0000\u0000\u0000\u0000\u0000\u0000\u0000\u0000\u0000\u0000\u0000\u0000\u0000\u0000\u0000\u0000\u0000\u0000\u0000\u0000\u0000\u0000\u0000\u0000\u0000\u0000\u0000\u0000\u0000\u0000\u0000\u0000\u0000\u0000\u0000\u0000\u0000\u0000\u0000\u0000\u0000\u0000\u0000\u0000\u0000\u0000\u0000\u0000\u0000\u0000\u0000\u0000\u0000\u0000\u0000\u0000\u0000\u0000\u0000\u0000\u0000\u0000\u0000\u0000\u0000\u0000\u0000\u0000\u0000\u0000\u0000\u0000\u0000\u0000\u0000\u0000\u0000\u0000\u0000\u0000\u0000\u0000\u0000\u0000\u0000\u0000\u0000\u0000\u0000\u0000\u0000\u0000\u0000\u0000\u0000\u0000\u0000\u0000\u0000\u0000\u0000\u0000\u0000\u0000\u0000\u0000\u0000\u0000\u0000\u0000\u0000\u0000\u0000\u0000\u0000\u0000\u0000\u0000\u0000\u0000\u0000\u0000\u0000\u0000\u0000\u0000\u0000\u0000\u0000\u0000\u0000\u0000\u0000\u0000\u0000\u0000\u0000\u0000\u0000\u0000\u0000\u0000\u0000\u0000\u0000\u0000\u0000\u0000\u0000\u0000\u0000\u0000\u0000\u0000\u0000\u0000\u0000\u0000\u0000\u0000\u0000\u0000\u0000\u0000\u0000\u0000\u0000\u0000\u0000\u0000\u0000\u0000\u0000\u0000\u0000\u0000\u0000\u0000\u0000\u0000\u0000\u0000\u0000\u0000\u0000\u0000\u0000\u0000\u0000\u0000\u0000\u0000\u0000\u0000\u0000\u0000\u0000\u0000\u0000\u0000\u0000\u0000\u0000\u0000\u0000\u0000\u0000\u0000\u0000\u0000\u0000\u0000\u0000\u0000\u0000\u0000\u0000\u0000\u0000\u0000\u0000\u0000\u0000\u0000\u0000\u0000\u0000\u0000\u0000\u0000\u0000\u0000\u0000\u0000\u0000\u0000\u0000\u0000\u0000\u0000\u0000\u0000\u0000\u0000\u0000\u0000\u0000\u0000\u0000\u0000\u0000\u0000\u0000\u0000\u0000\u0000\u0000\u0000\u0000\u0000\u0000\u0000\u0000\u0000\u0000\u0000\u0000\u0000\u0000\u0000\u0000\u0000\u0000\u0000\u0000\u0000\u0000\u0000\u0000\u0000\u0000\u0000\u0000\u0000\u0000\u0000\u0000\u0000\u0000\u0000\u0000\u0000\u0000\u0000\u0000\u0000\u0000\u0000\u0000\u0000\u0000\u0000\u0000\u0000\u0000\u0000\u0000\u0000\u0000\u0000\u0000\u0000\u0000\u0000\u0000\u0000\u0000\u0000\u0000\u0000\u0000\u0000\u0000\u0000\u0000\u0000\u0000\u0000\u0000\u0000\u0000\u0000\u0000\u0000\u0000\u0000\u0000\u0000\u0000\u0000\u0000\u0000\u0000\u0000\u0000\u0000\u0000\u0000\u0000\u0000\u0000\u0000\u0000\u0000\u0000\u0000\u0000\u0000\u0000\u0000\u0000\u0000\u0000\u0000\u0000\u0000\u0000\u0000\u0000\u0000\u0000\u0000\u0000\u0000\u0000\u0000\u0000\u0000\u0000\u0000\u0000\u0000\u0000\u0000\u0000\u0000\u0000\u0000\u0000\u0000\u0000\u0000\u0000\u0000\u0000\u0000\u0000\u0000\u0000\u0000\u0000\u0000\u0000\u0000\u0000\u0000\u0000\u0000\u0000\u0000\u0000\u0000\u0000\u0000\u0000\u0000\u0000\u0000\u0000\u0000\u0000\u0000\u0000\u0000\u0000\u0000\u0000\u0000\u0000\u0000\u0000\u0000\u0000\u0000\u0000\u0000\u0000\u0000\u0000\u0000\u0000\u0000\u0000\u0000\u0000\u0000\u0000\u0000\u0000\u0000\u0000\u0000\u0000\u0000\u0000\u0000\u0000\u0000\u0000\u0000\u0000\u0000\u0000\u0000\u0000\u0000\u0000\u0000\u0000\u0000\u0000\u0000\u0000\u0000\u0000\u0000\u0000\u0000\u0000\u0000\u0000\u0000\u0000\u0000\u0000\u0000\u0000\u0000\u0000\u0000\u0000\u0000\u0000\u0000\u0000\u0000\u0000\u0000\u0000\u0000\u0000\u0000\u0000\u0000\u0000\u0000\u0000\u0000\u0000\u0000\u0000\u0000\u0000\u0000\u0000\u0000\u0000\u0000\u0000\u0000\u0000\u0000\u0000\u0000\u0000\u0000\u0000\u0000\u0000\u0000\u0000\u0000\u0000\u0000\u0000\u0000\u0000\u0000\u0000\u0000\u0000\u0000\u0000\u0000\u0000\u0000\u0000\u0000\u0000\u0000\u0000\u0000\u0000\u0000\u0000\u0000\u0000\u0000\u0000\u0000\u0000\u0000\u0000\u0000\u0000\u0000\u0000\u0000\u0000\u0000\u0000\u0000\u0000\u0000\u0000\u0000\u0000\u0000\u0000\u0000\u0000\u0000\u0000\u0000\u0000\u0000\u0000\u0000\u0000\u0000\u0000\u0000\u0000\u0000\u0000\u0000\u0000\u0000\u0000\u0000\u0000\u0000\u0000\u0000\u0000\u0000\u0000\u0000\u0000\u0000\u0000\u0000\u0000\u0000\u0000\u0000\u0000\u0000\u0000\u0000\u0000\u0000\u0000\u0000\u0000\u0000\u0000\u0000\u0000\u0000\u0000\u0000\u0000\u0000\u0000\u0000\u0000\u0000\u0000\u0000\u0000\u0000\u0000\u0000\u0000\u0000\u0000\u0000\u0000\u0000\u0000\u0000\u0000\u0000\u0000\u0000\u0000\u0000\u0000\u0000\u0000\u0000\u0000\u0000\u0000\u0000\u0000\u0000\u0000\u0000\u0000\u0000\u0000\u0000\u0000\u0000\u0000\u0000\u0000\u0000\u0000\u0000\u0000\u0000\u0000\u0000\u0000\u0000\u0000\u0000\u0000\u0000\u0000\u0000\u0000\u0000\u0000\u0000\u0000\u0000\u0000\u0000\u0000\u0000\u0000\u0000\u0000\u0000\u0000\u0000\u0000\u0000\u0000\u0000\u0000\u0000\u0000\u0000\u0000\u0000\u0000\u0000\u0000\u0000\u0000\u0000\u0000\u0000\u0000\u0000\u0000\u0000\u0000\u0000\u0000\u0000\u0000\u0000\u0000\u0000\u0000\u0000\u0000\u0000\u0000\u0000\u0000\u0000\u0000\u0000\u0000\u0000\u0000\u0000\u0000\u0000\u0000\u0000\u0000\u0000\u0000\u0000\u0000\u0000\u0000\u0000\u0000\u0000\u0000\u0000\u0000\u0000\u0000\u0000\u0000\u0000\u0000\u0000\u0000\u0000\u0000\u0000\u0000\u0000\u0000\u0000\u0000\u0000\u0000\u0000\u0000\u0000\u0000\u0000\u0000\u0000\u0000\u0000\u0000\u0000\u0000\u0000\u0000\u0000\u0000\u0000\u0000\u0000\u0000\u0000\u0000\u0000\u0000\u0000\u0000\u0000\u0000\u0000\u0000\u0000\u0000\u0000\u0000\u0000\u0000\u0000\u0000\u0000\u0000\u0000\u0000\u0000\u0000\u0000\u0000\u0000\u0000\u0000\u0000\u0000\u0000\u0000\u0000\u0000\u0000\u0000\u0000\u0000\u0000\u0000\u0000\u0000\u0000\u0000\u0000\u0000\u0000\u0000\u0000\u0000\u0000\u0000\u0000\u0000\u0000\u0000\u0000\u0000\u0000\u0000\u0000\u0000\u0000\u0000\u0000\u0000\u0000\u0000\u0000\u0000\u0000\u0000\u0000\u0000\u0000\u0000\u0000\u0000\u0000\u0000\u0000\n",
      "SO_SNDBUF = 65536\n",
      "SO_RCVBUF = 65536\n",
      "SO_REUSEADDR = false\n",
      "IP_TOS = 0\n",
      "SO_BROADCAST = true\n"
     ]
    }
   ],
   "source": [
    "import java.net.*;\n",
    "\n",
    "try ( \n",
    "    DatagramSocket server = new DatagramSocket(8888);\n",
    "    DatagramSocket client = new DatagramSocket();\n",
    ") {\n",
    "    // Retrieve local internet address (127.0.0.1/)\n",
    "    InetAddress addr = InetAddress.getByName(\"localhost\");\n",
    "    // Allocate I/O buffers for traffic\n",
    "    byte[] serverbuff = new byte[1024];\n",
    "    byte[] clientbuff = \"Hello, Senor Mundo!\".getBytes();\n",
    "    \n",
    "    // Issue a send, moving the data from the buffer to the underlying layer\n",
    "    DatagramPacket pack = new DatagramPacket(clientbuff, clientbuff.length, addr, 8888);\n",
    "    client.send(pack);\n",
    "  \n",
    "    // Receive any message from the underlying incoming buffer\n",
    "    pack = new DatagramPacket(serverbuff, 0, 1024);\n",
    "    server.receive(pack);\n",
    "    System.out.println(new String(pack.getData()));\n",
    "    System.out.println(\"SO_SNDBUF = \" + server.getSendBufferSize());\n",
    "    System.out.println(\"SO_RCVBUF = \" + server.getReceiveBufferSize());\n",
    "    System.out.println(\"SO_REUSEADDR = \" + server.getReuseAddress());\n",
    "    System.out.println(\"IP_TOS = \" + server.getTrafficClass());\n",
    "    System.out.println(\"SO_BROADCAST = \" + server.getBroadcast());\n",
    "} catch (Exception e) {\n",
    "    e.printStackTrace();\n",
    "}"
   ]
  },
  {
   "cell_type": "markdown",
   "metadata": {},
   "source": [
    "`receive` will block until a message is received from any source, it is possible to connect the socket to a remote addr/port such that messages are exchanged only with that address. If a socket is not connected to any such remote, we say that it is *unconnected*\n",
    "\n",
    "socket options should be set before binding the socket! \n",
    "see [SocketOptions](https://docs.oracle.com/en/java/javase/15/docs/api/java.base/java/net/StandardSocketOptions.html#SO_REUSEADDR)"
   ]
  },
  {
   "cell_type": "markdown",
   "metadata": {},
   "source": [
    "UDP uses checksums to supply integrity, but suffers from send/receive-omission failures as well as ordering failures, and byzantine failures (e.g. channel-omission or malicious interference)."
   ]
  },
  {
   "cell_type": "markdown",
   "metadata": {},
   "source": [
    "## TCP"
   ]
  },
  {
   "cell_type": "code",
   "execution_count": 35,
   "metadata": {},
   "outputs": [
    {
     "name": "stdout",
     "output_type": "stream",
     "text": [
      "Server says hi!\n",
      "Client says hi too!\n"
     ]
    }
   ],
   "source": [
    "// BE HELLA CAREFUL WITH CLOSING STREAMS/SOCKETS!!!!!\n",
    "// Charsets included for locale independence\n",
    "\n",
    "import java.io.*;\n",
    "import java.nio.charset.*;\n",
    "\n",
    "Charset utf8 = StandardCharsets.UTF_8;\n",
    "\n",
    "try (\n",
    "    ServerSocket server = new ServerSocket(9999);\n",
    "    Socket client = new Socket(\"localhost\", 9999);\n",
    "    Socket clientHandle = server.accept(); // blocking\n",
    "    \n",
    "    PrintWriter servW = \n",
    "        new PrintWriter(clientHandle.getOutputStream(), true, utf8);\n",
    "    BufferedReader servR = \n",
    "        new BufferedReader(new InputStreamReader(clientHandle.getInputStream(), utf8));\n",
    "    PrintWriter clieW = \n",
    "        new PrintWriter(client.getOutputStream(), true, utf8);\n",
    "    BufferedReader clieR = \n",
    "        new BufferedReader(new InputStreamReader(client.getInputStream(), utf8));\n",
    ") {\n",
    "    servW.println(\"Server says hi!\");\n",
    "    System.out.println(clieR.readLine());\n",
    "    clieW.println(\"Client says hi too!\");\n",
    "    System.out.println(servR.readLine());\n",
    "} catch (Exception e) {\n",
    "    e.printStackTrace();\n",
    "}"
   ]
  },
  {
   "cell_type": "markdown",
   "metadata": {},
   "source": [
    "## Marshalling"
   ]
  },
  {
   "cell_type": "markdown",
   "metadata": {},
   "source": [
    "*Little Endian order* :  most significant byte last\n",
    "\n",
    "*Big Endian order* : most significant byte first\n",
    "\n",
    "*External data representation* : external agreed upon representation of data\n",
    "\n",
    "*Marshalling* : the process of transforming data items into a form suitable for transmission. We call the inverse process *Unmarshalling*, here data structures and local representations are reestablished.\n",
    "\n",
    "Approaches to marshalling : \n",
    "- Convention-based (e.g. CORBA)\n",
    "- Built-in standard (java serialization)\n",
    "- Self-contained data representation (XML)\n",
    "\n",
    "### Java Serialization\n",
    "\n",
    "Objects are serialized recursively!!\n",
    "\n",
    "Uses `ObjectOutputStream` and `ObjectInputStream` objects to R/W objects.\n",
    "\n",
    "`transient` keyword can be used to omit fields from serialized form.\n",
    "\n",
    "by implementing `readObject(ObjectInputStream in)` and/or `writeObject(ObjectOutputStream out)` the serialization can be handled in more detail."
   ]
  },
  {
   "cell_type": "code",
   "execution_count": 16,
   "metadata": {},
   "outputs": [],
   "source": [
    "import java.io.*;\n",
    "\n",
    "class Person implements Serializable {\n",
    "    String name;\n",
    "    int age;\n",
    "    transient long cpr;\n",
    "    \n",
    "    Person(String name, int age, long cpr) {\n",
    "        this.name = name;\n",
    "        this.age = age;\n",
    "        this.cpr = cpr;\n",
    "    }\n",
    "\n",
    "    public String toString() {\n",
    "        return name + \" \" + age + \" \" + cpr;\n",
    "    }\n",
    "\n",
    "    private void writeObject(ObjectOutputStream oos) throws IOException {\n",
    "        oos.defaultWriteObject();\n",
    "        oos.writeLong(~cpr); // weakest encryption world\n",
    "    }\n",
    "    \n",
    "    private void readObject(ObjectInputStream ois) throws ClassNotFoundException, IOException {\n",
    "        ois.defaultReadObject();\n",
    "        cpr = ~ois.readLong();\n",
    "    }\n",
    "}"
   ]
  },
  {
   "cell_type": "code",
   "execution_count": 17,
   "metadata": {},
   "outputs": [
    {
     "name": "stdout",
     "output_type": "stream",
     "text": [
      "Hans 88 24032001\n"
     ]
    }
   ],
   "source": [
    "import java.io.*;\n",
    "\n",
    "Person Hans = new Person(\"Hans\", 88, 24032001);\n",
    "\n",
    "try (\n",
    "    PipedInputStream in = new PipedInputStream();\n",
    "    PipedOutputStream out = new PipedOutputStream(in); \n",
    ") {\n",
    "    ObjectOutputStream oos = new ObjectOutputStream(out);\n",
    "    ObjectInputStream ois = new ObjectInputStream(in);\n",
    "    \n",
    "    oos.writeObject(Hans);\n",
    "    System.out.println(ois.readObject());\n",
    "} catch (Exception e) {\n",
    "    e.printStackTrace();\n",
    "}"
   ]
  },
  {
   "cell_type": "markdown",
   "metadata": {},
   "source": [
    "## XML"
   ]
  },
  {
   "cell_type": "markdown",
   "metadata": {},
   "source": [
    "`<i am a tag></i am a tag>`\n",
    "\n",
    "`<i am an empty tag />`\n",
    "\n",
    "*elements* are enclosed by *tags*\n",
    "\n",
    "*attributes* hold information about an element\n",
    "\n",
    "<tag attributekey=\"attributevalue\" />\n",
    "\n",
    "use e.g. base64 for raw data\n",
    "\n",
    "use CDATA to pass strings verbatim (CDATA will not be parsed as XML)\n",
    "\n",
    "A *prolog* is included to specify encoding, xml version and more.\n",
    "\n",
    "`<?XML version = \"1.0\" encoding = \"UTF-8\" standalone = \"yes\"?>`\n",
    "\n",
    "XML has a feature for namespacing elements (by url for example)"
   ]
  },
  {
   "cell_type": "markdown",
   "metadata": {},
   "source": [
    "## Multicast\n",
    "\n",
    "Allows for joining/leaving multicast groups, everything else is mostly just UDP."
   ]
  }
 ],
 "metadata": {
  "kernelspec": {
   "display_name": "Java",
   "language": "java",
   "name": "java"
  },
  "language_info": {
   "codemirror_mode": "java",
   "file_extension": ".jshell",
   "mimetype": "text/x-java-source",
   "name": "Java",
   "pygments_lexer": "java",
   "version": "11.0.8+10-LTS"
  }
 },
 "nbformat": 4,
 "nbformat_minor": 4
}

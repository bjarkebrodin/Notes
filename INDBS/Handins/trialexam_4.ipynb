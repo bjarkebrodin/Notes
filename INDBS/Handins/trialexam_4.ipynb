{
    "metadata": {
        "kernelspec": {
            "name": "SQL",
            "display_name": "SQL",
            "language": "sql"
        },
        "language_info": {
            "name": "sql",
            "version": ""
        }
    },
    "nbformat_minor": 2,
    "nbformat": 4,
    "cells": [
        {
            "cell_type": "code",
            "source": [
                "drop table if exists JournalArticle;\r\n",
                "drop table if exists ConferenceArticle;\r\n",
                "drop table if exists ResearcherArticle;\r\n",
                "drop table if exists Evaluations;\r\n",
                "drop table if exists ProjectResearcher;\r\n",
                "drop table if exists Staff;\r\n",
                "drop table if exists Researcher;\r\n",
                "drop table if exists Project;\r\n",
                "drop table if exists Article;\r\n",
                "\r\n",
                "\r\n",
                "create table Article (\r\n",
                "    aid serial primary key,\r\n",
                "    year date not null\r\n",
                ");\r\n",
                "\r\n",
                "create table ConferenceArticle (\r\n",
                "    aid int primary key references Article(aid),\r\n",
                "    conference varchar(100) not null\r\n",
                ");\r\n",
                "\r\n",
                "create table Staff (\r\n",
                "    sid serial primary key,\r\n",
                "    name varchar(100) not null\r\n",
                ");\r\n",
                "\r\n",
                "create table Researcher (\r\n",
                "    rid serial primary key,\r\n",
                "    name varchar(100) not null\r\n",
                ");\r\n",
                "\r\n",
                "create table Project (\r\n",
                "    pid serial primary key,\r\n",
                "    name varchar(250) not null\r\n",
                ");\r\n",
                "\r\n",
                "create table ProjectResearcher (\r\n",
                "    pid int references Project(pid),\r\n",
                "    rid int references Researcher(rid),\r\n",
                "    primary key (pid,rid)\r\n",
                ");\r\n",
                "\r\n",
                "create table Evaluations (\r\n",
                "    pid int,\r\n",
                "    rid int not null,\r\n",
                "    sid int not null,\r\n",
                "    rating int not null,\r\n",
                "    primary key (pid,rid,sid),\r\n",
                "    foreign key (pid,rid) references ProjectResearcher(pid,rid)\r\n",
                ");\r\n",
                "\r\n",
                "create table ResearcherArticle (\r\n",
                "    aid int references Article(aid),\r\n",
                "    rid int references Researcher(rid),\r\n",
                "    primary key (aid,rid)\r\n",
                ");\r\n",
                "\r\n",
                "create table JournalArticle (\r\n",
                "    aid int primary key references Article(aid),\r\n",
                "    journal varchar(250) not null,\r\n",
                "    volume int not null,\r\n",
                "    manager_id int references Staff(sid) not null\r\n",
                ");"
            ],
            "metadata": {
                "azdata_cell_guid": "90d6756b-244b-4916-a5e0-3b9158cacd35"
            },
            "outputs": [
                {
                    "output_type": "display_data",
                    "data": {
                        "text/html": "Commands completed successfully"
                    },
                    "metadata": {}
                },
                {
                    "output_type": "display_data",
                    "data": {
                        "text/html": "Commands completed successfully"
                    },
                    "metadata": {}
                },
                {
                    "output_type": "display_data",
                    "data": {
                        "text/html": "Commands completed successfully"
                    },
                    "metadata": {}
                },
                {
                    "output_type": "display_data",
                    "data": {
                        "text/html": "Commands completed successfully"
                    },
                    "metadata": {}
                },
                {
                    "output_type": "display_data",
                    "data": {
                        "text/html": "Commands completed successfully"
                    },
                    "metadata": {}
                },
                {
                    "output_type": "display_data",
                    "data": {
                        "text/html": "Commands completed successfully"
                    },
                    "metadata": {}
                },
                {
                    "output_type": "display_data",
                    "data": {
                        "text/html": "Commands completed successfully"
                    },
                    "metadata": {}
                },
                {
                    "output_type": "display_data",
                    "data": {
                        "text/html": "Commands completed successfully"
                    },
                    "metadata": {}
                },
                {
                    "output_type": "display_data",
                    "data": {
                        "text/html": "Commands completed successfully"
                    },
                    "metadata": {}
                },
                {
                    "output_type": "display_data",
                    "data": {
                        "text/html": "Commands completed successfully"
                    },
                    "metadata": {}
                },
                {
                    "output_type": "display_data",
                    "data": {
                        "text/html": "Commands completed successfully"
                    },
                    "metadata": {}
                },
                {
                    "output_type": "display_data",
                    "data": {
                        "text/html": "Commands completed successfully"
                    },
                    "metadata": {}
                },
                {
                    "output_type": "display_data",
                    "data": {
                        "text/html": "Commands completed successfully"
                    },
                    "metadata": {}
                },
                {
                    "output_type": "display_data",
                    "data": {
                        "text/html": "Commands completed successfully"
                    },
                    "metadata": {}
                },
                {
                    "output_type": "display_data",
                    "data": {
                        "text/html": "Commands completed successfully"
                    },
                    "metadata": {}
                },
                {
                    "output_type": "display_data",
                    "data": {
                        "text/html": "Commands completed successfully"
                    },
                    "metadata": {}
                },
                {
                    "output_type": "display_data",
                    "data": {
                        "text/html": "Commands completed successfully"
                    },
                    "metadata": {}
                },
                {
                    "output_type": "display_data",
                    "data": {
                        "text/html": "Commands completed successfully"
                    },
                    "metadata": {}
                },
                {
                    "output_type": "display_data",
                    "data": {
                        "text/html": "Total execution time: 00:00:00.230"
                    },
                    "metadata": {}
                }
            ],
            "execution_count": 6
        }
    ]
}
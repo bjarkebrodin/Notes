{
    "metadata": {
        "kernelspec": {
            "name": "SQL",
            "display_name": "SQL",
            "language": "sql"
        },
        "language_info": {
            "name": "sql",
            "version": ""
        }
    },
    "nbformat_minor": 2,
    "nbformat": 4,
    "cells": [
        {
            "cell_type": "markdown",
            "source": [
                "##### BJARKE BRODIN - INDBS 2020"
            ],
            "metadata": {
                "azdata_cell_guid": "bdc24583-9534-43ff-9320-2634e8ef0703"
            }
        },
        {
            "cell_type": "markdown",
            "source": [
                "# Indexing\n",
                "\n",
                "Indexes can be used to tweak performance of sql queries.\n",
                "\n",
                "To experiment with this we can run some queries with and without indexes and check the execution time."
            ],
            "metadata": {
                "azdata_cell_guid": "2d06cf76-e604-492c-9e7b-0f9b2bce51da"
            }
        },
        {
            "cell_type": "code",
            "source": [
                "drop INDEX if exists year;"
            ],
            "metadata": {
                "azdata_cell_guid": "2752a0c4-bc23-47cc-b90c-f0ea462e63d6"
            },
            "outputs": [
                {
                    "output_type": "display_data",
                    "data": {
                        "text/html": "Commands completed successfully"
                    },
                    "metadata": {}
                },
                {
                    "output_type": "display_data",
                    "data": {
                        "text/html": "Total execution time: 00:00:00.006"
                    },
                    "metadata": {}
                }
            ],
            "execution_count": 28
        },
        {
            "cell_type": "code",
            "source": [
                "create index year on movie(year);"
            ],
            "metadata": {
                "azdata_cell_guid": "977f58da-daea-443c-90df-2357b5979d6e"
            },
            "outputs": [
                {
                    "output_type": "display_data",
                    "data": {
                        "text/html": "Commands completed successfully"
                    },
                    "metadata": {}
                },
                {
                    "output_type": "display_data",
                    "data": {
                        "text/html": "Total execution time: 00:00:00.026"
                    },
                    "metadata": {}
                }
            ],
            "execution_count": 29
        },
        {
            "cell_type": "code",
            "source": [
                "select count(*)\n",
                "from movie\n",
                "where year=1948;"
            ],
            "metadata": {
                "azdata_cell_guid": "85be74d9-a319-4908-a010-b1f62609b86b"
            },
            "outputs": [
                {
                    "output_type": "display_data",
                    "data": {
                        "text/html": "(1 row(s) affected)"
                    },
                    "metadata": {}
                },
                {
                    "output_type": "display_data",
                    "data": {
                        "text/html": "Total execution time: 00:00:00.005"
                    },
                    "metadata": {}
                },
                {
                    "output_type": "execute_result",
                    "metadata": {
                        "resultSet": {
                            "batchId": 0,
                            "columnInfo": [
                                {
                                    "allowDbNull": null,
                                    "baseCatalogName": null,
                                    "baseColumnName": "count",
                                    "baseSchemaName": null,
                                    "baseServerName": null,
                                    "baseTableName": null,
                                    "columnName": "count",
                                    "columnOrdinal": 0,
                                    "columnSize": 8,
                                    "dataType": "int8",
                                    "isAliased": null,
                                    "isAutoIncrement": null,
                                    "isExpression": null,
                                    "isHidden": null,
                                    "isIdentity": null,
                                    "isKey": null,
                                    "isReadOnly": false,
                                    "isUnique": null,
                                    "isUpdatable": false,
                                    "numericPrecision": null,
                                    "numericScale": null
                                }
                            ],
                            "complete": true,
                            "id": 0,
                            "rowCount": 1
                        }
                    },
                    "execution_count": 30,
                    "data": {
                        "application/vnd.dataresource+json": {
                            "schema": {
                                "fields": [
                                    {
                                        "name": "count"
                                    }
                                ]
                            },
                            "data": []
                        },
                        "text/html": [
                            "<table>",
                            "<tr><th>count</th></tr>",
                            "</table>"
                        ]
                    }
                }
            ],
            "execution_count": 30
        },
        {
            "cell_type": "code",
            "source": [
                "select count(*)\n",
                "from movie\n",
                "where year=1920 or year=1924 or year=1928 or year=1932 or year=1936 or year=1940 or year=1944 or year=1948;"
            ],
            "metadata": {
                "azdata_cell_guid": "0241308c-ee90-41b9-81b0-5822af1a5326"
            },
            "outputs": [
                {
                    "output_type": "display_data",
                    "data": {
                        "text/html": "(1 row(s) affected)"
                    },
                    "metadata": {}
                },
                {
                    "output_type": "display_data",
                    "data": {
                        "text/html": "Total execution time: 00:00:00.020"
                    },
                    "metadata": {}
                },
                {
                    "output_type": "execute_result",
                    "metadata": {
                        "resultSet": {
                            "batchId": 0,
                            "columnInfo": [
                                {
                                    "allowDbNull": null,
                                    "baseCatalogName": null,
                                    "baseColumnName": "count",
                                    "baseSchemaName": null,
                                    "baseServerName": null,
                                    "baseTableName": null,
                                    "columnName": "count",
                                    "columnOrdinal": 0,
                                    "columnSize": 8,
                                    "dataType": "int8",
                                    "isAliased": null,
                                    "isAutoIncrement": null,
                                    "isExpression": null,
                                    "isHidden": null,
                                    "isIdentity": null,
                                    "isKey": null,
                                    "isReadOnly": false,
                                    "isUnique": null,
                                    "isUpdatable": false,
                                    "numericPrecision": null,
                                    "numericScale": null
                                }
                            ],
                            "complete": true,
                            "id": 0,
                            "rowCount": 1
                        }
                    },
                    "execution_count": 31,
                    "data": {
                        "application/vnd.dataresource+json": {
                            "schema": {
                                "fields": [
                                    {
                                        "name": "count"
                                    }
                                ]
                            },
                            "data": []
                        },
                        "text/html": [
                            "<table>",
                            "<tr><th>count</th></tr>",
                            "</table>"
                        ]
                    }
                }
            ],
            "execution_count": 31
        },
        {
            "cell_type": "markdown",
            "source": [
                "## Improving performance with indexes\n",
                "\n",
                "By indexing columns we can improve caching of much used data as well as providing fast small range and point lookup times.\n",
                "\n",
                "Historically DBMS performance has suffered from having to read in random order, and having to read the same page often. Even on an SSD we may have to do more IO on random reads because we can only fetch a page at a time from disk.\n",
                "\n",
                "If we have no indexes, we need to do <strong>full table scans</strong> to filter our data, we say that a full table scan makes sense if we return 80% of the relation.\n",
                "\n",
                "When we do <strong>point queries</strong> or selective <strong>range queries</strong> however, having to do a full table scan is orders of growth slower, since we could easily do this lightning fast using search algorithms.\n",
                "\n",
                "We can speed up range queries by way of an index-scan, we can speed up point queries by way of index-lookups.\n",
                "\n",
                "We can implement indexes in a disk-page optimized way using B+ trees.\n",
                "\n",
                "Primary / secondary indices - indices for primary keys and any column constrained by uniqueness\n",
                "\n",
                "Clustered / unclustered indices - data order is identical to index order / data order is not necessarily order of index, this can affect performance greatly because of the effect on random/sequential IO.\n",
                "\n",
                "## CLUSTERING IS VERY IMPORTANT\n",
                "\n",
                "Unclustered indices are fine for point queries, but generally clustered implies more sequential IO which means less IOs (because prefetching will grab a page at a time and you will avoid having to read the same page more than once due to unlucky prefetches).\n",
                "\n",
                "<br>\n",
                "\n",
                "### Retrieve M records, where M small:\n",
                "\n",
                "Clustered - Probably 1 read\n",
                "\n",
                "Unclustered - Probably M random reads\n",
                "\n",
                "### Retrieve M recores, where M large:\n",
                "Clustered - Probably M/pages sequental reads\n",
                "\n",
                "Unclustered - probably M random reads\n",
                "\n",
                ""
            ],
            "metadata": {
                "azdata_cell_guid": "db4e1f20-57d9-4a56-862f-ef2114fc9746"
            }
        }
    ]
}
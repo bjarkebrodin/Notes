{
 "cells": [
  {
   "cell_type": "markdown",
   "metadata": {},
   "source": [
    "##### BJARKE BRODIN - C# 2020"
   ]
  },
  {
   "cell_type": "markdown",
   "metadata": {},
   "source": [
    "# Object-Orientation in C#"
   ]
  },
  {
   "cell_type": "markdown",
   "metadata": {},
   "source": [
    "## Classes"
   ]
  },
  {
   "cell_type": "code",
   "execution_count": 11,
   "metadata": {},
   "outputs": [],
   "source": [
    "public abstract class Person \n",
    "{\n",
    "    public int Age { get; set; }\n",
    "    public string Name { get; set; }\n",
    "    public Person(string name, int age)\n",
    "    {\n",
    "        Name = name;\n",
    "        Age = age;\n",
    "    }\n",
    "    public string Call() {\n",
    "        return $\"Hello, this is {Name}\";\n",
    "    }\n",
    "}"
   ]
  },
  {
   "cell_type": "code",
   "execution_count": 13,
   "metadata": {},
   "outputs": [],
   "source": [
    "public class Student : Person\n",
    "{\n",
    "    public Student(string name, int age) \n",
    "    : base(name,age)\n",
    "    {}\n",
    "    public new string Call() {\n",
    "        return $\"This is {base.Name}, go away, im busy!\";\n",
    "    }\n",
    "}"
   ]
  },
  {
   "cell_type": "code",
   "execution_count": 18,
   "metadata": {},
   "outputs": [
    {
     "name": "stdout",
     "output_type": "stream",
     "text": [
      "This is Bjarke, go away, im busy!"
     ]
    }
   ],
   "source": [
    "Console.Write(new Student(\"Bjarke\", 26).Call());"
   ]
  },
  {
   "cell_type": "code",
   "execution_count": null,
   "metadata": {},
   "outputs": [],
   "source": []
  }
 ],
 "metadata": {
  "kernelspec": {
   "display_name": ".NET (C#)",
   "language": "C#",
   "name": ".net-csharp"
  },
  "language_info": {
   "file_extension": ".cs",
   "mimetype": "text/x-csharp",
   "name": "C#",
   "pygments_lexer": "csharp",
   "version": "8.0"
  }
 },
 "nbformat": 4,
 "nbformat_minor": 4
}

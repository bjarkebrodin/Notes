{
 "cells": [
  {
   "cell_type": "code",
   "execution_count": 5,
   "id": "fancy-glory",
   "metadata": {},
   "outputs": [],
   "source": [
    "import numpy as np\n",
    "import pandas as pd"
   ]
  },
  {
   "cell_type": "code",
   "execution_count": 2,
   "id": "announced-device",
   "metadata": {},
   "outputs": [],
   "source": [
    "data = [15, 16, 18, 19, 22, 24, 29, 30, 34]"
   ]
  },
  {
   "cell_type": "code",
   "execution_count": 3,
   "id": "armed-color",
   "metadata": {},
   "outputs": [
    {
     "name": "stdout",
     "output_type": "stream",
     "text": [
      "Mean: 23.0\n",
      "Median: 22.0\n",
      "50th percentile: 22.0\n",
      "25th percentile: 18.0\n",
      "75th percentile: 29.0\n",
      "Std deviation: 6.342099196813483\n",
      "varianca: 40.22222222222222\n"
     ]
    }
   ],
   "source": [
    "print('Mean:', np.mean(data))\n",
    "print('Median:', np.median(data))\n",
    "print('50th percentile:', np.percentile(data,50))\n",
    "print('25th percentile:', np.percentile(data,25))\n",
    "print('75th percentile:', np.percentile(data,75))\n",
    "print('Std deviation:', np.std(data))\n",
    "print('varianca:', np.var(data))"
   ]
  },
  {
   "cell_type": "code",
   "execution_count": 6,
   "id": "retired-pizza",
   "metadata": {},
   "outputs": [
    {
     "name": "stdout",
     "output_type": "stream",
     "text": [
      "   Survived  Pclass     Sex   Age  Siblings/Spouses  Parents/Children     Fare\n",
      "0         0       3    male  22.0                 1                 0   7.2500\n",
      "1         1       1  female  38.0                 1                 0  71.2833\n",
      "2         1       3  female  26.0                 0                 0   7.9250\n",
      "3         1       1  female  35.0                 1                 0  53.1000\n",
      "4         0       3    male  35.0                 0                 0   8.0500\n"
     ]
    }
   ],
   "source": [
    "df = pd.read_csv('https://sololearn.com/uploads/files/titanic.csv')\n",
    "print(df.head())"
   ]
  },
  {
   "cell_type": "code",
   "execution_count": 7,
   "id": "wrapped-mixture",
   "metadata": {},
   "outputs": [
    {
     "name": "stdout",
     "output_type": "stream",
     "text": [
      "         Survived      Pclass         Age  Siblings/Spouses  Parents/Children  \\\n",
      "count  887.000000  887.000000  887.000000        887.000000        887.000000   \n",
      "mean     0.385569    2.305524   29.471443          0.525366          0.383315   \n",
      "std      0.487004    0.836662   14.121908          1.104669          0.807466   \n",
      "min      0.000000    1.000000    0.420000          0.000000          0.000000   \n",
      "25%      0.000000    2.000000   20.250000          0.000000          0.000000   \n",
      "50%      0.000000    3.000000   28.000000          0.000000          0.000000   \n",
      "75%      1.000000    3.000000   38.000000          1.000000          0.000000   \n",
      "max      1.000000    3.000000   80.000000          8.000000          6.000000   \n",
      "\n",
      "            Fare  \n",
      "count  887.00000  \n",
      "mean    32.30542  \n",
      "std     49.78204  \n",
      "min      0.00000  \n",
      "25%      7.92500  \n",
      "50%     14.45420  \n",
      "75%     31.13750  \n",
      "max    512.32920  \n"
     ]
    }
   ],
   "source": [
    "print(df.describe())"
   ]
  },
  {
   "cell_type": "code",
   "execution_count": 12,
   "id": "cross-simon",
   "metadata": {},
   "outputs": [
    {
     "name": "stdout",
     "output_type": "stream",
     "text": [
      "<class 'pandas.core.series.Series'>\n"
     ]
    }
   ],
   "source": [
    "print(type(df['Age']))"
   ]
  },
  {
   "cell_type": "code",
   "execution_count": 13,
   "id": "sensitive-logic",
   "metadata": {},
   "outputs": [
    {
     "name": "stdout",
     "output_type": "stream",
     "text": [
      "      Age  Survived\n",
      "0    22.0         0\n",
      "1    38.0         1\n",
      "2    26.0         1\n",
      "3    35.0         1\n",
      "4    35.0         0\n",
      "..    ...       ...\n",
      "882  27.0         0\n",
      "883  19.0         1\n",
      "884   7.0         0\n",
      "885  26.0         1\n",
      "886  32.0         0\n",
      "\n",
      "[887 rows x 2 columns]\n"
     ]
    }
   ],
   "source": [
    "print(df[['Age','Survived']])"
   ]
  },
  {
   "cell_type": "code",
   "execution_count": 14,
   "id": "leading-sheffield",
   "metadata": {},
   "outputs": [
    {
     "name": "stdout",
     "output_type": "stream",
     "text": [
      "              Age    Survived\n",
      "count  887.000000  887.000000\n",
      "mean    29.471443    0.385569\n",
      "std     14.121908    0.487004\n",
      "min      0.420000    0.000000\n",
      "25%     20.250000    0.000000\n",
      "50%     28.000000    0.000000\n",
      "75%     38.000000    1.000000\n",
      "max     80.000000    1.000000\n"
     ]
    }
   ],
   "source": [
    "print(df[['Age','Survived']].describe())"
   ]
  },
  {
   "cell_type": "code",
   "execution_count": null,
   "id": "female-privacy",
   "metadata": {},
   "outputs": [],
   "source": []
  }
 ],
 "metadata": {
  "kernelspec": {
   "display_name": "Python 3",
   "language": "python",
   "name": "python3"
  },
  "language_info": {
   "codemirror_mode": {
    "name": "ipython",
    "version": 3
   },
   "file_extension": ".py",
   "mimetype": "text/x-python",
   "name": "python",
   "nbconvert_exporter": "python",
   "pygments_lexer": "ipython3",
   "version": "3.9.1"
  }
 },
 "nbformat": 4,
 "nbformat_minor": 5
}

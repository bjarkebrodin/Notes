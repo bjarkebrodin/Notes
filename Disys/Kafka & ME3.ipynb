{
 "cells": [
  {
   "cell_type": "markdown",
   "metadata": {},
   "source": [
    "##### BJARKE BRODIN - DISYS 2020"
   ]
  },
  {
   "cell_type": "markdown",
   "metadata": {},
   "source": [
    "# Apache Kafka & ME 3"
   ]
  },
  {
   "cell_type": "markdown",
   "metadata": {},
   "source": [
    "I here consider Apache Kafka, a library for event streaming, and work on an exercise on replication in distributed systems (using Kafka).\n",
    "\n",
    "[Exercise](https://learnit.itu.dk/mod/assign/view.php?id=128563)"
   ]
  },
  {
   "cell_type": "markdown",
   "metadata": {},
   "source": [
    "## Apache Kafka\n",
    "\n",
    "[Docs](https://kafka.apache.org/documentation)\n"
   ]
  },
  {
   "cell_type": "markdown",
   "metadata": {},
   "source": [
    "A.\n",
    "\n",
    "Your team has been hired to help a company that is implementing an online auction system. Clients want to propose bids on objects, and the highest bidder within a specified timeframe, ends up as the winner of the auction.\n",
    "\n",
    "\n",
    "A1: Propose a communication protocol for the system (there is no unique solution!)\n",
    "\n",
    "\n",
    "The companys architect team has decided to use an open source streaming platform: Apache Kafka. See documentation here: https://kafka.apache.org/documentation/\n",
    "\n",
    "Based on the available Kafka documentation, reason \n",
    "\n",
    "A2: How many nodes should be setup (there is no unique solution!)\n",
    "\n",
    "A3: What network topology you are recommending (there is no unique solution!)\n",
    "\n",
    "A4: how to configure the value Minimum In Sync Replicas  \n",
    "\n",
    "\n",
    "B.\n",
    "\n",
    "Install and configure a Kafka cluster, with a minimum of 3 nodes.\n",
    "\n",
    "Reason, based on observing the system log, when sending messages and crashing nodes:\n",
    "\n",
    "B1: Describe the leader election process (cf. Coordination lectures)\n",
    "\n",
    "B2: Is it an active or passive replication architecture \n",
    "\n",
    "B3: Is your setup sequentially consistent?\n",
    "\n",
    "B4: Is your setup linearizable?\n",
    "\n",
    "\n",
    "\n",
    "C.\n",
    "\n",
    "Reason about failures in your proposed system setup\n",
    "\n",
    "C1: What fault tolerance does your system setup guarantee\n",
    "\n",
    "C2: What happens in case of the network failure\n",
    "\n",
    "C3: What happens in case of a node failure\n",
    "\n",
    "C4: How many nodes can fail before availability of the system is impacted\n",
    "\n",
    "C5: How many nodes can fail before fault tolerance of the system is impacted"
   ]
  },
  {
   "cell_type": "code",
   "execution_count": null,
   "metadata": {},
   "outputs": [],
   "source": []
  }
 ],
 "metadata": {
  "kernelspec": {
   "display_name": "Java",
   "language": "java",
   "name": "java"
  },
  "language_info": {
   "codemirror_mode": "java",
   "file_extension": ".jshell",
   "mimetype": "text/x-java-source",
   "name": "Java",
   "pygments_lexer": "java",
   "version": "11.0.9+7-LTS"
  }
 },
 "nbformat": 4,
 "nbformat_minor": 4
}

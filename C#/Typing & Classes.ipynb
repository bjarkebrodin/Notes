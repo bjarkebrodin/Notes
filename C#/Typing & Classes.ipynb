{
 "cells": [
  {
   "cell_type": "markdown",
   "metadata": {},
   "source": [
    "##### BJARKE BRODIN - C# 2020"
   ]
  },
  {
   "cell_type": "code",
   "execution_count": 60,
   "metadata": {},
   "outputs": [],
   "source": [
    "using static System.Console;"
   ]
  },
  {
   "cell_type": "markdown",
   "metadata": {},
   "source": [
    "# Typing & Classes"
   ]
  },
  {
   "cell_type": "markdown",
   "metadata": {},
   "source": [
    "## Value types\n",
    "\n",
    "Define value types as primitives (NOT `string` and custom `struct` and `enum` types. Value types are assigned by value, that is; assigning an existing instance of a value type to a variable will copy the values of that instance. In other words the content of a value-type variable is the values held by the struct."
   ]
  },
  {
   "cell_type": "code",
   "execution_count": 51,
   "metadata": {},
   "outputs": [
    {
     "name": "stdout",
     "output_type": "stream",
     "text": [
      "Vlad Bob\n",
      "Uncle Bob\n"
     ]
    }
   ],
   "source": [
    "struct Name \n",
    "{ \n",
    "    public string First { get; set; } \n",
    "    public string Last { get; set; }\n",
    "    public void Print () => Console.WriteLine($\"{First} {Last}\");\n",
    "}\n",
    "\n",
    "Name n = new Name { First = \"Vlad\", Last = \"Bob\" };\n",
    "Name m = n; \n",
    "\n",
    "m.First = \"Uncle\";\n",
    "\n",
    "n.Print();\n",
    "m.Print();"
   ]
  },
  {
   "cell_type": "markdown",
   "metadata": {},
   "source": [
    "## Reference types\n",
    "\n",
    "Define reference types as all types except for value types. These types are split in two distinct parts: an object and a reference to said object. The content of a reference-type variable is the reference to the object; this means using a `class` (reference type) instead of a `struct` (value type) would change the semantics of the previous example."
   ]
  },
  {
   "cell_type": "code",
   "execution_count": 28,
   "metadata": {},
   "outputs": [
    {
     "name": "stdout",
     "output_type": "stream",
     "text": [
      "Uncle Bob\n",
      "Uncle Bob\n"
     ]
    }
   ],
   "source": [
    "class Name\n",
    "{\n",
    "    public string First { get; set; } \n",
    "    public string Last { get; set; }\n",
    "    public void Print () => Console.WriteLine($\"{First} {Last}\");\n",
    "}\n",
    "\n",
    "Name n = new Name { First = \"Vlad\", Last = \"Bob\" };\n",
    "Name m = n; \n",
    "\n",
    "m.First = \"Uncle\";\n",
    "\n",
    "n.Print();\n",
    "m.Print();"
   ]
  },
  {
   "cell_type": "markdown",
   "metadata": {},
   "source": [
    "## Null\n",
    "\n",
    "References can hold the value `null`, meaning that there is no reference - value-types cannot be null, unless specified as nullable."
   ]
  },
  {
   "cell_type": "code",
   "execution_count": null,
   "metadata": {
    "collapsed": true
   },
   "outputs": [
    {
     "ename": "Unhandled Exception",
     "evalue": "(1,9): error CS0037: Cannot convert null to 'int' because it is a non-nullable value type",
     "output_type": "error",
     "traceback": [
      "(1,9): error CS0037: Cannot convert null to 'int' because it is a non-nullable value type"
     ]
    }
   ],
   "source": [
    "int a = null; // compile time error"
   ]
  },
  {
   "cell_type": "code",
   "execution_count": 35,
   "metadata": {},
   "outputs": [],
   "source": [
    "int? a = null; // this is fine"
   ]
  },
  {
   "cell_type": "code",
   "execution_count": 39,
   "metadata": {},
   "outputs": [],
   "source": [
    "string a = null; // also fine"
   ]
  },
  {
   "cell_type": "markdown",
   "metadata": {},
   "source": [
    "## Overflow checks"
   ]
  },
  {
   "cell_type": "code",
   "execution_count": 61,
   "metadata": {},
   "outputs": [
    {
     "name": "stdout",
     "output_type": "stream",
     "text": [
      "-2147483648\n"
     ]
    }
   ],
   "source": [
    "int a = int.MaxValue;\n",
    "WriteLine(a+1);"
   ]
  },
  {
   "cell_type": "code",
   "execution_count": 63,
   "metadata": {
    "collapsed": true
   },
   "outputs": [
    {
     "ename": "Unhandled Exception",
     "evalue": "Arithmetic operation resulted in an overflow.",
     "output_type": "error",
     "traceback": [
      "Unhandled Exception",
      "Arithmetic operation resulted in an overflow.",
      "   at Submission#64.<<Initialize>>d__0.MoveNext()",
      "--- End of stack trace from previous location where exception was thrown ---",
      "   at Microsoft.CodeAnalysis.Scripting.ScriptExecutionState.RunSubmissionsAsync[TResult](ImmutableArray`1 precedingExecutors, Func`2 currentExecutor, StrongBox`1 exceptionHolderOpt, Func`2 catchExceptionOpt, CancellationToken cancellationToken)"
     ]
    }
   ],
   "source": [
    "checked { WriteLine(a+1); }"
   ]
  },
  {
   "cell_type": "code",
   "execution_count": 65,
   "metadata": {
    "collapsed": true
   },
   "outputs": [
    {
     "ename": "Unhandled Exception",
     "evalue": "Arithmetic operation resulted in an overflow.",
     "output_type": "error",
     "traceback": [
      "Unhandled Exception",
      "Arithmetic operation resulted in an overflow.",
      "   at Submission#66.<<Initialize>>d__0.MoveNext()",
      "--- End of stack trace from previous location where exception was thrown ---",
      "   at Microsoft.CodeAnalysis.Scripting.ScriptExecutionState.RunSubmissionsAsync[TResult](ImmutableArray`1 precedingExecutors, Func`2 currentExecutor, StrongBox`1 exceptionHolderOpt, Func`2 catchExceptionOpt, CancellationToken cancellationToken)"
     ]
    }
   ],
   "source": [
    "WriteLine( checked (a + 1) );"
   ]
  },
  {
   "cell_type": "markdown",
   "metadata": {},
   "source": [
    "## Type conversions\n",
    "\n"
   ]
  }
 ],
 "metadata": {
  "kernelspec": {
   "display_name": ".NET (C#)",
   "language": "C#",
   "name": ".net-csharp"
  },
  "language_info": {
   "file_extension": ".cs",
   "mimetype": "text/x-csharp",
   "name": "C#",
   "pygments_lexer": "csharp",
   "version": "8.0"
  }
 },
 "nbformat": 4,
 "nbformat_minor": 4
}

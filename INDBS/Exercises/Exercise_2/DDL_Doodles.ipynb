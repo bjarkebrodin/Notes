{
    "metadata": {
        "kernelspec": {
            "name": "SQL",
            "display_name": "SQL",
            "language": "sql"
        },
        "language_info": {
            "name": "sql",
            "version": ""
        }
    },
    "nbformat_minor": 2,
    "nbformat": 4,
    "cells": [
        {
            "cell_type": "code",
            "source": [
                "create table gender (\n",
                "    gender char(1) primary key,\n",
                "    description text not null\n",
                ");\n",
                "\n",
                "create table people (\n",
                "    id serial primary key,\n",
                "    name varchar(50) not null,\n",
                "    height integer not null,\n",
                "    gender varchar(1) references gender(gender)\n",
                ");\n",
                "\n",
                "create table sport (\n",
                "    id serial primary key,\n",
                "    name varchar(50) not null, \n",
                "    record real\n",
                ");\n",
                "\n",
                "create table competition (\n",
                "    id serial primary key,\n",
                "    place varchar(50) not null,\n",
                "    held date not null\n",
                ");\n",
                "\n",
                "create table results (\n",
                "    result real,\n",
                "    sid integer references sport(id),\n",
                "    cid integer references competition(id),\n",
                "    pid integer references people(id),\n",
                "    primary key (sid,cid,pid)\n",
                ");"
            ],
            "metadata": {
                "azdata_cell_guid": "f28aad7a-e072-44d2-bfdf-96bfe1164bc4"
            },
            "outputs": [],
            "execution_count": null
        }
    ]
}
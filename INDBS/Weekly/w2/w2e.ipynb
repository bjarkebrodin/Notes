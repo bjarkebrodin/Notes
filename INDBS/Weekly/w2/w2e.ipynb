{
    "metadata": {
        "kernelspec": {
            "name": "SQL",
            "display_name": "SQL",
            "language": "sql"
        },
        "language_info": {
            "name": "sql",
            "version": ""
        }
    },
    "nbformat_minor": 2,
    "nbformat": 4,
    "cells": [
        {
            "cell_type": "code",
            "source": [
                "-- 1\r\n",
                "select name, record\r\n",
                "from sports\r\n",
                "order by name;"
            ],
            "metadata": {
                "azdata_cell_guid": "3bc10a48-6920-4023-b7ba-bb7f7b8164ed"
            },
            "outputs": [],
            "execution_count": null
        },
        {
            "cell_type": "code",
            "source": [
                "-- 1 Refactor\r\n",
                "select Name, Record \r\n",
                "from Sports order by name;"
            ],
            "metadata": {
                "azdata_cell_guid": "3e032bcb-f0f1-4559-a7af-eadd4220acfe"
            },
            "outputs": [],
            "execution_count": null
        },
        {
            "cell_type": "code",
            "source": [
                "-- 2\r\n",
                "select distinct s.name\r\n",
                "from results r\r\n",
                "join sports s\r\n",
                "on s.id = r.sportid;"
            ],
            "metadata": {
                "azdata_cell_guid": "c9f65616-8a00-454d-9ef4-e41cda4907fb",
                "tags": []
            },
            "outputs": [],
            "execution_count": null
        },
        {
            "cell_type": "code",
            "source": [
                "-- 2 Refactor\r\n",
                "select distinct S.name\r\n",
                "from Results R\r\n",
                "join Sports S on S.id = R.sportid;"
            ],
            "metadata": {
                "azdata_cell_guid": "1058e381-a4fc-40c9-be3f-480d6d4a601b"
            },
            "outputs": [],
            "execution_count": null
        },
        {
            "cell_type": "code",
            "source": [
                "-- 3\r\n",
                "select count(distinct peopleid)\r\n",
                "from results;"
            ],
            "metadata": {
                "azdata_cell_guid": "fb7fd860-9057-4201-8075-442185cc0a8b"
            },
            "outputs": [],
            "execution_count": null
        },
        {
            "cell_type": "code",
            "source": [
                "-- 4\r\n",
                "select p.id, p.name \r\n",
                "from (\r\n",
                "    select r.peopleid as id\r\n",
                "    from results r\r\n",
                "    group by r.peopleid\r\n",
                "    having count(r.peopleid) >= 20\r\n",
                ") as r \r\n",
                "join people p \r\n",
                "on p.id = r.id;"
            ],
            "metadata": {
                "azdata_cell_guid": "b63f4638-7704-4aab-9139-a904bceb7042"
            },
            "outputs": [],
            "execution_count": null
        },
        {
            "cell_type": "code",
            "source": [
                "-- 5\r\n",
                "select distinct p.id, p.name, g.description\r\n",
                "from sports s\r\n",
                "join results r \r\n",
                "on s.id = r.sportid\r\n",
                "and s.record = r.result\r\n",
                "join people p \r\n",
                "on r.peopleid = p.id \r\n",
                "join gender g \r\n",
                "on p.gender = g.gender;"
            ],
            "metadata": {
                "azdata_cell_guid": "e63cc7a7-403c-4922-a054-0d19cb70f32f",
                "tags": []
            },
            "outputs": [],
            "execution_count": null
        },
        {
            "cell_type": "code",
            "source": [
                "-- 6\r\n",
                "select s.name, count(distinct r.peopleid) as numathletes\r\n",
                "from sports s \r\n",
                "join results r \r\n",
                "on s.record = r.result \r\n",
                "and s.id = r.sportid \r\n",
                "group by s.name;"
            ],
            "metadata": {
                "azdata_cell_guid": "5af7540a-c867-485e-b4bd-f344d55255d4",
                "tags": []
            },
            "outputs": [],
            "execution_count": null
        },
        {
            "cell_type": "code",
            "source": [
                "-- 7\r\n",
                "select p.id, p.name, r.best, r.difference \r\n",
                "from (\r\n",
                "    select \r\n",
                "        r.peopleid as id, \r\n",
                "        max(r.result) as best, \r\n",
                "        to_char(s.record-max(r.result), '0D99') as difference\r\n",
                "    from results r \r\n",
                "    join sports s\r\n",
                "    on s.name like 'Triple Jump'\r\n",
                "    and s.id = r.sportid\r\n",
                "    group by r.peopleid, s.record\r\n",
                "    having count(r.peopleid) >= 20\r\n",
                ") as r\r\n",
                "join people p \r\n",
                "on r.id = p.id;"
            ],
            "metadata": {
                "azdata_cell_guid": "b124d946-5ce0-4c11-b1a3-0157ce799a84"
            },
            "outputs": [],
            "execution_count": null
        },
        {
            "cell_type": "code",
            "source": [
                "-- 8\r\n",
                "select distinct p.id, p.name, g.description \r\n",
                "from (\r\n",
                "    select c.id from competitions c\r\n",
                "    where c.place like 'Hvide Sande'\r\n",
                "    and extract(year from c.held) = 2009\r\n",
                ") as c\r\n",
                "join results r \r\n",
                "on c.id = r.competitionid\r\n",
                "join people p \r\n",
                "on r.peopleid = p.id\r\n",
                "join gender g \r\n",
                "on g.gender = p.gender;"
            ],
            "metadata": {
                "azdata_cell_guid": "c4a32082-a84d-4c73-af63-b3dc2c502ada",
                "tags": []
            },
            "outputs": [],
            "execution_count": null
        },
        {
            "cell_type": "code",
            "source": [
                "-- 9\r\n",
                "select p.name, g.description\r\n",
                "from people p\r\n",
                "join gender g \r\n",
                "on g.gender = p.gender\r\n",
                "and p.name like '% J%sen'; "
            ],
            "metadata": {
                "azdata_cell_guid": "3d11b491-a3db-4659-9c2a-23931c2fc9ca"
            },
            "outputs": [],
            "execution_count": null
        },
        {
            "cell_type": "code",
            "source": [
                "-- 10\r\n",
                "select \r\n",
                "    p.name, \r\n",
                "    s.name, \r\n",
                "    case when r.result is null then to_char(0,'999%')\r\n",
                "    else to_char(100*(r.result/s.record),'999%') end as percentage\r\n",
                "from sports s \r\n",
                "join results r \r\n",
                "on s.id = r.sportid\r\n",
                "join people p \r\n",
                "on r.peopleid = p.id;"
            ],
            "metadata": {
                "azdata_cell_guid": "002d0978-1f86-4ca9-b7f3-5dfd8eb45816"
            },
            "outputs": [],
            "execution_count": null
        },
        {
            "cell_type": "code",
            "source": [
                "-- 11\r\n",
                "select count(distinct r.peopleid)\r\n",
                "from results r\r\n",
                "where result is null;"
            ],
            "metadata": {
                "azdata_cell_guid": "293fac0d-90a0-4cf9-9b0a-fe1a96bca9d7"
            },
            "outputs": [],
            "execution_count": null
        },
        {
            "cell_type": "code",
            "source": [
                "-- 12\r\n",
                "select s.id, s.name, to_char(max(r.result), '999D99') as maxres \r\n",
                "from sports s \r\n",
                "join results r \r\n",
                "on s.id = r.sportid\r\n",
                "group by s.id, s.name\r\n",
                "order by s.id;"
            ],
            "metadata": {
                "azdata_cell_guid": "c82e7a2a-8502-4e70-b91d-18ffc4d424be",
                "tags": []
            },
            "outputs": [],
            "execution_count": null
        },
        {
            "cell_type": "code",
            "source": [
                "-- 13\r\n",
                "select p.id, p.name, r.records\r\n",
                "from (\r\n",
                "    select r.peopleid as id, count(s.id) as records\r\n",
                "    from results r\r\n",
                "    join sports s \r\n",
                "    on r.result = s.record\r\n",
                "    and s.id = r.sportid\r\n",
                "    group by r.peopleid\r\n",
                "    having count(distinct s.id) >= 2\r\n",
                ") as r\r\n",
                "join people p\r\n",
                "on r.id = p.id;"
            ],
            "metadata": {
                "azdata_cell_guid": "417e5f2d-3da2-464d-9b1e-abce189dbbb4"
            },
            "outputs": [],
            "execution_count": null
        },
        {
            "cell_type": "code",
            "source": [
                "-- 14\r\n",
                "drop view if exists max_results;\r\n",
                "create view max_results as\r\n",
                "select sportid, max(result) as result\r\n",
                "from results\r\n",
                "where result is not null\r\n",
                "group by sportid;\r\n",
                "\r\n",
                "select \r\n",
                "    r.peopleid,\r\n",
                "    p.name,\r\n",
                "    p.height,\r\n",
                "    r.result,\r\n",
                "    s.name, \r\n",
                "    case when r.result = s.record \r\n",
                "        then 'yes'\r\n",
                "        else 'no' \r\n",
                "    end as record\r\n",
                "\r\n",
                "from max_results mr\r\n",
                "join sports s \r\n",
                "on mr.sportid = s.id\r\n",
                "join results r\r\n",
                "on mr.result = r.result\r\n",
                "and mr.sportid = r.sportid\r\n",
                "join people p \r\n",
                "on p.id = r.peopleid \r\n",
                "group by (r.peopleid, p.name, p.height, r.result, s.name, s.record);"
            ],
            "metadata": {
                "azdata_cell_guid": "8d4d0b5c-194a-41e3-a1f0-629e3cc27a40"
            },
            "outputs": [],
            "execution_count": null
        },
        {
            "cell_type": "code",
            "source": [
                "-- 15\r\n",
                "select p.id, p.name\r\n",
                "from results r\r\n",
                "right outer join people p\r\n",
                "on r.peopleid = p.id\r\n",
                "where competitionid is null;"
            ],
            "metadata": {
                "azdata_cell_guid": "98587b79-eefd-4287-a6cd-43616cf5f6aa"
            },
            "outputs": [],
            "execution_count": null
        },
        {
            "cell_type": "code",
            "source": [
                "-- 16\r\n",
                "select distinct id, name from \r\n",
                "(\r\n",
                "    select p.id, p.name\r\n",
                "    from sports s \r\n",
                "    join results r\r\n",
                "    on s.name like 'High Jump'\r\n",
                "    and s.id = r.sportid\r\n",
                "    and s.record = r.result\r\n",
                "    join people p\r\n",
                "    on r.peopleid = p.id\r\n",
                ") record_holders\r\n",
                "union\r\n",
                "( \r\n",
                "    select p.id, p.name\r\n",
                "    from competitions c\r\n",
                "    join results r\r\n",
                "    on c.id = r.competitionid\r\n",
                "    and extract(year from c.held) = 2002\r\n",
                "    AND extract(MONTH FROM c.held) = 6\r\n",
                "    join people p\r\n",
                "    on r.peopleid = p.id \r\n",
                ");"
            ],
            "metadata": {
                "azdata_cell_guid": "169e9ad8-2b4c-42e9-b5e9-b53acf3dc472"
            },
            "outputs": [],
            "execution_count": null
        },
        {
            "cell_type": "code",
            "source": [
                "-- 17\r\n",
                "select ppl.id, ppl.name from\r\n",
                "(\r\n",
                "    select peopleid as id\r\n",
                "    from results r\r\n",
                "    group by r.peopleid\r\n",
                "    having count(distinct r.sportid) = 1\r\n",
                ") p\r\n",
                "join results r\r\n",
                "on r.peopleid = p.id\r\n",
                "and r.result = (select record from sports where id = r.sportid)\r\n",
                "join people ppl\r\n",
                "on ppl.id = p.id;"
            ],
            "metadata": {
                "azdata_cell_guid": "564b02c2-bc49-4c87-a140-662189594fd6"
            },
            "outputs": [],
            "execution_count": null
        },
        {
            "cell_type": "code",
            "source": [
                "-- 18\r\n",
                "select count(*) from (\r\n",
                "    select r.peopleid\r\n",
                "    from results r \r\n",
                "    join competitions c\r\n",
                "    on r.competitionid = c.id\r\n",
                "    group by r.peopleid\r\n",
                "    having count(distinct c.place) >= 10\r\n",
                ") p;"
            ],
            "metadata": {
                "azdata_cell_guid": "a48f5311-493a-4dda-a38a-2f3d29b15bd8",
                "tags": []
            },
            "outputs": [],
            "execution_count": null
        },
        {
            "cell_type": "code",
            "source": [
                "-- 19\r\n",
                "select p.id, p.name from\r\n",
                "( \r\n",
                "    select r.peopleid\r\n",
                "    from sports s\r\n",
                "    join results r \r\n",
                "    on s.record = r.result\r\n",
                "    group by r.peopleid\r\n",
                "    having count(distinct s.id) = (select count(distinct id) from sports)\r\n",
                ") r\r\n",
                "join people p\r\n",
                "on r.peopleid = p.id;"
            ],
            "metadata": {
                "azdata_cell_guid": "dfb920d1-3ece-434c-a1bb-4e89e64e0933",
                "tags": []
            },
            "outputs": [],
            "execution_count": null
        },
        {
            "cell_type": "code",
            "source": [
                "-- 20\r\n",
                "select S.id, S.name, S.record, min(R.result)\r\n",
                "from Sports S\r\n",
                "    join Results R on S.id = R.sportid\r\n",
                "    join Competitions C on R.competitionid = C.id\r\n",
                "group by S.id\r\n",
                "having count(distinct C.place) = (\r\n",
                "    select count(distinct place)\r\n",
                "    from Competitions\r\n",
                ");"
            ],
            "metadata": {
                "azdata_cell_guid": "e7748b15-e579-4b6a-bde4-c460468cd160"
            },
            "outputs": [],
            "execution_count": null
        }
    ]
}
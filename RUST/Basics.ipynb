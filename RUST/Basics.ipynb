{
 "cells": [
  {
   "cell_type": "markdown",
   "metadata": {},
   "source": [
    "## Rust"
   ]
  },
  {
   "cell_type": "raw",
   "metadata": {},
   "source": [
    "println!(\"Hello, World!\");\r\n",
    "fn hello() { println!(\"Hello, World!\"); }\r\n",
    "hello();"
   ]
  },
  {
   "cell_type": "raw",
   "metadata": {},
   "source": [
    "fn main() {\r\n",
    "    // entry point\r\n",
    "}"
   ]
  },
  {
   "cell_type": "markdown",
   "metadata": {},
   "source": [
    "Built-in build-tool: cargo"
   ]
  },
  {
   "cell_type": "raw",
   "metadata": {},
   "source": [
    "let foo = 42; // immutable\r\n",
    "let mut bar = 42; // mutable"
   ]
  }
 ],
 "metadata": {
  "kernelspec": {
   "display_name": "Rust",
   "name": "rust"
  },
  "language_info": {
   "codemirror_mode": "rust",
   "file_extension": ".rs",
   "mimetype": "text/rust",
   "name": "Rust",
   "pygment_lexer": "rust",
   "version": ""
  },
  "orig_nbformat": 2
 },
 "nbformat": 4,
 "nbformat_minor": 2
}
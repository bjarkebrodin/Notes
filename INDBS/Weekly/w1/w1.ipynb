{
    "metadata": {
        "kernelspec": {
            "name": "SQL",
            "display_name": "SQL",
            "language": "sql"
        },
        "language_info": {
            "name": "sql",
            "version": ""
        }
    },
    "nbformat_minor": 2,
    "nbformat": 4,
    "cells": [
        {
            "cell_type": "markdown",
            "source": [
                "##### BJARKE BRODIN - INDBS 2020"
            ],
            "metadata": {
                "azdata_cell_guid": "5d604de4-fd2b-434a-a803-f86bf0093e85"
            }
        },
        {
            "cell_type": "markdown",
            "source": [
                "        "
            ],
            "metadata": {
                "azdata_cell_guid": "6328b983-265c-4c41-ba45-f21c55324c91"
            }
        },
        {
            "cell_type": "markdown",
            "source": [
                "# Relational data model\n",
                "\n",
                "For working with data there are several useful models, most prevalent is the relational database model. Implemented popularly by the SQL (SEQUEL) specification. Alternative database models today are mostly referred to categorically as NoSQL, and include object oriented models. These have some interesting distributions such as MongoDB among others. This course considers mostly SQL using the PostgreSQL distribution."
            ],
            "metadata": {
                "azdata_cell_guid": "11742a8a-4591-4a0a-aadb-d0aa00d9ae4e"
            }
        },
        {
            "cell_type": "markdown",
            "source": [
                "## PostgreSQL"
            ],
            "metadata": {
                "azdata_cell_guid": "779d0756-c3a7-457d-ab59-2819cbc6e84d"
            }
        }
    ]
}
{
    "metadata": {
        "kernelspec": {
            "name": "SQL",
            "display_name": "SQL",
            "language": "sql"
        },
        "language_info": {
            "name": "sql",
            "version": ""
        }
    },
    "nbformat_minor": 2,
    "nbformat": 4,
    "cells": [
        {
            "cell_type": "code",
            "source": [
                "-- Clean\n",
                "drop table if exists frequents;\n",
                "drop table if exists sells;\n",
                "drop table if exists likes;\n",
                "drop table if exists coffees;\n",
                "drop table if exists coffeehouses;\n",
                "drop table if exists drinkers;\n",
                "\n",
                "drop domain if exists namestring;\n",
                "drop domain if exists address_string;\n",
                "\n",
                "-- Domains\n",
                "create domain namestring as VARCHAR(50);\n",
                "create domain address_string as VARCHAR(100);\n",
                "\n",
                "-- Tables \n",
                "create table coffees (\n",
                "    name namestring primary key,\n",
                "    manufacturer namestring not null\n",
                ");\n",
                "\n",
                "create table coffeehouses (\n",
                "    name namestring primary key,\n",
                "    address address_string not null,\n",
                "    license varchar(50)\n",
                ");\n",
                "\n",
                "create table drinkers (\n",
                "    name namestring primary key,\n",
                "    address address_string not null,\n",
                "    phone INTEGER not null\n",
                ");\n",
                "\n",
                "create table likes (\n",
                "    drinker namestring references drinkers(name),\n",
                "    coffee namestring references coffees(name),\n",
                "    primary key (drinker, coffee)\n",
                ");\n",
                "\n",
                "create table sells (\n",
                "    coffeehouse namestring references coffeehouses(name),\n",
                "    coffee namestring references coffees(name),\n",
                "    price real check (price >= 0) not null,\n",
                "    primary key (coffeehouse, coffee)\n",
                ");\n",
                "\n",
                "create table frequents (\n",
                "    drinker namestring references drinkers(name),\n",
                "    coffeehouse namestring references coffeehouses(name),\n",
                "    primary key (drinker, coffeehouse)\n",
                ");"
            ],
            "metadata": {
                "azdata_cell_guid": "154196c4-f1a2-4fdb-afba-0061466a7570",
                "tags": [
                    "hide_input"
                ]
            },
            "outputs": [],
            "execution_count": null
        },
        {
            "cell_type": "code",
            "source": [
                "insert into coffees (name, manufacturer)\n",
                "values ('hacienda esmeralda', 'honest brazil'),\n",
                "       ('kopi luwak', 'catfood coffees');\n",
                "\n",
                "insert into coffeehouses (name, address, license)\n",
                "values ('lulsbucks', 'infinity avenue 5, usa', null),\n",
                "       ('hip coffee', 'unknown location', null);\n",
                "\n",
                "insert into drinkers (name, address, phone)\n",
                "values ('bjorn jonson', 'coolguy street 5, 1000 iceland', 32323232),\n",
                "       ('super dan', 'silicon valley 42, 1000 herp', 03030303);\n",
                "\n",
                "insert into likes (drinker, coffee)\n",
                "values ('super dan', 'hacienda esmeralda'),\n",
                "       ('bjorn jonson', 'kopi luwak');\n",
                "\n",
                "insert into sells (coffeehouse, coffee, price)\n",
                "values ('lulsbucks', 'kopi luwak', 500.7),\n",
                "       ('hip coffee', 'hacienda esmeralda', 35);\n",
                "\n",
                "insert into frequents (drinker, coffeehouse)\n",
                "values ('super dan', 'hip coffee'),\n",
                "       ('bjorn jonson', 'lulsbucks');"
            ],
            "metadata": {
                "azdata_cell_guid": "623fbef5-ee94-4a7e-b585-cded299fc600",
                "tags": [
                    "hide_input"
                ]
            },
            "outputs": [],
            "execution_count": null
        },
        {
            "cell_type": "code",
            "source": [
                "-- hello world\n",
                "select 'Hello, World!';"
            ],
            "metadata": {
                "azdata_cell_guid": "7926a6e7-fd78-442c-b5cb-c4a53bce7cd0"
            },
            "outputs": [],
            "execution_count": null
        },
        {
            "cell_type": "code",
            "source": [
                "-- basic select\n",
                "select * from coffees;"
            ],
            "metadata": {
                "azdata_cell_guid": "6f4b16aa-113d-4cf8-a1cf-949693aef457",
                "tags": []
            },
            "outputs": [],
            "execution_count": null
        },
        {
            "cell_type": "code",
            "source": [
                "select * \n",
                "from drinkers\n",
                "where name <> 'Bjorn Jonsson';"
            ],
            "metadata": {
                "azdata_cell_guid": "a1c0e918-d471-4cff-a674-b6fc08b4d846"
            },
            "outputs": [],
            "execution_count": null
        },
        {
            "cell_type": "code",
            "source": [
                "select *\n",
                "from drinkers\n",
                "where name like 'Bjorn%';"
            ],
            "metadata": {
                "azdata_cell_guid": "b4cef596-56bc-478f-88db-62805b1c2608"
            },
            "outputs": [],
            "execution_count": null
        },
        {
            "cell_type": "code",
            "source": [
                "select coffee\n",
                "from sells\n",
                "where coffee like 'Blue%' \n",
                "and price > 100;"
            ],
            "metadata": {
                "azdata_cell_guid": "ab31146c-bec9-4682-a319-3f104ea95236",
                "tags": []
            },
            "outputs": [],
            "execution_count": null
        },
        {
            "cell_type": "code",
            "source": [
                "select distinct coffee\n",
                "from sells;"
            ],
            "metadata": {
                "azdata_cell_guid": "dfbe7c1a-80b1-46cc-8885-4a0ac538c84c"
            },
            "outputs": [],
            "execution_count": null
        },
        {
            "cell_type": "code",
            "source": [
                "select distinct coffee, price\n",
                "from sells \n",
                "order by price desc;"
            ],
            "metadata": {
                "azdata_cell_guid": "42bb8df4-765f-4343-a226-de0c130048ab"
            },
            "outputs": [],
            "execution_count": null
        },
        {
            "cell_type": "code",
            "source": [
                "select distinct coffee, price\n",
                "from sells\n",
                "order by coffee asc, price desc;"
            ],
            "metadata": {
                "azdata_cell_guid": "9281c2d1-a14a-43c5-adfa-1c0c0a5da4a2"
            },
            "outputs": [],
            "execution_count": null
        },
        {
            "cell_type": "code",
            "source": [
                "select l.drinker, coffee, rating\n",
                "from likes l \n",
                "join frequents f\n",
                "on l.drinker = f.drinker;"
            ],
            "metadata": {
                "azdata_cell_guid": "6d90de7c-9674-465c-bb61-e75d507d5308"
            },
            "outputs": [],
            "execution_count": null
        },
        {
            "cell_type": "code",
            "source": [
                ""
            ],
            "metadata": {
                "azdata_cell_guid": "4ef4ea06-7758-4ef5-a5af-90729a189a8e"
            },
            "outputs": [],
            "execution_count": null
        }
    ]
}
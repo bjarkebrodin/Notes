{
    "metadata": {
        "kernelspec": {
            "name": "SQL",
            "display_name": "SQL",
            "language": "sql"
        },
        "language_info": {
            "name": "sql",
            "version": ""
        }
    },
    "nbformat_minor": 2,
    "nbformat": 4,
    "cells": [
        {
            "cell_type": "markdown",
            "source": [
                "![](data:image/png;base64,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)"
            ],
            "metadata": {
                "azdata_cell_guid": "982f9450-0b02-44a7-b778-80ac1b15339f"
            }
        },
        {
            "cell_type": "code",
            "source": [
                "select count(*)\r\n",
                "from gGarments\r\n",
                "where g_price is null;"
            ],
            "metadata": {
                "azdata_cell_guid": "c25762b2-c90f-4c6d-a810-e3b58abbb12a",
                "tags": []
            },
            "outputs": [],
            "execution_count": null
        },
        {
            "cell_type": "code",
            "source": [
                "select count(distinct G.d_Id)\r\n",
                "from gElements E\r\n",
                "join gMadeOf MO \r\n",
                "    on E.f_Id = MO.f_Id \r\n",
                "    and E.e_Element = 'Procrastinium'\r\n",
                "    and MO.mo_Percentage > 25\r\n",
                "join gGarments G \r\n",
                "    on G.g_Id = MO.g_Id;"
            ],
            "metadata": {
                "azdata_cell_guid": "f09e0acd-eec9-48bc-a55f-7380d970065d",
                "tags": []
            },
            "outputs": [],
            "execution_count": null
        },
        {
            "cell_type": "code",
            "source": [
                "select count(distinct d_Id) from (\r\n",
                "    select distinct d_Id\r\n",
                "    from gGarments\r\n",
                "    where co_Id is null\r\n",
                "    except \r\n",
                "    select distinct d_Id\r\n",
                "    from gGarments\r\n",
                "    where co_Id is not null\r\n",
                ") loners;\r\n",
                ""
            ],
            "metadata": {
                "azdata_cell_guid": "86a3a18a-a3c1-4181-b022-caa7495d84d6"
            },
            "outputs": [
                {
                    "output_type": "display_data",
                    "data": {
                        "text/html": "(1 row(s) affected)"
                    },
                    "metadata": {}
                },
                {
                    "output_type": "display_data",
                    "data": {
                        "text/html": "Total execution time: 00:00:00.009"
                    },
                    "metadata": {}
                },
                {
                    "output_type": "execute_result",
                    "metadata": {
                        "resultSet": {
                            "batchId": 0,
                            "columnInfo": [
                                {
                                    "_provider": "PGSQL",
                                    "allowDbNull": null,
                                    "baseCatalogName": null,
                                    "baseColumnName": "count",
                                    "baseSchemaName": null,
                                    "baseServerName": null,
                                    "baseTableName": null,
                                    "columnName": "count",
                                    "columnOrdinal": 0,
                                    "columnSize": 8,
                                    "dataType": "int8",
                                    "isAliased": null,
                                    "isAutoIncrement": null,
                                    "isExpression": null,
                                    "isHidden": null,
                                    "isIdentity": null,
                                    "isKey": null,
                                    "isReadOnly": false,
                                    "isUnique": null,
                                    "isUpdatable": false,
                                    "numericPrecision": null,
                                    "numericScale": null
                                }
                            ],
                            "complete": true,
                            "id": 0,
                            "rowCount": 1
                        }
                    },
                    "execution_count": 6,
                    "data": {
                        "application/vnd.dataresource+json": {
                            "schema": {
                                "fields": [
                                    {
                                        "name": "count"
                                    }
                                ]
                            },
                            "data": [
                                {
                                    "0": "2170"
                                }
                            ]
                        },
                        "text/html": [
                            "<table>",
                            "<tr><th>count</th></tr>",
                            "<tr><td>2170</td></tr>",
                            "</table>"
                        ]
                    }
                }
            ],
            "execution_count": 6
        },
        {
            "cell_type": "code",
            "source": [
                "select d_Id \r\n",
                "from gGarments \r\n",
                "group by d_Id\r\n",
                "having avg(g_Price) = (select max(xbar) from ( \r\n",
                "        select avg(g_Price) as xbar\r\n",
                "        from gGarments\r\n",
                "        group by d_Id\r\n",
                "    ) A\r\n",
                ");"
            ],
            "metadata": {
                "azdata_cell_guid": "02528e96-6cbd-407a-ae37-050f222f95e8",
                "tags": []
            },
            "outputs": [],
            "execution_count": null
        },
        {
            "cell_type": "code",
            "source": [
                "select count(f_Id)\r\n",
                "from gFabrics\r\n",
                "where f_Name like 'c%'\r\n",
                "    and f_Id in (\r\n",
                "        select f_Id\r\n",
                "        from gGarments\r\n",
                "        group by f_Id\r\n",
                "        having count(g_Id) >= 5\r\n",
                "    );\r\n",
                ""
            ],
            "metadata": {
                "azdata_cell_guid": "033faf2a-1e84-45be-9167-bf9a1455e4ab"
            },
            "outputs": [],
            "execution_count": null
        },
        {
            "cell_type": "code",
            "source": [
                "select count(*) from (\r\n",
                "    select g_Id\r\n",
                "    from gMadeOf\r\n",
                "    group by g_Id\r\n",
                "    having sum(mo_Percentage) <> 100\r\n",
                ") A;"
            ],
            "metadata": {
                "azdata_cell_guid": "35e7e915-5793-4246-9517-454f7d70ee57"
            },
            "outputs": [],
            "execution_count": null
        },
        {
            "cell_type": "code",
            "source": [
                "select count(*) from (\r\n",
                "    select G.d_Id\r\n",
                "    from gGarments G\r\n",
                "    join gHasType HT\r\n",
                "        on G.g_Id = HT.g_Id\r\n",
                "    join gTypes T \r\n",
                "        on HT.t_Id = T.t_Id\r\n",
                "        and T.t_Category = 'Dress'\r\n",
                "    group by G.d_Id\r\n",
                "        having count(distinct T.t_Name) = (\r\n",
                "            select count(*)\r\n",
                "            from gTypes\r\n",
                "            where t_Category = 'Dress'\r\n",
                "        )\r\n",
                ") A;"
            ],
            "metadata": {
                "azdata_cell_guid": "a6091465-fc2c-448a-be00-a2bb6765fddc"
            },
            "outputs": [],
            "execution_count": null
        },
        {
            "cell_type": "code",
            "source": [
                "create or replace view DesignerCountryCollabs as \r\n",
                "select a as d_Id, count(distinct D.d_Country) as count from\r\n",
                "(\r\n",
                "    select d_id as a,co_id as b\r\n",
                "    from gGarments\r\n",
                "    where d_id is not null and co_id is not null\r\n",
                "    union \r\n",
                "    select co_id as a,d_id as b\r\n",
                "    from gGarments\r\n",
                "    where co_id is not null and co_id is not null\r\n",
                ") A\r\n",
                "join gDesigners D \r\n",
                "    on A.b = D.d_id \r\n",
                "group by (a);\r\n",
                "\r\n",
                "select d_Id\r\n",
                "from DesignerCountryCollabs \r\n",
                "where count = (select max(count) from DesignerCountryCollabs);"
            ],
            "metadata": {
                "azdata_cell_guid": "410e30ba-67c1-48b1-9fc4-379489eceafd",
                "tags": []
            },
            "outputs": [],
            "execution_count": null
        }
    ]
}
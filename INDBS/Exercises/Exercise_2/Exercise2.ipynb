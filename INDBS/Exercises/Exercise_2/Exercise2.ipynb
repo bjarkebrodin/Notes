{
    "metadata": {
        "kernelspec": {
            "name": "SQL",
            "display_name": "SQL",
            "language": "sql"
        },
        "language_info": {
            "name": "sql",
            "version": ""
        }
    },
    "nbformat_minor": 2,
    "nbformat": 4,
    "cells": [
        {
            "cell_type": "code",
            "source": [
                "--1\n",
                "select  *\n",
                "from    sports\n",
                "order by name;"
            ],
            "metadata": {
                "azdata_cell_guid": "4f25a5b9-7e27-4cca-86fc-dd4ea22c1859"
            },
            "outputs": [],
            "execution_count": null
        },
        {
            "cell_type": "code",
            "source": [
                "--2 \n",
                "select  distinct S.name\n",
                "from    results R \n",
                "JOIN    sports S on R.sportid = S.id\n",
                "WHERE   R.result is not NULL;"
            ],
            "metadata": {
                "azdata_cell_guid": "92fd765f-e86b-4a07-a799-aed56f177453"
            },
            "outputs": [],
            "execution_count": null
        },
        {
            "cell_type": "code",
            "source": [
                "--3\n",
                "select  count(distinct peopleid)\n",
                "from    results;"
            ],
            "metadata": {
                "azdata_cell_guid": "e369b6cb-3d32-43ce-ab06-e3f78bd47b2e"
            },
            "outputs": [],
            "execution_count": null
        },
        {
            "cell_type": "code",
            "source": [
                "--4\n",
                "select  id, name \n",
                "from    people\n",
                "where   id in ( \n",
                "    select  peopleid as id \n",
                "    from    results\n",
                "    GROUP BY peopleid \n",
                "    having  count(*) >= 20 \n",
                ");"
            ],
            "metadata": {
                "azdata_cell_guid": "3cbefd89-aaf2-4423-9a88-9ac07694f577"
            },
            "outputs": [],
            "execution_count": null
        },
        {
            "cell_type": "code",
            "source": [
                "select  id, name \n",
                "from    people P\n",
                "join    results R\n",
                "on      P.id = R.peopleid\n",
                "group by P.id \n",
                "having  count(*) >= 20;"
            ],
            "metadata": {
                "azdata_cell_guid": "f40ef9f2-8d98-4d75-af97-dd96e7830f41"
            },
            "outputs": [],
            "execution_count": null
        },
        {
            "cell_type": "code",
            "source": [
                "create or replace view has_gt_20_results as \n",
                "select  peopleid\n",
                "FROM    (select * from results where result is not null) r\n",
                "group by peopleid\n",
                "having count(*) >= 20;\n",
                "\n",
                "select  id, name \n",
                "from    people P\n",
                "join    has_gt_20_results R \n",
                "on      R.peopleid = P.id;"
            ],
            "metadata": {
                "azdata_cell_guid": "c4640b68-1dcf-4b0d-8032-8f76c8fefbfa"
            },
            "outputs": [],
            "execution_count": null
        },
        {
            "cell_type": "code",
            "source": [
                "--5\n",
                "select  P.id, P.name, (select description from gender where gender = P.gender)\n",
                "from    results R \n",
                "join    sports S \n",
                "ON      R.sportid = S.id AND R.result = S.record\n",
                "join    people P \n",
                "ON      P.id = R.peopleid;"
            ],
            "metadata": {
                "azdata_cell_guid": "4e98cb4d-1015-41e1-8fd7-4cfbde3578e9"
            },
            "outputs": [],
            "execution_count": null
        },
        {
            "cell_type": "code",
            "source": [
                "--6\n",
                "select  S.name, count(distinct R.peopleid) as numathletes\n",
                "from    sports S \n",
                "join    results R\n",
                "on      S.record = R.result and S.id = R.sportid and S.record is not null\n",
                "group by S.name;"
            ],
            "metadata": {
                "azdata_cell_guid": "637c9bf5-9df7-4c70-9cc0-7e3ba39433dd"
            },
            "outputs": [],
            "execution_count": null
        },
        {
            "cell_type": "code",
            "source": [
                "--7\n",
                "select  \n",
                "        P.id, \n",
                "        P.name, \n",
                "        max(R.result) as best, \n",
                "        to_char(\n",
                "            (select record from sports where name like 'Triple Jump') - max(R.result)\n",
                "            , '0D99'\n",
                "         ) as difference\n",
                "from    results R \n",
                "JOIN    people P \n",
                "ON      R.peopleid = P.id and R.sportid = (select id from sports where name like 'Triple Jump')\n",
                "        and R.result is not null\n",
                "GROUP BY (P.id,P.name)\n",
                "HAVING  count(*) >= 20;"
            ],
            "metadata": {
                "azdata_cell_guid": "c6ad85e8-57aa-4202-905a-a34908e2cf3d"
            },
            "outputs": [],
            "execution_count": null
        },
        {
            "cell_type": "code",
            "source": [
                "--8\n",
                "select  distinct P.id, P.name, G.description\n",
                "from    competitions C \n",
                "join    results R on C.place = 'Hvide Sande' and extract(year from C.held) = '2009'\n",
                "        and R.competitionid = C.id\n",
                "join    people P ON P.id = R.peopleid\n",
                "join    gender G ON G.gender = P.gender;"
            ],
            "metadata": {
                "azdata_cell_guid": "b00e2ce7-37c1-4362-99ef-127d2c388934"
            },
            "outputs": [],
            "execution_count": null
        },
        {
            "cell_type": "code",
            "source": [
                "--9\n",
                "select  P.name, G.description\n",
                "FROM    people p\n",
                "join    gender g on p.gender = g.gender\n",
                "where   name like '% J%sen';"
            ],
            "metadata": {
                "azdata_cell_guid": "4156585f-fbeb-4cd1-9998-b39874f35ad0"
            },
            "outputs": [],
            "execution_count": null
        },
        {
            "cell_type": "code",
            "source": [
                "--10\n",
                "select P.name, S.name, \n",
                "    case when R.result is null or S.record is null then \n",
                "            null \n",
                "        else \n",
                "            cast(100*R.result/S.record as int) || '%'\n",
                "    end as percentage\n",
                "from    results R \n",
                "join    people P on R.peopleid = P.id \n",
                "join    sports S on R.sportid = S.id;"
            ],
            "metadata": {
                "azdata_cell_guid": "45d8d70b-e2ee-4437-b058-eaf2a19f9490",
                "tags": []
            },
            "outputs": [],
            "execution_count": null
        },
        {
            "cell_type": "code",
            "source": [
                "select count(*) from results;"
            ],
            "metadata": {
                "azdata_cell_guid": "6dccd387-c701-4e3a-ad52-d1a0fdbd0269"
            },
            "outputs": [],
            "execution_count": null
        },
        {
            "cell_type": "code",
            "source": [
                "--11\n",
                "select  count(distinct R.peopleid)\n",
                "from    results R \n",
                "WHERE   R.sportid is null or R.competitionid is null or R.result is null;"
            ],
            "metadata": {
                "azdata_cell_guid": "40bf7a0d-98b8-4f41-a8e6-072f0b2eb6a1"
            },
            "outputs": [],
            "execution_count": null
        },
        {
            "cell_type": "code",
            "source": [
                "--12\n",
                "select  S.id, S.name, cast(max(R.result) as float) as maxres\n",
                "FROM    sports S \n",
                "join    results R on R.sportid = S.id \n",
                "group by (S.id,S.name)\n",
                "order by S.id;"
            ],
            "metadata": {
                "azdata_cell_guid": "2eb996fa-7479-4b98-8cd5-35347652522e"
            },
            "outputs": [],
            "execution_count": null
        },
        {
            "cell_type": "code",
            "source": [
                "--13\n",
                "select  R.peopleid, P.name, count(R.result)\n",
                "from    results R\n",
                "JOIN    sports S on R.sportid = S.id and R.result = S.record and S.record is not null\n",
                "JOIN    people P on P.id = R.peopleid\n",
                "group by R.peopleid, P.name\n",
                "having  count(distinct sportid) >= 2;"
            ],
            "metadata": {
                "azdata_cell_guid": "be4ba374-66d4-42c3-8c6f-148a3fe03701"
            },
            "outputs": [],
            "execution_count": null
        },
        {
            "cell_type": "code",
            "source": [
                "--14\n",
                "create or replace view max_results as\n",
                "select  S.id as sportid, S.name as name, S.record as record, max(R.result) as result\n",
                "from    Results R \n",
                "JOIN    Sports S on S.id = R.sportid and R.result is not null\n",
                "group BY S.id, S.name, S.record;\n",
                "\n",
                "select  distinct P.id, P.name, P.height, R.result, MR.name, \n",
                "    case when MR.record = R.result then 'yes' else 'no' end as \"record?\"\n",
                "from    max_results MR \n",
                "JOIN    results R on MR.sportid = R.sportid and MR.result = R.result\n",
                "JOIN    people P on P.id = R.peopleid;"
            ],
            "metadata": {
                "azdata_cell_guid": "3a5533c7-9a7e-4088-80c2-9d657fef2949"
            },
            "outputs": [],
            "execution_count": null
        },
        {
            "cell_type": "code",
            "source": [
                "--15\n",
                "select  P.id, P.name\n",
                "FROM    people P \n",
                "except \n",
                "select  P.id, P.name \n",
                "FROM    Results R \n",
                "JOIN    People P on R.peopleid = P.id and R.competitionid is not null;"
            ],
            "metadata": {
                "azdata_cell_guid": "389d2685-46da-47ab-9fec-ef3f48f74dd5"
            },
            "outputs": [],
            "execution_count": null
        },
        {
            "cell_type": "code",
            "source": [
                "--16\n",
                "select  P.id, P.name\n",
                "from    competitions C\n",
                "join    results R on R.competitionid = C.id and extract(year from C.held) = '2002' and extract(month from C.held) = '06'\n",
                "join    people P on R.peopleid = P.id\n",
                "union\n",
                "select  P.id, P.name \n",
                "from    sports S \n",
                "join    Results R on S.id = R.sportid and S.name = 'High Jump' and S.record = R.result\n",
                "JOIN    People P on P.id = R.peopleid;"
            ],
            "metadata": {
                "azdata_cell_guid": "310d2c5a-5790-47b1-a034-66c478550e47"
            },
            "outputs": [],
            "execution_count": null
        },
        {
            "cell_type": "code",
            "source": [
                "--17\n",
                "select  P.id, P.name\n",
                "from    Results R\n",
                "join    people P on R.peopleid = P.id \n",
                "group by P.id \n",
                "HAVING  count(distinct R.sportid) = 1 \n",
                "        and max(R.result) = (select S.record from sports S where S.id = max(R.sportid));"
            ],
            "metadata": {
                "azdata_cell_guid": "9f903edd-19b6-4fc2-a493-dbc53f9de08e"
            },
            "outputs": [],
            "execution_count": null
        },
        {
            "cell_type": "code",
            "source": [
                "--18\n",
                "select count(*) from (\n",
                "    select  count(*)\n",
                "    from    competitions C\n",
                "    join    results R on R.competitionid = C.id\n",
                "    group by R.peopleid \n",
                "    having  count(distinct C.place) >= 10\n",
                ") tmp;"
            ],
            "metadata": {
                "azdata_cell_guid": "62e42dce-72fa-4b75-b5c4-d7ad5fd6d65a"
            },
            "outputs": [],
            "execution_count": null
        },
        {
            "cell_type": "code",
            "source": [
                "--19\n",
                "select  P.id, P.name\n",
                "FROM    Results R \n",
                "join    sports S on S.id = R.sportid and S.record = R.result\n",
                "join    people P on R.peopleid = P.id\n",
                "group by P.id, P.name\n",
                "having  count(distinct S.id) = (select count(distinct id) from Sports);"
            ],
            "metadata": {
                "azdata_cell_guid": "8639fc54-255d-4b2f-8f8a-a70565918365"
            },
            "outputs": [],
            "execution_count": null
        },
        {
            "cell_type": "code",
            "source": [
                "--20\n",
                "select  S.id, S.name, S.record, min(R.result) as worst\n",
                "from    Sports S\n",
                "JOIN    Results R on R.sportid = S.id \n",
                "join    competitions C on C.id = R.competitionid\n",
                "group by S.id, S.name, S.record\n",
                "having  count(distinct C.place) = (select count(distinct place) from competitions);"
            ],
            "metadata": {
                "azdata_cell_guid": "43fc47c5-ec36-4e88-b996-df42103e0db4"
            },
            "outputs": [],
            "execution_count": null
        }
    ]
}
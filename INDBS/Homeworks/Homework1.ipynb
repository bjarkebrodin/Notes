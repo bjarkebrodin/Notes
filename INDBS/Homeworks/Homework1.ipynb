{
    "metadata": {
        "kernelspec": {
            "name": "SQL",
            "display_name": "SQL",
            "language": "sql"
        },
        "language_info": {
            "name": "sql",
            "version": ""
        }
    },
    "nbformat_minor": 2,
    "nbformat": 4,
    "cells": [
        {
            "cell_type": "code",
            "source": [
                "--1\n",
                "select  count(*)\n",
                "FROM    person P\n",
                "WHERE   P.height is null;"
            ],
            "metadata": {
                "azdata_cell_guid": "12b1866a-ef73-43fa-8f92-83d60c4f027f"
            },
            "outputs": [
                {
                    "output_type": "display_data",
                    "data": {
                        "text/html": "(1 row(s) affected)"
                    },
                    "metadata": {}
                },
                {
                    "output_type": "display_data",
                    "data": {
                        "text/html": "Total execution time: 00:00:00.025"
                    },
                    "metadata": {}
                },
                {
                    "output_type": "execute_result",
                    "metadata": {},
                    "execution_count": 4,
                    "data": {
                        "application/vnd.dataresource+json": {
                            "schema": {
                                "fields": [
                                    {
                                        "name": "count"
                                    }
                                ]
                            },
                            "data": [
                                {
                                    "0": "47315"
                                }
                            ]
                        },
                        "text/html": [
                            "<table>",
                            "<tr><th>count</th></tr>",
                            "<tr><td>47315</td></tr>",
                            "</table>"
                        ]
                    }
                }
            ],
            "execution_count": 4
        },
        {
            "cell_type": "code",
            "source": [
                "--2\n",
                "select count(*) from (\n",
                "    select  count(*)\n",
                "    from    involved I\n",
                "    join    person P on I.personid = P.id \n",
                "    group by I.movieid \n",
                "    HAVING  avg(P.height) > 190 \n",
                ") temp;"
            ],
            "metadata": {
                "azdata_cell_guid": "bfc44d7a-f031-4b93-984e-3bf7eccee023",
                "tags": []
            },
            "outputs": [
                {
                    "output_type": "display_data",
                    "data": {
                        "text/html": "(1 row(s) affected)"
                    },
                    "metadata": {}
                },
                {
                    "output_type": "display_data",
                    "data": {
                        "text/html": "Total execution time: 00:00:01.021"
                    },
                    "metadata": {}
                },
                {
                    "output_type": "execute_result",
                    "metadata": {},
                    "execution_count": 8,
                    "data": {
                        "application/vnd.dataresource+json": {
                            "schema": {
                                "fields": [
                                    {
                                        "name": "count"
                                    }
                                ]
                            },
                            "data": [
                                {
                                    "0": "89"
                                }
                            ]
                        },
                        "text/html": [
                            "<table>",
                            "<tr><th>count</th></tr>",
                            "<tr><td>89</td></tr>",
                            "</table>"
                        ]
                    }
                }
            ],
            "execution_count": 8
        },
        {
            "cell_type": "code",
            "source": [
                "--3\n",
                "select count(distinct movieid) from (\n",
                "    select  movieid\n",
                "    from    movie_genre\n",
                "    group by movieid, genre\n",
                "    having  count(*) > 1\n",
                ") temp;"
            ],
            "metadata": {
                "azdata_cell_guid": "e50c2bf3-78c3-4bdf-b6f1-06c9f793e8f1"
            },
            "outputs": [
                {
                    "output_type": "display_data",
                    "data": {
                        "text/html": "(1 row(s) affected)"
                    },
                    "metadata": {}
                },
                {
                    "output_type": "display_data",
                    "data": {
                        "text/html": "Total execution time: 00:00:00.143"
                    },
                    "metadata": {}
                },
                {
                    "output_type": "execute_result",
                    "metadata": {},
                    "execution_count": 13,
                    "data": {
                        "application/vnd.dataresource+json": {
                            "schema": {
                                "fields": [
                                    {
                                        "name": "count"
                                    }
                                ]
                            },
                            "data": [
                                {
                                    "0": "143"
                                }
                            ]
                        },
                        "text/html": [
                            "<table>",
                            "<tr><th>count</th></tr>",
                            "<tr><td>143</td></tr>",
                            "</table>"
                        ]
                    }
                }
            ],
            "execution_count": 13
        },
        {
            "cell_type": "code",
            "source": [
                "--4\n",
                "select  count(distinct(N.personid))\n",
                "from    involved I\n",
                "join    involved N on I.personid = (select id from person where name = 'Steven Spielberg')\n",
                "        and I.role = 'director' and N.role = 'actor' and N.movieid = I.movieid;"
            ],
            "metadata": {
                "azdata_cell_guid": "44cc3fbd-4738-40b5-be42-caa313558dad"
            },
            "outputs": [
                {
                    "output_type": "display_data",
                    "data": {
                        "text/html": "(1 row(s) affected)"
                    },
                    "metadata": {}
                },
                {
                    "output_type": "display_data",
                    "data": {
                        "text/html": "Total execution time: 00:00:00.396"
                    },
                    "metadata": {}
                },
                {
                    "output_type": "execute_result",
                    "metadata": {},
                    "execution_count": 22,
                    "data": {
                        "application/vnd.dataresource+json": {
                            "schema": {
                                "fields": [
                                    {
                                        "name": "count"
                                    }
                                ]
                            },
                            "data": [
                                {
                                    "0": "2219"
                                }
                            ]
                        },
                        "text/html": [
                            "<table>",
                            "<tr><th>count</th></tr>",
                            "<tr><td>2219</td></tr>",
                            "</table>"
                        ]
                    }
                }
            ],
            "execution_count": 22
        },
        {
            "cell_type": "code",
            "source": [
                "--5\n",
                "select count(*) from (\n",
                "    select  id\n",
                "    from    movie\n",
                "    where   year = 1999\n",
                "    except \n",
                "    select  M.id\n",
                "    from    movie M\n",
                "    JOIN    Involved I on M.year = 1999 and M.id = I.movieid\n",
                ") temp;"
            ],
            "metadata": {
                "azdata_cell_guid": "eb805601-c822-49d2-9416-e752aadedfe4"
            },
            "outputs": [
                {
                    "output_type": "display_data",
                    "data": {
                        "text/html": "(1 row(s) affected)"
                    },
                    "metadata": {}
                },
                {
                    "output_type": "display_data",
                    "data": {
                        "text/html": "Total execution time: 00:00:00.189"
                    },
                    "metadata": {}
                },
                {
                    "output_type": "execute_result",
                    "metadata": {},
                    "execution_count": 46,
                    "data": {
                        "application/vnd.dataresource+json": {
                            "schema": {
                                "fields": [
                                    {
                                        "name": "count"
                                    }
                                ]
                            },
                            "data": [
                                {
                                    "0": "7"
                                }
                            ]
                        },
                        "text/html": [
                            "<table>",
                            "<tr><th>count</th></tr>",
                            "<tr><td>7</td></tr>",
                            "</table>"
                        ]
                    }
                }
            ],
            "execution_count": 46
        },
        {
            "cell_type": "code",
            "source": [
                "--6\n",
                "select count(*) from (\n",
                "    select  count(*)\n",
                "    from    involved I \n",
                "    join    involved N on I.personid = N.personid and I.role = 'actor' \n",
                "            and N.role = 'director' and I.movieid = N.movieid\n",
                "    group by I.personid\n",
                "    having  count(distinct I.movieid) > 1\n",
                ") temp;"
            ],
            "metadata": {
                "azdata_cell_guid": "23768a50-5be8-4c08-be2a-850e0b04ff1e"
            },
            "outputs": [
                {
                    "output_type": "display_data",
                    "data": {
                        "text/html": "(1 row(s) affected)"
                    },
                    "metadata": {}
                },
                {
                    "output_type": "display_data",
                    "data": {
                        "text/html": "Total execution time: 00:00:00.736"
                    },
                    "metadata": {}
                },
                {
                    "output_type": "execute_result",
                    "metadata": {},
                    "execution_count": 45,
                    "data": {
                        "application/vnd.dataresource+json": {
                            "schema": {
                                "fields": [
                                    {
                                        "name": "count"
                                    }
                                ]
                            },
                            "data": [
                                {
                                    "0": "345"
                                }
                            ]
                        },
                        "text/html": [
                            "<table>",
                            "<tr><th>count</th></tr>",
                            "<tr><td>345</td></tr>",
                            "</table>"
                        ]
                    }
                }
            ],
            "execution_count": 45
        },
        {
            "cell_type": "code",
            "source": [
                "--7\n",
                "select count(*) from (\n",
                "    select  count(*)\n",
                "    from    movie M\n",
                "    JOIN    involved I on M.id = I.movieid and M.year = 1999\n",
                "    group BY M.id\n",
                "    having  count(distinct I.role) = (select count(distinct role) from role)\n",
                ") temp;"
            ],
            "metadata": {
                "azdata_cell_guid": "effc517c-d52a-4d67-99b1-a8898c1ef961"
            },
            "outputs": [
                {
                    "output_type": "display_data",
                    "data": {
                        "text/html": "(1 row(s) affected)"
                    },
                    "metadata": {}
                },
                {
                    "output_type": "display_data",
                    "data": {
                        "text/html": "Total execution time: 00:00:00.333"
                    },
                    "metadata": {}
                },
                {
                    "output_type": "execute_result",
                    "metadata": {},
                    "execution_count": 38,
                    "data": {
                        "application/vnd.dataresource+json": {
                            "schema": {
                                "fields": [
                                    {
                                        "name": "count"
                                    }
                                ]
                            },
                            "data": [
                                {
                                    "0": "250"
                                }
                            ]
                        },
                        "text/html": [
                            "<table>",
                            "<tr><th>count</th></tr>",
                            "<tr><td>250</td></tr>",
                            "</table>"
                        ]
                    }
                }
            ],
            "execution_count": 38
        },
        {
            "cell_type": "code",
            "source": [
                "--8\n",
                "select count(*) from (\n",
                "    select  P.id\n",
                "    from    movie_genre MG\n",
                "    join    genre G on MG.genre = G.genre and G.category = 'Lame'\n",
                "    JOIN    involved I on I.movieid = MG.movieid\n",
                "    join    person P on I.personid = P.id \n",
                "    group by P.id \n",
                "    having  count(distinct G.genre) = (select count(distinct genre) from genre where category = 'Lame')\n",
                ") temp;"
            ],
            "metadata": {
                "azdata_cell_guid": "6f2dae03-640e-4708-90f6-318822aae945"
            },
            "outputs": [
                {
                    "output_type": "display_data",
                    "data": {
                        "text/html": "(1 row(s) affected)"
                    },
                    "metadata": {}
                },
                {
                    "output_type": "display_data",
                    "data": {
                        "text/html": "Total execution time: 00:00:01.652"
                    },
                    "metadata": {}
                },
                {
                    "output_type": "execute_result",
                    "metadata": {},
                    "execution_count": 47,
                    "data": {
                        "application/vnd.dataresource+json": {
                            "schema": {
                                "fields": [
                                    {
                                        "name": "count"
                                    }
                                ]
                            },
                            "data": [
                                {
                                    "0": "1"
                                }
                            ]
                        },
                        "text/html": [
                            "<table>",
                            "<tr><th>count</th></tr>",
                            "<tr><td>1</td></tr>",
                            "</table>"
                        ]
                    }
                }
            ],
            "execution_count": 47
        }
    ]
}
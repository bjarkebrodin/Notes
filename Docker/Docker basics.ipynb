{
 "cells": [
  {
   "cell_type": "markdown",
   "metadata": {},
   "source": [
    "# Docker Basics"
   ]
  },
  {
   "cell_type": "markdown",
   "metadata": {},
   "source": [
    "### List all local images"
   ]
  },
  {
   "cell_type": "code",
   "execution_count": 1,
   "metadata": {},
   "outputs": [
    {
     "name": "stdout",
     "output_type": "stream",
     "text": [
      "REPOSITORY                TAG                 IMAGE ID            CREATED             SIZE\n",
      "bjarkebrodin/cheers2019   latest              f7837a16173b        2 hours ago         4.01MB\n",
      "hello-world               latest              bf756fb1ae65        10 months ago       13.3kB\n"
     ]
    }
   ],
   "source": [
    "docker image ls"
   ]
  },
  {
   "cell_type": "markdown",
   "metadata": {},
   "source": [
    "### Run the `hello-world` image"
   ]
  },
  {
   "cell_type": "code",
   "execution_count": 2,
   "metadata": {
    "scrolled": false
   },
   "outputs": [
    {
     "name": "stdout",
     "output_type": "stream",
     "text": [
      "\n",
      "Hello from Docker!\n",
      "This message shows that your installation appears to be working correctly.\n",
      "\n",
      "To generate this message, Docker took the following steps:\n",
      " 1. The Docker client contacted the Docker daemon.\n",
      " 2. The Docker daemon pulled the \"hello-world\" image from the Docker Hub.\n",
      "    (amd64)\n",
      " 3. The Docker daemon created a new container from that image which runs the\n",
      "    executable that produces the output you are currently reading.\n",
      " 4. The Docker daemon streamed that output to the Docker client, which sent it\n",
      "    to your terminal.\n",
      "\n",
      "To try something more ambitious, you can run an Ubuntu container with:\n",
      " $ docker run -it ubuntu bash\n",
      "\n",
      "Share images, automate workflows, and more with a free Docker ID:\n",
      " https://hub.docker.com/\n",
      "\n",
      "For more examples and ideas, visit:\n",
      " https://docs.docker.com/get-started/\n",
      "\n"
     ]
    }
   ],
   "source": [
    "docker run hello-world"
   ]
  },
  {
   "cell_type": "markdown",
   "metadata": {},
   "source": [
    "### List all containers"
   ]
  },
  {
   "cell_type": "code",
   "execution_count": 3,
   "metadata": {},
   "outputs": [
    {
     "name": "stdout",
     "output_type": "stream",
     "text": [
      "CONTAINER ID        IMAGE               COMMAND             CREATED             STATUS                     PORTS               NAMES\n",
      "21a6c89d7076        hello-world         \"/hello\"            4 seconds ago       Exited (0) 2 seconds ago                       thirsty_panini\n",
      "ba9b2bd65ffd        hello-world         \"/hello\"            7 minutes ago       Exited (0) 7 minutes ago                       pedantic_bhaskara\n",
      "9d40ddd1e94d        hello-world         \"/hello\"            2 hours ago         Exited (0) 2 hours ago                         serene_hawking\n",
      "290e107054d8        hello-world         \"/hello\"            2 hours ago         Exited (0) 2 hours ago                         boring_nash\n"
     ]
    }
   ],
   "source": [
    "docker ps -a"
   ]
  },
  {
   "cell_type": "markdown",
   "metadata": {},
   "source": [
    "### Remove ALL (currently) unused local resources"
   ]
  },
  {
   "cell_type": "code",
   "execution_count": null,
   "metadata": {},
   "outputs": [],
   "source": [
    "docker system prune"
   ]
  },
  {
   "cell_type": "markdown",
   "metadata": {},
   "source": [
    "## Dockerfile"
   ]
  },
  {
   "cell_type": "markdown",
   "metadata": {},
   "source": [
    "[Docs](https://docs.docker.com/engine/reference/builder/)\n",
    "\n",
    "Sample Dockerfile, these provide instructions on how to build a container image. After building an image they can simply be run.\n",
    "\n",
    "```docker\n",
    "# Use the official image as a parent image.\n",
    "FROM node:current-slim\n",
    "\n",
    "# Set the working directory.\n",
    "WORKDIR /usr/src/app\n",
    "\n",
    "# Copy the file from your host to your current location.\n",
    "COPY package.json .\n",
    "\n",
    "# Run the command inside your image filesystem.\n",
    "RUN npm install\n",
    "\n",
    "# Add metadata to the image to describe which port the container is listening on at runtime.\n",
    "EXPOSE 8080\n",
    "\n",
    "# Run the specified command within the container.\n",
    "CMD [ \"npm\", \"start\" ]\n",
    "\n",
    "# Copy the rest of your app's source code from your host to your image filesystem.\n",
    "COPY . .\n",
    "```"
   ]
  },
  {
   "cell_type": "code",
   "execution_count": null,
   "metadata": {},
   "outputs": [],
   "source": []
  }
 ],
 "metadata": {
  "kernelspec": {
   "display_name": "Z shell",
   "language": "zsh",
   "name": "zsh"
  },
  "language_info": {
   "codemirror_mode": "shell",
   "file_extension": ".zsh",
   "mimetype": "text/x-zsh",
   "name": "zsh",
   "pygments_lexer": "shell",
   "version": "5.7.1"
  }
 },
 "nbformat": 4,
 "nbformat_minor": 4
}

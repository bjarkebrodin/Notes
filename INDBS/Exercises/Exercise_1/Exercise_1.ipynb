{
    "metadata": {
        "kernelspec": {
            "name": "SQL",
            "display_name": "SQL",
            "language": "sql"
        },
        "language_info": {
            "name": "sql",
            "version": ""
        }
    },
    "nbformat_minor": 2,
    "nbformat": 4,
    "cells": [
        {
            "cell_type": "code",
            "source": [
                "create table coffees (\n",
                "    name varchar(50) primary key check (name <> ''),\n",
                "    manufacturer varchar(50) not null check (manufacturer <> '')\n",
                ");\n",
                "\n",
                "create table coffeehouses (\n",
                "    name varchar(50) primary key check (name <> ''),\n",
                "    address varchar(50) not null,\n",
                "    license integer\n",
                ");\n",
                "\n",
                "create table sells (\n",
                "    coffeehouse varchar(50) references coffeehouses(name),\n",
                "    coffee varchar(50) references coffees(name),\n",
                "    price real not null check (price >= 0.0),\n",
                "    primary key (coffeehouse,coffee)\n",
                ");"
            ],
            "metadata": {
                "azdata_cell_guid": "4abd0ddb-06d8-49eb-b4c3-455dcdcc78d3"
            },
            "outputs": [],
            "execution_count": null
        },
        {
            "cell_type": "code",
            "source": [
                "drop table if exists supplies;\n",
                "drop table if exists made_of;\n",
                "drop table if EXISTS for_sale;\n",
                "drop table if exists supplier;\n",
                "drop table if exists ingredient;\n",
                "drop table if exists dish;\n",
                "\n",
                "create table dish (\n",
                "    id serial primary key,\n",
                "    name varchar(100) not null,\n",
                "    price real not null\n",
                ");\n",
                "\n",
                "create table ingredient (\n",
                "    id serial primary key,\n",
                "    name varchar(100) not null\n",
                ");\n",
                "\n",
                "create table supplier (\n",
                "    id serial primary key\n",
                ");\n",
                "\n",
                "create table for_sale (\n",
                "    date date not null,\n",
                "    sold integer not null check(sold >= 0),\n",
                "    dishid integer references dish(id),\n",
                "    primary key (date,dishid)\n",
                ");\n",
                "\n",
                "create table made_of (\n",
                "    dishid integer references dish(id),\n",
                "    ingrid integer references ingredient(id),\n",
                "    quantity varchar(20),\n",
                "    primary key (dishid, ingrid)\n",
                ");\n",
                "\n",
                "create table supplies (\n",
                "    ingrid integer references ingredient(id),\n",
                "    suppid integer references supplier(id),\n",
                "    primary key (ingrid,suppid)\n",
                ");"
            ],
            "metadata": {
                "azdata_cell_guid": "1a9b7f70-fe58-4507-b57a-2d12f5d6c755"
            },
            "outputs": [],
            "execution_count": null
        },
        {
            "cell_type": "code",
            "source": [
                "-- use this to test the query after\n",
                "insert into ingredient (name)\n",
                "values ('egg');\n",
                "\n",
                "insert into dish (name, price)\n",
                "values ('eggsalad',3.33);\n",
                "\n",
                "insert into made_of (dishid,ingrid,quantity)\n",
                "values (\n",
                "    (select id from dish where name = 'eggsalad'), \n",
                "    (select id from ingredient where name = 'egg'),\n",
                "    '2 oz'\n",
                ");"
            ],
            "metadata": {
                "azdata_cell_guid": "7866bc51-7528-41e8-bcea-345dc082b900",
                "tags": [
                    "hide_input"
                ]
            },
            "outputs": [],
            "execution_count": null
        },
        {
            "cell_type": "code",
            "source": [
                "select d.id, d.name, d.price\n",
                "from ( \n",
                "    select *\n",
                "    from ingredient i\n",
                "    where i.name = 'egg' \n",
                ") egg \n",
                "join made_of mo on mo.ingrid = egg.id\n",
                "join dish d on mo.dishid = d.id; "
            ],
            "metadata": {
                "azdata_cell_guid": "979990c7-98aa-48f3-a43f-6c8a9ecab10f"
            },
            "outputs": [],
            "execution_count": null
        },
        {
            "cell_type": "code",
            "source": [
                "select sum(s.sold*d.price)\n",
                "from for_sale s \n",
                "    join dish d on s.dishid = d.id \n",
                "where s.date = current_date;"
            ],
            "metadata": {
                "azdata_cell_guid": "b5776225-ed5a-48ef-a840-ac6b29915ab7"
            },
            "outputs": [],
            "execution_count": null
        },
        {
            "cell_type": "code",
            "source": [
                "select d.id, d.name, d.price\n",
                "from for_sale s \n",
                "    join dish d on s.dishid = d.id \n",
                "where s.sold = (select max(sold) from for_sale where date = current_date);"
            ],
            "metadata": {
                "azdata_cell_guid": "224c4b51-28af-4f65-93c3-372ef365f93b",
                "tags": []
            },
            "outputs": [],
            "execution_count": null
        }
    ]
}
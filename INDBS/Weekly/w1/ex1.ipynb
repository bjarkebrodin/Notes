{
    "metadata": {
        "kernelspec": {
            "name": "SQL",
            "display_name": "SQL",
            "language": "sql"
        },
        "language_info": {
            "name": "sql",
            "version": ""
        },
        "connection_name": "Week 1 - Exercies"
    },
    "nbformat_minor": 2,
    "nbformat": 4,
    "cells": [
        {
            "cell_type": "markdown",
            "source": [
                "## \\[1\\] PostgreSQL installation\n",
                "\n",
                "_In order to run the exercise, you must install the PostgreSQL database system (postgresql.org) on your laptop. Installation guides that should work for 90+% of students have been posted on Piazza. It is best if you can do this before the exercise session, but if you have problems you can bring them up to TAs during the exercise session._"
            ],
            "metadata": {
                "azdata_cell_guid": "8bc20004-0c8e-45c7-bf2c-1ed46db94ac6"
            }
        },
        {
            "cell_type": "markdown",
            "source": [
                "[PostgreSQL Homepage](https://www.postgresql.org/)\r\n",
                "\r\n",
                "[Download](https://www.postgresql.org/download/)\r\n",
                "\r\n",
                "[Docs](https://www.postgresql.org/docs/)\r\n",
                ""
            ],
            "metadata": {
                "azdata_cell_guid": "104abf58-4d4c-4409-8bd0-b9a119cecb05"
            }
        },
        {
            "cell_type": "markdown",
            "source": [
                "## \\[2\\] Using PostgreSQL\n",
                "\n",
                "_Try downloading the database from Lecture 1. Install it, using psql, and then run the queries, both using pgAdmin and psql. Read through the queries and see whether you can make sense of them._"
            ],
            "metadata": {
                "azdata_cell_guid": "4edfae25-2d8a-4df8-8e39-3dd9ed1534ab"
            }
        },
        {
            "cell_type": "markdown",
            "source": [
                "### Windows\r\n",
                "\r\n",
                "Create a new database `createdb -U <username> <dbname>`\r\n",
                "\r\n",
                "Run a script against a database with `psql -U <username> -f <filepath> <dbname>`\r\n",
                "\r\n",
                "### Unix\r\n",
                "\r\n",
                "Create a new database `createdb -U <username> <dbname>`\r\n",
                "\r\n",
                "Run a script against a database with `psql -U <username> <dbname> < <filepath>`"
            ],
            "metadata": {
                "azdata_cell_guid": "153d55e8-1801-4748-856e-75217c4daa08"
            }
        },
        {
            "cell_type": "markdown",
            "source": [
                "## \\[3\\] Your First Relational Database \n",
                "\n",
                "_Note: The code needed for this exercise is basically all in the slides, the emphasis here is on working with the database software. Consider the sample Co\u001bee database used in the \u001crst lecture. Your task is to create part of this database. Write SQL commands to create the following relations:_\n",
                "\n",
                "_Coffees(name, manufacturer)_\n",
                "\n",
                "_Coffeehouses(name, address, license)_\n",
                "\n",
                "_Sells(coffeehouse, coffee, price)_\n",
                "\n",
                "_The underlined columns should form the primary keys of the relations. Note that there should also be foreign key relationships in the de\u001cnition of the last tables to the corresponding columns in the \u001crst two tables. 1 Maintain all the SQL commands in a script \u001cle, which you can run repeatedly using psql. Before creating a table, always drop the table if it exists. Try running this script from the command prompt\u0016in the \u001cnal exam you must be able to do this, so you might as well start early. Ask the TAs for help, if needed. With foreign keys, you need to be careful about the order in which you drop tables. If you have time: Write SQL commands to insert some data into the tables and run some simple SQL queries._"
            ],
            "metadata": {
                "azdata_cell_guid": "03649162-7853-46d7-9d57-8b94992a149d"
            }
        },
        {
            "cell_type": "markdown",
            "source": [
                "## Creating the database (windows)\r\n",
                "\r\n",
                "```ps\r\n",
                "createdb -U postgres w1e\r\n",
                "```"
            ],
            "metadata": {
                "azdata_cell_guid": "bce70235-44e9-4432-b209-e67f1c314992"
            }
        },
        {
            "cell_type": "markdown",
            "source": [
                "## Creating the tables"
            ],
            "metadata": {
                "azdata_cell_guid": "5192af2b-cea9-4953-8268-e55dbdba7ba3"
            }
        },
        {
            "cell_type": "code",
            "source": [
                "drop table if exists sells;\r\n",
                "drop table if exists coffeehouses;\r\n",
                "drop table if exists coffees;\r\n",
                "\r\n",
                "create table coffees (\r\n",
                "    name varchar primary key,\r\n",
                "    manufacturer varchar\r\n",
                ");\r\n",
                "\r\n",
                "create table coffeehouses (\r\n",
                "    name varchar primary key,\r\n",
                "    address varchar,\r\n",
                "    license varchar\r\n",
                ");\r\n",
                "\r\n",
                "create table sells (\r\n",
                "    coffeehouse varchar references coffeehouses(name),\r\n",
                "    coffee varchar references coffees(name),\r\n",
                "    price real,\r\n",
                "    primary key(coffeehouse,coffee)\r\n",
                ");"
            ],
            "metadata": {
                "azdata_cell_guid": "fe482871-05e3-46e0-b250-bb7170f3c5b3",
                "tags": []
            },
            "outputs": [
                {
                    "output_type": "display_data",
                    "data": {
                        "text/html": "Commands completed successfully"
                    },
                    "metadata": {}
                },
                {
                    "output_type": "display_data",
                    "data": {
                        "text/html": "Commands completed successfully"
                    },
                    "metadata": {}
                },
                {
                    "output_type": "display_data",
                    "data": {
                        "text/html": "Commands completed successfully"
                    },
                    "metadata": {}
                },
                {
                    "output_type": "display_data",
                    "data": {
                        "text/html": "Commands completed successfully"
                    },
                    "metadata": {}
                },
                {
                    "output_type": "display_data",
                    "data": {
                        "text/html": "Commands completed successfully"
                    },
                    "metadata": {}
                },
                {
                    "output_type": "display_data",
                    "data": {
                        "text/html": "Commands completed successfully"
                    },
                    "metadata": {}
                },
                {
                    "output_type": "display_data",
                    "data": {
                        "text/html": "Total execution time: 00:00:00.151"
                    },
                    "metadata": {}
                }
            ],
            "execution_count": 1
        },
        {
            "cell_type": "markdown",
            "source": [
                "## Inserting some data"
            ],
            "metadata": {
                "azdata_cell_guid": "233d926b-3fc5-4f1d-8a8c-7f8595366062"
            }
        },
        {
            "cell_type": "code",
            "source": [
                "insert into coffees(name, manufacturer)\r\n",
                "values \r\n",
                "    ('hacienda esmaralda', 'coffee collective'),\r\n",
                "    ('best coffee ever', 'good coffee farm')\r\n",
                ";\r\n",
                "\r\n",
                "insert into coffeehouses(name, address, license)\r\n",
                "values \r\n",
                "    ('analog', 'rued langgaards vej 7', 'none')\r\n",
                ";\r\n",
                "\r\n",
                "insert into sells(coffeehouse, coffee, price)\r\n",
                "values \r\n",
                "    ('analog', 'best coffee ever', 15.00)\r\n",
                ";"
            ],
            "metadata": {
                "azdata_cell_guid": "bfc98245-fee6-4d24-9b11-2b8bc155c6e8"
            },
            "outputs": [
                {
                    "output_type": "display_data",
                    "data": {
                        "text/html": "Commands completed successfully"
                    },
                    "metadata": {}
                },
                {
                    "output_type": "display_data",
                    "data": {
                        "text/html": "Commands completed successfully"
                    },
                    "metadata": {}
                },
                {
                    "output_type": "display_data",
                    "data": {
                        "text/html": "Commands completed successfully"
                    },
                    "metadata": {}
                },
                {
                    "output_type": "display_data",
                    "data": {
                        "text/html": "Total execution time: 00:00:00.007"
                    },
                    "metadata": {}
                }
            ],
            "execution_count": 2
        },
        {
            "cell_type": "markdown",
            "source": [
                "## Reading some data"
            ],
            "metadata": {
                "azdata_cell_guid": "79ee5313-0b5a-4332-9898-c163ece30796"
            }
        },
        {
            "cell_type": "code",
            "source": [
                "select * from coffees;"
            ],
            "metadata": {
                "azdata_cell_guid": "ca12ce01-8cf3-4dae-853a-2708164c6877"
            },
            "outputs": [
                {
                    "output_type": "display_data",
                    "data": {
                        "text/html": "(2 row(s) affected)"
                    },
                    "metadata": {}
                },
                {
                    "output_type": "display_data",
                    "data": {
                        "text/html": "Total execution time: 00:00:00.010"
                    },
                    "metadata": {}
                },
                {
                    "output_type": "execute_result",
                    "metadata": {
                        "resultSet": {
                            "batchId": 0,
                            "columnInfo": [
                                {
                                    "_provider": "PGSQL",
                                    "allowDbNull": null,
                                    "baseCatalogName": null,
                                    "baseColumnName": "name",
                                    "baseSchemaName": null,
                                    "baseServerName": null,
                                    "baseTableName": null,
                                    "columnName": "name",
                                    "columnOrdinal": 0,
                                    "columnSize": -1,
                                    "dataType": "varchar",
                                    "isAliased": null,
                                    "isAutoIncrement": null,
                                    "isExpression": null,
                                    "isHidden": null,
                                    "isIdentity": null,
                                    "isKey": null,
                                    "isReadOnly": false,
                                    "isUnique": null,
                                    "isUpdatable": false,
                                    "numericPrecision": null,
                                    "numericScale": null
                                },
                                {
                                    "_provider": "PGSQL",
                                    "allowDbNull": null,
                                    "baseCatalogName": null,
                                    "baseColumnName": "manufacturer",
                                    "baseSchemaName": null,
                                    "baseServerName": null,
                                    "baseTableName": null,
                                    "columnName": "manufacturer",
                                    "columnOrdinal": 1,
                                    "columnSize": -1,
                                    "dataType": "varchar",
                                    "isAliased": null,
                                    "isAutoIncrement": null,
                                    "isExpression": null,
                                    "isHidden": null,
                                    "isIdentity": null,
                                    "isKey": null,
                                    "isReadOnly": false,
                                    "isUnique": null,
                                    "isUpdatable": false,
                                    "numericPrecision": null,
                                    "numericScale": null
                                }
                            ],
                            "complete": true,
                            "id": 0,
                            "rowCount": 2
                        }
                    },
                    "execution_count": 3,
                    "data": {
                        "application/vnd.dataresource+json": {
                            "schema": {
                                "fields": [
                                    {
                                        "name": "name"
                                    },
                                    {
                                        "name": "manufacturer"
                                    }
                                ]
                            },
                            "data": []
                        },
                        "text/html": [
                            "<table>",
                            "<tr><th>name</th><th>manufacturer</th></tr>",
                            "</table>"
                        ]
                    }
                }
            ],
            "execution_count": 3
        },
        {
            "cell_type": "code",
            "source": [
                "select * \r\n",
                "from coffeehouses \r\n",
                "join sells \r\n",
                "on   coffeehouse = name;"
            ],
            "metadata": {
                "azdata_cell_guid": "8bc94c62-42e0-4502-baf9-e0b2435c210d"
            },
            "outputs": [
                {
                    "output_type": "display_data",
                    "data": {
                        "text/html": "(1 row(s) affected)"
                    },
                    "metadata": {}
                },
                {
                    "output_type": "display_data",
                    "data": {
                        "text/html": "Total execution time: 00:00:00.010"
                    },
                    "metadata": {}
                },
                {
                    "output_type": "execute_result",
                    "metadata": {
                        "resultSet": {
                            "batchId": 0,
                            "columnInfo": [
                                {
                                    "_provider": "PGSQL",
                                    "allowDbNull": null,
                                    "baseCatalogName": null,
                                    "baseColumnName": "name",
                                    "baseSchemaName": null,
                                    "baseServerName": null,
                                    "baseTableName": null,
                                    "columnName": "name",
                                    "columnOrdinal": 0,
                                    "columnSize": -1,
                                    "dataType": "varchar",
                                    "isAliased": null,
                                    "isAutoIncrement": null,
                                    "isExpression": null,
                                    "isHidden": null,
                                    "isIdentity": null,
                                    "isKey": null,
                                    "isReadOnly": false,
                                    "isUnique": null,
                                    "isUpdatable": false,
                                    "numericPrecision": null,
                                    "numericScale": null
                                },
                                {
                                    "_provider": "PGSQL",
                                    "allowDbNull": null,
                                    "baseCatalogName": null,
                                    "baseColumnName": "address",
                                    "baseSchemaName": null,
                                    "baseServerName": null,
                                    "baseTableName": null,
                                    "columnName": "address",
                                    "columnOrdinal": 1,
                                    "columnSize": -1,
                                    "dataType": "varchar",
                                    "isAliased": null,
                                    "isAutoIncrement": null,
                                    "isExpression": null,
                                    "isHidden": null,
                                    "isIdentity": null,
                                    "isKey": null,
                                    "isReadOnly": false,
                                    "isUnique": null,
                                    "isUpdatable": false,
                                    "numericPrecision": null,
                                    "numericScale": null
                                },
                                {
                                    "_provider": "PGSQL",
                                    "allowDbNull": null,
                                    "baseCatalogName": null,
                                    "baseColumnName": "license",
                                    "baseSchemaName": null,
                                    "baseServerName": null,
                                    "baseTableName": null,
                                    "columnName": "license",
                                    "columnOrdinal": 2,
                                    "columnSize": -1,
                                    "dataType": "varchar",
                                    "isAliased": null,
                                    "isAutoIncrement": null,
                                    "isExpression": null,
                                    "isHidden": null,
                                    "isIdentity": null,
                                    "isKey": null,
                                    "isReadOnly": false,
                                    "isUnique": null,
                                    "isUpdatable": false,
                                    "numericPrecision": null,
                                    "numericScale": null
                                },
                                {
                                    "_provider": "PGSQL",
                                    "allowDbNull": null,
                                    "baseCatalogName": null,
                                    "baseColumnName": "coffeehouse",
                                    "baseSchemaName": null,
                                    "baseServerName": null,
                                    "baseTableName": null,
                                    "columnName": "coffeehouse",
                                    "columnOrdinal": 3,
                                    "columnSize": -1,
                                    "dataType": "varchar",
                                    "isAliased": null,
                                    "isAutoIncrement": null,
                                    "isExpression": null,
                                    "isHidden": null,
                                    "isIdentity": null,
                                    "isKey": null,
                                    "isReadOnly": false,
                                    "isUnique": null,
                                    "isUpdatable": false,
                                    "numericPrecision": null,
                                    "numericScale": null
                                },
                                {
                                    "_provider": "PGSQL",
                                    "allowDbNull": null,
                                    "baseCatalogName": null,
                                    "baseColumnName": "coffee",
                                    "baseSchemaName": null,
                                    "baseServerName": null,
                                    "baseTableName": null,
                                    "columnName": "coffee",
                                    "columnOrdinal": 4,
                                    "columnSize": -1,
                                    "dataType": "varchar",
                                    "isAliased": null,
                                    "isAutoIncrement": null,
                                    "isExpression": null,
                                    "isHidden": null,
                                    "isIdentity": null,
                                    "isKey": null,
                                    "isReadOnly": false,
                                    "isUnique": null,
                                    "isUpdatable": false,
                                    "numericPrecision": null,
                                    "numericScale": null
                                },
                                {
                                    "_provider": "PGSQL",
                                    "allowDbNull": null,
                                    "baseCatalogName": null,
                                    "baseColumnName": "price",
                                    "baseSchemaName": null,
                                    "baseServerName": null,
                                    "baseTableName": null,
                                    "columnName": "price",
                                    "columnOrdinal": 5,
                                    "columnSize": 4,
                                    "dataType": "float4",
                                    "isAliased": null,
                                    "isAutoIncrement": null,
                                    "isExpression": null,
                                    "isHidden": null,
                                    "isIdentity": null,
                                    "isKey": null,
                                    "isReadOnly": false,
                                    "isUnique": null,
                                    "isUpdatable": false,
                                    "numericPrecision": null,
                                    "numericScale": null
                                }
                            ],
                            "complete": true,
                            "id": 0,
                            "rowCount": 1
                        }
                    },
                    "execution_count": 4,
                    "data": {
                        "application/vnd.dataresource+json": {
                            "schema": {
                                "fields": [
                                    {
                                        "name": "name"
                                    },
                                    {
                                        "name": "address"
                                    },
                                    {
                                        "name": "license"
                                    },
                                    {
                                        "name": "coffeehouse"
                                    },
                                    {
                                        "name": "coffee"
                                    },
                                    {
                                        "name": "price"
                                    }
                                ]
                            },
                            "data": []
                        },
                        "text/html": [
                            "<table>",
                            "<tr><th>name</th><th>address</th><th>license</th><th>coffeehouse</th><th>coffee</th><th>price</th></tr>",
                            "</table>"
                        ]
                    }
                }
            ],
            "execution_count": 4
        },
        {
            "cell_type": "markdown",
            "source": [
                "# [4] A database with and without a DBMS\r\n",
                "\r\n",
                ""
            ],
            "metadata": {
                "azdata_cell_guid": "e262811a-8252-47f6-be59-4d63bf6f41e3"
            }
        }
    ]
}
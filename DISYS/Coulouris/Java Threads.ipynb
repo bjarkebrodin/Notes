{
 "cells": [
  {
   "cell_type": "markdown",
   "metadata": {},
   "source": [
    "# Threading in Java"
   ]
  },
  {
   "cell_type": "markdown",
   "metadata": {},
   "source": [
    "THreads are created on same JVM as origin in SUSPENDED state\n",
    "\n",
    "Made RUNNABLE by calling `start()` causing an internal call to its `run()` implementation.\n",
    "\n",
    "Threads can be organized in groups using `ThreadGroups`, this provides some utility.\n",
    "\n",
    "Threads in one threadgroup cannot modify threads in a different group without special elevation of privileges."
   ]
  },
  {
   "cell_type": "markdown",
   "metadata": {},
   "source": [
    "## Interface"
   ]
  },
  {
   "cell_type": "code",
   "execution_count": null,
   "metadata": {},
   "outputs": [],
   "source": [
    "// Construction\n",
    "Thread(ThreadGroup group, Runnable target, String name);\n",
    "Thread(...)\n",
    "Thread()\n",
    "\n",
    "// Use\n",
    "setPriority(int priority), getPriority()\n",
    "\n",
    "run()\n",
    "start()\n",
    "sleep()\n",
    "yield()\n",
    "join()\n",
    "interrupt()\n",
    "obj.wait(long ms, int ns)\n",
    "obj.notify()\n",
    "obj.notifyAll()"
   ]
  },
  {
   "cell_type": "markdown",
   "metadata": {},
   "source": [
    "### Thread Hello World"
   ]
  },
  {
   "cell_type": "code",
   "execution_count": 20,
   "metadata": {},
   "outputs": [
    {
     "name": "stdout",
     "output_type": "stream",
     "text": [
      "NEW\n",
      "Hello World\n",
      "TERMINATED\n"
     ]
    }
   ],
   "source": [
    "var t = new Thread(() -> System.out.println(\"Hello World\"));\n",
    "System.out.println(t.getState());\n",
    "t.start();\n",
    "Thread.yield(); // allow new thread to complete before we check again\n",
    "System.out.println(t.getState());\n",
    "t.join();\n"
   ]
  },
  {
   "cell_type": "markdown",
   "metadata": {},
   "source": [
    "### Thread Deterministic Hello World"
   ]
  },
  {
   "cell_type": "code",
   "execution_count": 1,
   "metadata": {},
   "outputs": [
    {
     "name": "stdout",
     "output_type": "stream",
     "text": [
      "Hello, World!\n"
     ]
    }
   ],
   "source": [
    "String msg = \"Hello\";\n",
    "Object semaphore = new Object();\n",
    "\n",
    "Thread A = new Thread() { @Override public void run() {\n",
    "    synchronized(semaphore) {\n",
    "        System.out.print(msg);\n",
    "        msg = \", World!\";\n",
    "        semaphore.notifyAll();\n",
    "    }\n",
    "}};\n",
    "\n",
    "Thread B = new Thread() { @Override public void run() {\n",
    "    synchronized(semaphore) {\n",
    "        try { \n",
    "            semaphore.wait();\n",
    "            System.out.println(msg);\n",
    "        } catch (InterruptedException e) { e.printStackTrace(); }\n",
    "    }\n",
    "}};\n",
    "\n",
    "B.start();\n",
    "A.start();\n",
    "\n",
    "A.join();\n",
    "B.join();\n"
   ]
  },
  {
   "cell_type": "code",
   "execution_count": null,
   "metadata": {},
   "outputs": [],
   "source": []
  }
 ],
 "metadata": {
  "kernelspec": {
   "display_name": "Java",
   "language": "java",
   "name": "java"
  },
  "language_info": {
   "codemirror_mode": "java",
   "file_extension": ".jshell",
   "mimetype": "text/x-java-source",
   "name": "Java",
   "pygments_lexer": "java",
   "version": "11.0.8+10-LTS"
  }
 },
 "nbformat": 4,
 "nbformat_minor": 4
}

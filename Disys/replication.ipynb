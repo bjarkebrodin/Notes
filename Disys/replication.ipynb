{
 "cells": [
  {
   "cell_type": "markdown",
   "metadata": {},
   "source": [
    "##### BJARKE BRODIN - DISYS 2020 "
   ]
  },
  {
   "cell_type": "markdown",
   "metadata": {},
   "source": [
    "# Replication\n",
    "In distributed systems, when talking about replication we refer to the duplication of services, processes or data. While replicating immutable data is trivial, there are many concerns introduced when we try to replicate mutable information.\n",
    "\n",
    "### Motivation\n",
    "\n",
    "Replication can be very useful in distributed sytems, we do things such as distributing work, backing data and even processes, as well as providing faster service by having data replicated in multiple geographical locations decreasing distance from client to server.\n",
    "\n",
    "Examples of this are quite ubiquitous, just look at the DNS name resolution, content delivery networks, file-backup/distribution systems such as Google Drive, Dropbox or OneDrive. Replication is also used to maintain a high quality of service in streaming applications such as i.e. Netflix. We can talk more formally about the ..."
   ]
  },
  {
   "cell_type": "markdown",
   "metadata": {},
   "source": [
    "## Advantages of replication\n",
    "\n",
    "#### Performance Enhancement\n",
    "caching, load-balancing, \n",
    "\n",
    "#### Increased availability\n",
    "server failures, network partitions? disconneted operation?\n",
    ""
   ]
  },
  {
   "cell_type": "markdown",
   "metadata": {},
   "source": [
    "## Availabilty\n",
    "\n",
    "We talk about the availability of an _object or service_ as the probability that it is available, or equivalently, the percentage of time during which it is available.\n",
    "\n",
    "For some service $s$ being served by $n$ servers each with an independent probability of failure $p$, we get that the availability $A(s) = 1 - p^n$. That is - $s$ i available at all times, except only when all $n$ servers are down."
   ]
  },
  {
   "cell_type": "code",
   "execution_count": 1,
   "metadata": {},
   "source": [
    ""
   ],
   "outputs": []
  }
 ],
 "metadata": {
  "kernelspec": {
   "display_name": ".NET (C#)",
   "language": "C#",
   "name": ".net-csharp"
  },
  "language_info": {
   "file_extension": ".cs",
   "mimetype": "text/x-csharp",
   "name": "C#",
   "pygments_lexer": "csharp",
   "version": "8.0"
  }
 },
 "nbformat": 4,
 "nbformat_minor": 4
}
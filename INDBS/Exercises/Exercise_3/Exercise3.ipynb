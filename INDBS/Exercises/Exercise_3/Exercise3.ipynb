{
    "metadata": {
        "kernelspec": {
            "name": "SQL",
            "display_name": "SQL",
            "language": "sql"
        },
        "language_info": {
            "name": "sql",
            "version": ""
        }
    },
    "nbformat_minor": 2,
    "nbformat": 4,
    "cells": [
        {
            "cell_type": "code",
            "source": [
                "--1\n",
                "create view AllAccountRecords as\n",
                "select  A.aid, A.pid, A.adate, A.abalance, A.aover, AR.rid, AR.rdate, AR.rtype, AR.ramount, AR.rbalance\n",
                "from    accounts A\n",
                "left outer JOIN accountrecords AR on A.aid = AR.aid;"
            ],
            "metadata": {
                "azdata_cell_guid": "a70f9434-4079-4b94-9e01-4bca23b23333",
                "tags": []
            },
            "outputs": [
                {
                    "output_type": "display_data",
                    "data": {
                        "text/html": "Commands completed successfully"
                    },
                    "metadata": {}
                },
                {
                    "output_type": "display_data",
                    "data": {
                        "text/html": "Total execution time: 00:00:00.008"
                    },
                    "metadata": {}
                }
            ],
            "execution_count": 368
        },
        {
            "cell_type": "code",
            "source": [
                "--2\n",
                "create function InsertBill()\n",
                "returns trigger \n",
                "as $$ begin\n",
                "    if (new.bamount < 0) then\n",
                "        raise exception 'Negative amount on bill: %', new.bamount\n",
                "        using errcode = '45000';\n",
                "    elsif (new.bduedate < (TIMESTAMP 'tomorrow')) then \n",
                "        raise exception 'Bill due date too soon: %', new.bduedate\n",
                "        using errcode = '45000';\n",
                "    end if;\n",
                "    return new;\n",
                "end $$ language plpgsql;\n",
                "\n",
                "create function Prevent()\n",
                "returns trigger\n",
                "as $$ begin\n",
                "    raise exception 'Illegal Deletion/Update on table bills'\n",
                "    using errcode = '45000';\n",
                "end $$ language plpgsql;\n",
                "\n",
                "create trigger PreventOperation\n",
                "before update of bid, pid, bduedate, bamount\n",
                "on bills \n",
                "for each row execute procedure Prevent();\n",
                "\n",
                "create trigger ValidateBillInsertion\n",
                "before insert\n",
                "on bills \n",
                "for each row execute procedure InsertBill();"
            ],
            "metadata": {
                "azdata_cell_guid": "1e55a76f-8ab0-41fd-8fd6-b090b8d63fa2",
                "tags": []
            },
            "outputs": [
                {
                    "output_type": "display_data",
                    "data": {
                        "text/html": "Commands completed successfully"
                    },
                    "metadata": {}
                },
                {
                    "output_type": "display_data",
                    "data": {
                        "text/html": "Commands completed successfully"
                    },
                    "metadata": {}
                },
                {
                    "output_type": "display_data",
                    "data": {
                        "text/html": "Commands completed successfully"
                    },
                    "metadata": {}
                },
                {
                    "output_type": "display_data",
                    "data": {
                        "text/html": "Commands completed successfully"
                    },
                    "metadata": {}
                },
                {
                    "output_type": "display_data",
                    "data": {
                        "text/html": "Total execution time: 00:00:00.005"
                    },
                    "metadata": {}
                }
            ],
            "execution_count": 369
        },
        {
            "cell_type": "code",
            "source": [
                "--3\n",
                "create function InsertAccountRecord()\n",
                "returns trigger \n",
                "as $$ \n",
                "declare \n",
                "    available integer;\n",
                "    newbalance integer;\n",
                "begin\n",
                "    if (TG_OP = 'DELETE' or TG_OP = 'UPDATE') then\n",
                "        raise exception 'Delete/Update forbidden on AccountRecords'\n",
                "        using errcode = '45000';\n",
                "    end if;\n",
                "\n",
                "    -- retrieve existing information about account\n",
                "    select  A.abalance+A.aover, A.abalance+new.ramount \n",
                "            into available, newbalance\n",
                "    from    accounts A\n",
                "    where   A.aid = new.aid;\n",
                "\n",
                "    -- withdrawn amount can be minimum -available\n",
                "    if (new.ramount < -available) then\n",
                "        raise exception 'Invalid withdrawal on account: % \\nAvailable: %\\n Attempted withdrawal: %\\n',new.aid,available,new.ramount\n",
                "        using errcode = '45000';\n",
                "    else \n",
                "        -- update balance on account\n",
                "        update  accounts\n",
                "        set     abalance = newbalance\n",
                "        where   aid = new.aid;\n",
                "        -- update balance on inserted record\n",
                "        new.rbalance = newbalance;\n",
                "        -- return new record\n",
                "        return new;\n",
                "    end if;\n",
                "end $$ language plpgsql;\n",
                "\n",
                "create trigger InsertNewAccountRecord \n",
                "before insert or update or delete\n",
                "on accountrecords \n",
                "for each row execute procedure InsertAccountRecord();"
            ],
            "metadata": {
                "azdata_cell_guid": "3170186e-fb8e-4748-9369-d83b27d659a0",
                "tags": []
            },
            "outputs": [
                {
                    "output_type": "display_data",
                    "data": {
                        "text/html": "Commands completed successfully"
                    },
                    "metadata": {}
                },
                {
                    "output_type": "display_data",
                    "data": {
                        "text/html": "Commands completed successfully"
                    },
                    "metadata": {}
                },
                {
                    "output_type": "display_data",
                    "data": {
                        "text/html": "Total execution time: 00:00:00.010"
                    },
                    "metadata": {}
                }
            ],
            "execution_count": 370
        },
        {
            "cell_type": "code",
            "source": [
                "--4\n",
                "create function Transfer(\n",
                "    iToAID integer,\n",
                "    iFromAID integer,\n",
                "    iAmount integer\n",
                ") returns void \n",
                "as $$ begin\n",
                "    if (iAmount < 0) then\n",
                "        raise exception 'Cannot transfer a negative amount'\n",
                "        using errcode = '45000';\n",
                "    end if;\n",
                "\n",
                "    insert into accountrecords(aid,rdate,rtype,ramount)        \n",
                "    values  (IToAID, current_date, 'T', iAmount),\n",
                "            (IFromAID, current_date, 'T', -iAmount);\n",
                "end $$ language plpgsql;"
            ],
            "metadata": {
                "azdata_cell_guid": "b2d8e277-7e58-438f-aba8-cd2b8147821a",
                "tags": []
            },
            "outputs": [
                {
                    "output_type": "display_data",
                    "data": {
                        "text/html": "Commands completed successfully"
                    },
                    "metadata": {}
                },
                {
                    "output_type": "display_data",
                    "data": {
                        "text/html": "Total execution time: 00:00:00.001"
                    },
                    "metadata": {}
                }
            ],
            "execution_count": 371
        },
        {
            "cell_type": "code",
            "source": [
                "--5\n",
                "create view DebtorStatus as \n",
                "select  P.pid, P.pname, sum(A.abalance) as totalbalance, (select -sum(AA.abalance) from accounts AA where AA.pid = P.pid and AA.abalance < 0) as totaloverdraft\n",
                "from    people P\n",
                "join    accounts A on A.pid = P.pid\n",
                "GROUP BY P.pid\n",
                "HAVING  sum(A.abalance) < 0;"
            ],
            "metadata": {
                "azdata_cell_guid": "8c807530-acb2-43bf-8180-6784fc036013"
            },
            "outputs": [
                {
                    "output_type": "display_data",
                    "data": {
                        "text/html": "Commands completed successfully"
                    },
                    "metadata": {}
                },
                {
                    "output_type": "display_data",
                    "data": {
                        "text/html": "Total execution time: 00:00:00.004"
                    },
                    "metadata": {}
                }
            ],
            "execution_count": 372
        },
        {
            "cell_type": "code",
            "source": [
                "--6\n",
                "create function AutoCreateAccount() returns trigger \n",
                "as $$ begin\n",
                "    insert into Accounts(pid,adate,abalance,aover)\n",
                "    values (new.pid, CURRENT_DATE, 0, 10000);\n",
                "    return new;\n",
                "end $$ language plpgsql;\n",
                "\n",
                "create trigger CreateAccountOnNewPerson\n",
                "after insert on people\n",
                "for each row EXECUTE procedure AutoCreateAccount();"
            ],
            "metadata": {
                "azdata_cell_guid": "748f059f-86a3-4d9e-a8e4-6492cc794185",
                "tags": []
            },
            "outputs": [
                {
                    "output_type": "display_data",
                    "data": {
                        "text/html": "Commands completed successfully"
                    },
                    "metadata": {}
                },
                {
                    "output_type": "display_data",
                    "data": {
                        "text/html": "Commands completed successfully"
                    },
                    "metadata": {}
                },
                {
                    "output_type": "display_data",
                    "data": {
                        "text/html": "Total execution time: 00:00:00.017"
                    },
                    "metadata": {}
                }
            ],
            "execution_count": 373
        },
        {
            "cell_type": "code",
            "source": [
                "--7\n",
                "create function InsertPerson (\n",
                "    IN iName varchar,\n",
                "    IN iGender char(1),\n",
                "    IN iHeight float, \n",
                "    IN iAmount integer\n",
                ") returns void \n",
                "as $$ \n",
                "declare \n",
                "    newacc integer;\n",
                "begin\n",
                "    insert into people (pname,pgender,pheight)\n",
                "    values (iName, iGender, iHeight);    \n",
                "    \n",
                "    select lastval() into newacc;\n",
                "\n",
                "    insert into accountrecords(aid,rdate,rtype,ramount)\n",
                "    values (newacc, CURRENT_DATE ,'T', iAmount);\n",
                "end $$ language plpgsql;"
            ],
            "metadata": {
                "azdata_cell_guid": "b8c89588-bd8a-46ee-bb4c-0274902495ed"
            },
            "outputs": [
                {
                    "output_type": "display_data",
                    "data": {
                        "text/html": "Commands completed successfully"
                    },
                    "metadata": {}
                },
                {
                    "output_type": "display_data",
                    "data": {
                        "text/html": "Total execution time: 00:00:00.001"
                    },
                    "metadata": {}
                }
            ],
            "execution_count": 374
        },
        {
            "cell_type": "code",
            "source": [
                "--8\n",
                "create function PayOneBill (\n",
                "    IN iBID integer\n",
                ") returns void \n",
                "as $$ \n",
                "declare\n",
                "    id integer;\n",
                "    ispaid boolean;\n",
                "    amount integer;\n",
                "    accid integer;\n",
                "begin\n",
                "    select  pid, bamount, bispaid into id, amount, ispaid\n",
                "    from    bills B\n",
                "    where   B.bid = iBID;\n",
                "\n",
                "    select  max(A.aid) into accid\n",
                "    from    accounts A \n",
                "    where   A.pid = id and (A.aover+A.abalance) = (\n",
                "        select  max(aover+abalance)\n",
                "        from    accounts\n",
                "        where   pid = id\n",
                "    );\n",
                "\n",
                "    if (ispaid) then\n",
                "        raise exception 'Bill already paid: %',iBID\n",
                "        using errcode = '45000';\n",
                "    elsif (id is null) then\n",
                "        raise exception 'Bill does not exist: %',iBID\n",
                "        using errcode = '45000';\n",
                "    elsif (accid is null) then \n",
                "        raise exception 'No account available for personid: %', id\n",
                "        using errcode = '45000';\n",
                "    end if;\n",
                "\n",
                "    insert into accountrecords(aid, rdate, rtype, ramount)\n",
                "    values (\n",
                "        accid,\n",
                "        CURRENT_DATE,\n",
                "        'B',\n",
                "        - amount\n",
                "    );\n",
                "\n",
                "    update  bills\n",
                "    set     bispaid = TRUE\n",
                "    where   bid = iBID;\n",
                "end $$ language plpgsql;"
            ],
            "metadata": {
                "azdata_cell_guid": "244e898a-28fc-4616-a027-1d8a3549b6fe"
            },
            "outputs": [
                {
                    "output_type": "display_data",
                    "data": {
                        "text/html": "Commands completed successfully"
                    },
                    "metadata": {}
                },
                {
                    "output_type": "display_data",
                    "data": {
                        "text/html": "Total execution time: 00:00:00.002"
                    },
                    "metadata": {}
                }
            ],
            "execution_count": 375
        },
        {
            "cell_type": "code",
            "source": [
                "--9\n",
                "create function LoanMoney (\n",
                "    IN iAID integer,\n",
                "    IN iAmount integer, \n",
                "    IN iDueDate Date\n",
                ") returns void \n",
                "as $$ \n",
                "declare \n",
                "    pid integer;\n",
                "begin \n",
                "    \n",
                "    insert into accountrecords(aid, rdate, rtype, ramount)\n",
                "    values (iAID, CURRENT_DATE, 'L', iAmount);\n",
                "\n",
                "    select  A.pid into pid\n",
                "    from    accounts A \n",
                "    where   A.aid = iAID;\n",
                "\n",
                "    insert into bills(pid, bduedate, bamount, bispaid)\n",
                "    values (pid, iDueDate, iAmount, FALSE);\n",
                "\n",
                "end $$ language plpgsql;"
            ],
            "metadata": {
                "azdata_cell_guid": "61cd5378-1c36-46ce-9e59-6b92519ef009",
                "tags": []
            },
            "outputs": [
                {
                    "output_type": "display_data",
                    "data": {
                        "text/html": "Commands completed successfully"
                    },
                    "metadata": {}
                },
                {
                    "output_type": "display_data",
                    "data": {
                        "text/html": "Total execution time: 00:00:00.001"
                    },
                    "metadata": {}
                }
            ],
            "execution_count": 376
        },
        {
            "cell_type": "code",
            "source": [
                "--10\n",
                "create view FinancialStatus as \n",
                "select  P.pid, P.pname, \n",
                "        case when (sum(A.abalance) is null) then 0\n",
                "        else sum(A.abalance) end as balance, \n",
                "        case when (sum(B.bamount) is null) then 0\n",
                "        else sum(B.bamount) end as unpaid\n",
                "from    accounts A\n",
                "JOIN    people P on P.pid = A.pid\n",
                "left outer JOIN    bills B on P.pid = B.pid and B.bispaid = FALSE\n",
                "group by P.pid, P.pname;"
            ],
            "metadata": {
                "azdata_cell_guid": "48587415-49c1-400c-abda-9e5cf379d350"
            },
            "outputs": [
                {
                    "output_type": "display_data",
                    "data": {
                        "text/html": "Commands completed successfully"
                    },
                    "metadata": {}
                },
                {
                    "output_type": "display_data",
                    "data": {
                        "text/html": "Total execution time: 00:00:00.004"
                    },
                    "metadata": {}
                }
            ],
            "execution_count": 377
        }
    ]
}
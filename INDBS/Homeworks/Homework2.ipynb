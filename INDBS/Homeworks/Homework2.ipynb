{
    "metadata": {
        "kernelspec": {
            "name": "SQL",
            "display_name": "SQL",
            "language": "sql"
        },
        "language_info": {
            "name": "sql",
            "version": ""
        }
    },
    "nbformat_minor": 2,
    "nbformat": 4,
    "cells": [
        {
            "cell_type": "code",
            "source": [
                "-- a\n",
                "select  count(distinct countrycode)\n",
                "from    empires\n",
                "where   empire = 'Danish Empire';"
            ],
            "metadata": {
                "azdata_cell_guid": "5e5f6c64-3a01-4024-a37b-d2cce7659bb7",
                "tags": []
            },
            "outputs": [],
            "execution_count": null
        },
        {
            "cell_type": "code",
            "source": [
                "-- b\n",
                "select  count(distinct CC1.countrycode)\n",
                "from    countries_continents CC1\n",
                "JOIN    countries_continents CC2 on CC1.countrycode = CC2.countrycode and CC1.continent <> CC2.continent and CC1.continent = 'Europe';"
            ],
            "metadata": {
                "azdata_cell_guid": "3c79f48e-9673-43a6-8b58-d08cacf288fa"
            },
            "outputs": [],
            "execution_count": null
        },
        {
            "cell_type": "code",
            "source": [
                "-- c\n",
                "select  cast(sum(CL.percentage*C.population/100) as integer)\n",
                "from    countries_continents CC\n",
                "join    countries_languages CL on CC.countrycode = CL.countrycode and CL.language = 'Spanish' and CC.continent = 'South America'\n",
                "join    countries C on C.code = CC.countrycode and C.population > 1000000;"
            ],
            "metadata": {
                "azdata_cell_guid": "dac7eb52-22ce-431b-adbb-010f0b337392",
                "tags": []
            },
            "outputs": [],
            "execution_count": null
        },
        {
            "cell_type": "code",
            "source": [
                "-- d\n",
                "select  count(*) from (\n",
                "select  count(*)\n",
                "from    empires E \n",
                "join    countries_languages CL on E.countrycode = CL.countrycode and E.empire = 'Benelux'\n",
                "group by CL.language\n",
                "having  count(distinct E.countrycode) = (select count(distinct countrycode) from empires where empire = 'Benelux') \n",
                ") temp;"
            ],
            "metadata": {
                "azdata_cell_guid": "8b682eda-87c0-4116-a5db-3283670cc378"
            },
            "outputs": [],
            "execution_count": null
        },
        {
            "cell_type": "markdown",
            "source": [
                "## Homework 3"
            ],
            "metadata": {
                "azdata_cell_guid": "a473ca81-ca07-4d6d-9f1c-6a4a172d5ed5"
            }
        },
        {
            "cell_type": "code",
            "source": [
                "-- a control\n",
                "select  count(*)\n",
                "FROM    cities C\n",
                "join    countries A on C.countrycode = A.code\n",
                "where   C.population * 100 < A.population;"
            ],
            "metadata": {
                "azdata_cell_guid": "885b1281-5129-4f00-ba2d-5131a3ac13ce"
            },
            "outputs": [
                {
                    "output_type": "display_data",
                    "data": {
                        "text/html": "(1 row(s) affected)"
                    },
                    "metadata": {}
                },
                {
                    "output_type": "display_data",
                    "data": {
                        "text/html": "Total execution time: 00:00:00.017"
                    },
                    "metadata": {}
                },
                {
                    "output_type": "execute_result",
                    "metadata": {},
                    "execution_count": 5,
                    "data": {
                        "application/vnd.dataresource+json": {
                            "schema": {
                                "fields": [
                                    {
                                        "name": "count"
                                    }
                                ]
                            },
                            "data": [
                                {
                                    "0": "3264"
                                }
                            ]
                        },
                        "text/html": [
                            "<table>",
                            "<tr><th>count</th></tr>",
                            "<tr><td>3264</td></tr>",
                            "</table>"
                        ]
                    }
                }
            ],
            "execution_count": 5
        },
        {
            "cell_type": "code",
            "source": [
                "-- a\n",
                "select  count(*)\n",
                "FROM    cities C\n",
                "join    countries A on C.countrycode = A.code\n",
                "where   C.population > (A.population * 0.5);"
            ],
            "metadata": {
                "azdata_cell_guid": "91199984-57e4-47ad-9ccb-8e05d4d06fc1"
            },
            "outputs": [
                {
                    "output_type": "display_data",
                    "data": {
                        "text/html": "(1 row(s) affected)"
                    },
                    "metadata": {}
                },
                {
                    "output_type": "display_data",
                    "data": {
                        "text/html": "Total execution time: 00:00:00.014"
                    },
                    "metadata": {}
                },
                {
                    "output_type": "execute_result",
                    "metadata": {},
                    "execution_count": 4,
                    "data": {
                        "application/vnd.dataresource+json": {
                            "schema": {
                                "fields": [
                                    {
                                        "name": "count"
                                    }
                                ]
                            },
                            "data": [
                                {
                                    "0": "14"
                                }
                            ]
                        },
                        "text/html": [
                            "<table>",
                            "<tr><th>count</th></tr>",
                            "<tr><td>14</td></tr>",
                            "</table>"
                        ]
                    }
                }
            ],
            "execution_count": 4
        },
        {
            "cell_type": "code",
            "source": [
                "-- b control\n",
                "select count (*) from (\n",
                "select  count(*)\n",
                "from    countries_languages\n",
                "group by countrycode\n",
                "having  sum(percentage) > 100 ) TMP;"
            ],
            "metadata": {
                "azdata_cell_guid": "c3ac3620-ee45-4fce-854b-e794d1ddeefd"
            },
            "outputs": [
                {
                    "output_type": "display_data",
                    "data": {
                        "text/html": "(1 row(s) affected)"
                    },
                    "metadata": {}
                },
                {
                    "output_type": "display_data",
                    "data": {
                        "text/html": "Total execution time: 00:00:00.007"
                    },
                    "metadata": {}
                },
                {
                    "output_type": "execute_result",
                    "metadata": {},
                    "execution_count": 8,
                    "data": {
                        "application/vnd.dataresource+json": {
                            "schema": {
                                "fields": [
                                    {
                                        "name": "count"
                                    }
                                ]
                            },
                            "data": [
                                {
                                    "0": "2"
                                }
                            ]
                        },
                        "text/html": [
                            "<table>",
                            "<tr><th>count</th></tr>",
                            "<tr><td>2</td></tr>",
                            "</table>"
                        ]
                    }
                }
            ],
            "execution_count": 8
        },
        {
            "cell_type": "code",
            "source": [
                "-- b\n",
                "select  count(*) from (\n",
                "select  countrycode\n",
                "from    countries_languages\n",
                "group by countrycode\n",
                "having  sum(percentage) < 100\n",
                "union   \n",
                "select  C.code\n",
                "from    countries C\n",
                "where   not exists (select * from countries_languages where countrycode = C.code) )tmp;"
            ],
            "metadata": {
                "azdata_cell_guid": "b181d1c0-4909-4568-aaa0-d8ed12ece308"
            },
            "outputs": [
                {
                    "output_type": "display_data",
                    "data": {
                        "text/html": "(1 row(s) affected)"
                    },
                    "metadata": {}
                },
                {
                    "output_type": "display_data",
                    "data": {
                        "text/html": "Total execution time: 00:00:00.011"
                    },
                    "metadata": {}
                },
                {
                    "output_type": "execute_result",
                    "metadata": {},
                    "execution_count": 55,
                    "data": {
                        "application/vnd.dataresource+json": {
                            "schema": {
                                "fields": [
                                    {
                                        "name": "count"
                                    }
                                ]
                            },
                            "data": [
                                {
                                    "0": "208"
                                }
                            ]
                        },
                        "text/html": [
                            "<table>",
                            "<tr><th>count</th></tr>",
                            "<tr><td>208</td></tr>",
                            "</table>"
                        ]
                    }
                }
            ],
            "execution_count": 55
        },
        {
            "cell_type": "code",
            "source": [
                "-- c control\n",
                "select  *\n",
                "from    extremecities \n",
                "where   countrycode = 'FRA';"
            ],
            "metadata": {
                "azdata_cell_guid": "614f6fd3-557c-4caf-8db0-2869fcc5536b"
            },
            "outputs": [
                {
                    "output_type": "display_data",
                    "data": {
                        "text/html": "(1 row(s) affected)"
                    },
                    "metadata": {}
                },
                {
                    "output_type": "display_data",
                    "data": {
                        "text/html": "Total execution time: 00:00:00.007"
                    },
                    "metadata": {}
                },
                {
                    "output_type": "execute_result",
                    "metadata": {},
                    "execution_count": 13,
                    "data": {
                        "application/vnd.dataresource+json": {
                            "schema": {
                                "fields": [
                                    {
                                        "name": "countrycode"
                                    },
                                    {
                                        "name": "biggest"
                                    },
                                    {
                                        "name": "smallest"
                                    }
                                ]
                            },
                            "data": [
                                {
                                    "0": "FRA",
                                    "1": "2125246",
                                    "2": "90674"
                                }
                            ]
                        },
                        "text/html": [
                            "<table>",
                            "<tr><th>countrycode</th><th>biggest</th><th>smallest</th></tr>",
                            "<tr><td>FRA</td><td>2125246</td><td>90674</td></tr>",
                            "</table>"
                        ]
                    }
                }
            ],
            "execution_count": 13
        },
        {
            "cell_type": "code",
            "source": [
                "drop view if exists extremecities;\n",
                "create view extremecities as\n",
                "SELECT  countrycode, max(population) as biggest, min(population) as smallest\n",
                "from    cities \n",
                "group by countrycode;\n",
                "\n",
                "-- c \n",
                "select  C.id\n",
                "from    cities C\n",
                "join    extremecities EC on C.countrycode = EC.countrycode\n",
                "where   (C.population/EC.smallest) = ( \n",
                "    select  max(biggest/smallest)\n",
                "    from    extremecities \n",
                ");"
            ],
            "metadata": {
                "azdata_cell_guid": "7d5cfe71-8eab-4b05-b1e7-34221ecb2378"
            },
            "outputs": [
                {
                    "output_type": "display_data",
                    "data": {
                        "text/html": "Commands completed successfully"
                    },
                    "metadata": {}
                },
                {
                    "output_type": "display_data",
                    "data": {
                        "text/html": "Commands completed successfully"
                    },
                    "metadata": {}
                },
                {
                    "output_type": "display_data",
                    "data": {
                        "text/html": "(1 row(s) affected)"
                    },
                    "metadata": {}
                },
                {
                    "output_type": "display_data",
                    "data": {
                        "text/html": "Total execution time: 00:00:00.028"
                    },
                    "metadata": {}
                },
                {
                    "output_type": "execute_result",
                    "metadata": {},
                    "execution_count": 46,
                    "data": {
                        "application/vnd.dataresource+json": {
                            "schema": {
                                "fields": [
                                    {
                                        "name": "id"
                                    }
                                ]
                            },
                            "data": [
                                {
                                    "0": "456"
                                }
                            ]
                        },
                        "text/html": [
                            "<table>",
                            "<tr><th>id</th></tr>",
                            "<tr><td>456</td></tr>",
                            "</table>"
                        ]
                    }
                }
            ],
            "execution_count": 46
        },
        {
            "cell_type": "code",
            "source": [
                "-- d\n",
                "drop view if exists urbanpop cascade;\n",
                "create view urbanpop as\n",
                "select  countrycode, sum(population) as population\n",
                "from    cities\n",
                "group by countrycode\n",
                "having  sum(population) > 1000000;\n",
                "\n",
                "drop view if exists popratio;\n",
                "create view popratio as\n",
                "select  C.code as countrycode, 1.0*U.population / C.population as ratio\n",
                "from    countries C \n",
                "join    urbanpop U on C.code = U.countrycode;\n",
                "\n",
                "select  countrycode\n",
                "from    popratio\n",
                "where   ratio = (select max(ratio) from popratio);"
            ],
            "metadata": {
                "azdata_cell_guid": "b22e9aba-15ad-4f00-a2f3-6774806f4661"
            },
            "outputs": [
                {
                    "output_type": "display_data",
                    "data": {
                        "text/html": "NOTICE:  drop cascades to view popratio\n"
                    },
                    "metadata": {}
                },
                {
                    "output_type": "display_data",
                    "data": {
                        "text/html": "Commands completed successfully"
                    },
                    "metadata": {}
                },
                {
                    "output_type": "display_data",
                    "data": {
                        "text/html": "Commands completed successfully"
                    },
                    "metadata": {}
                },
                {
                    "output_type": "display_data",
                    "data": {
                        "text/html": "NOTICE:  view \"popratio\" does not exist, skipping\n"
                    },
                    "metadata": {}
                },
                {
                    "output_type": "display_data",
                    "data": {
                        "text/html": "Commands completed successfully"
                    },
                    "metadata": {}
                },
                {
                    "output_type": "display_data",
                    "data": {
                        "text/html": "Commands completed successfully"
                    },
                    "metadata": {}
                },
                {
                    "output_type": "display_data",
                    "data": {
                        "text/html": "(1 row(s) affected)"
                    },
                    "metadata": {}
                },
                {
                    "output_type": "display_data",
                    "data": {
                        "text/html": "Total execution time: 00:00:00.038"
                    },
                    "metadata": {}
                },
                {
                    "output_type": "execute_result",
                    "metadata": {},
                    "execution_count": 59,
                    "data": {
                        "application/vnd.dataresource+json": {
                            "schema": {
                                "fields": [
                                    {
                                        "name": "countrycode"
                                    }
                                ]
                            },
                            "data": [
                                {
                                    "0": "SGP"
                                }
                            ]
                        },
                        "text/html": [
                            "<table>",
                            "<tr><th>countrycode</th></tr>",
                            "<tr><td>SGP</td></tr>",
                            "</table>"
                        ]
                    }
                }
            ],
            "execution_count": 59
        }
    ]
}
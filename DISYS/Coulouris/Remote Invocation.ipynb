{
 "cells": [
  {
   "cell_type": "markdown",
   "metadata": {},
   "source": [
    "# Remote Invocation"
   ]
  },
  {
   "cell_type": "markdown",
   "metadata": {},
   "source": [
    "*R* protocol : Reply\n",
    "\n",
    "*RR* protocol : Request-Reply\n",
    "- keep history for retransmitting reply if lost, OR use idempotent operations\n",
    "- consider subsequent requests from same client an ack\n",
    "\n",
    "*RRA* protocol : Request-Reply-Ack\n",
    "- a few dropped acks are not of large consequence\n",
    "- can reduce potential memory load"
   ]
  },
  {
   "cell_type": "markdown",
   "metadata": {},
   "source": [
    "## HTTP"
   ]
  },
  {
   "cell_type": "markdown",
   "metadata": {},
   "source": [
    "Request\n",
    "\n",
    "`<METHOD> URL HTTP/X.X <HEADERS> <BODY>`\n",
    "\n",
    "Reply\n",
    "\n",
    "`HTTP/X.X <STATUSCODE> <REASON> <HEADERS> <BODY>`\n",
    "\n",
    "### Methods\n",
    "\n",
    "`GET` - Request resource\n",
    "\n",
    "`HEAD` - Get but without body\n",
    "\n",
    "`POST` - Submit data to resource\n",
    "\n",
    "`PUT` - Update/submit data to resource\n",
    "\n",
    "`DELETE` - Delete resource\n",
    "\n",
    "`OPTIONS` - Request options provided by server\n",
    "\n",
    "`TRACE` - Diagnostic"
   ]
  },
  {
   "cell_type": "markdown",
   "metadata": {},
   "source": [
    "## RPC"
   ]
  },
  {
   "cell_type": "markdown",
   "metadata": {},
   "source": [
    "PROBLEM: Transparency in cost of operations, when are my objects normal and when are they distributed?\n",
    "\n",
    "- Does not support pass by reference\n",
    "\n",
    "- Require IDLs to dynamically publish interfaces\n",
    "\n",
    "- Remote operations should be visibly remote?"
   ]
  },
  {
   "cell_type": "markdown",
   "metadata": {},
   "source": [
    "### Semantics\n",
    "\n",
    "*maybe* : may or may not execute. omission, crash\n",
    "\n",
    "*at-least-once* : executes, may execute too many times. crash, byzantine (if multiple executes exhibit this).\n",
    "\n",
    "*at-most-once* : crash, byzantine (channel omission or malicious)\n",
    "\n"
   ]
  },
  {
   "cell_type": "markdown",
   "metadata": {},
   "source": [
    "## RMI"
   ]
  },
  {
   "cell_type": "markdown",
   "metadata": {},
   "source": [
    "RMI but richer\n",
    "- global object identity -> pass by reference for such objects now valid\n",
    "- directly compatible with OO tooling"
   ]
  },
  {
   "cell_type": "code",
   "execution_count": null,
   "metadata": {},
   "outputs": [],
   "source": []
  }
 ],
 "metadata": {
  "kernelspec": {
   "display_name": "Java",
   "language": "java",
   "name": "java"
  },
  "language_info": {
   "codemirror_mode": "java",
   "file_extension": ".jshell",
   "mimetype": "text/x-java-source",
   "name": "Java",
   "pygments_lexer": "java",
   "version": "11.0.8+10-LTS"
  }
 },
 "nbformat": 4,
 "nbformat_minor": 4
}

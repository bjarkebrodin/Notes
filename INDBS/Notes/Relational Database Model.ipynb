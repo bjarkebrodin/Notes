{
    "metadata": {
        "kernelspec": {
            "name": "SQL",
            "display_name": "SQL",
            "language": "sql"
        },
        "language_info": {
            "name": "sql",
            "version": ""
        }
    },
    "nbformat_minor": 2,
    "nbformat": 4,
    "cells": [
        {
            "cell_type": "markdown",
            "source": [
                "##### BJARKE BRODIN - INDBS 2020"
            ],
            "metadata": {
                "azdata_cell_guid": "9582cf19-94f9-4ec0-927e-d814000de96d"
            }
        },
        {
            "cell_type": "markdown",
            "source": [
                "# The Relational Database Model\n",
                "\n",
                "The relational model, invented by Edgar F. Codd, is a formal data model derived from set theory and first order predicate logic. The idea of the relational data model is that we organize data in relations: <code>Relation(Attribute, Attribute)</code> - and then use set operations to perform queries on them.\n",
                ""
            ],
            "metadata": {
                "azdata_cell_guid": "9e60c70c-e565-43c1-a0d8-6b6a96edbfb2"
            }
        },
        {
            "cell_type": "markdown",
            "source": [
                "## Basics of the Relational Data Model\n",
                "\n",
                "### Relation\n",
                "\n",
                "A relation is just a set of tuples of equal size. To achieve semantics we name the relation, and each index of its tuples. Example: <code>Car(Manufacturer, Model, Year)</code>. We then call the named indices of the tuples <em>attribute types</em>.\n",
                "\n",
                "### Domain\n",
                "\n",
                "A domain specifies a range of valid values for an attribute type. We can use datatypes and additional constraints to specify domains for attribute types. Formally we can say that a relation of attribute types a1,a2,...,an is a subset of the cartesian product domain(a1) x domain(a2) x ... x domain(an)\n",
                "\n",
                "### Superkey\n",
                "\n",
                "A subset of attribute types of a relation R for which no two tuples in R should have the same combination of values. Formally a set of attribute types A is a superkey iff. for all tuples a,b in R : A(a) != A(b).\n",
                "\n",
                "### Key\n",
                "\n",
                "A key of a relation R, is a set of attribute types K of R, such that K is a superkey, and the removal of any attributy type from K would remove the superkey property (a minimal superkey).\n",
                "\n",
                "### Primary Key\n",
                "\n",
                "A relation R may have many keys, one of which is designated the primary key, the remaining keys we call candidate or alternative keys.\n",
                "\n",
                "### Foreign Key\n",
                "\n",
                "A foreign key of relation R, is a set of attribute types A such that A is the primary key of a different relation P. Additionally the domains of the attribute types of A must correspond to the domains of the primary key of P. Lastly any values of A occurring in R must also occur in the columns of P, unless the values of A are NULL.\n",
                "\n",
                "### Domain Constraint\n",
                "\n",
                "The value of each attribute type A must be single-valued and from the domain domain(A).\n",
                "\n",
                "### Key Constraint\n",
                "\n",
                "Every relation has a key that allows unique identification of its tuples\n",
                "\n",
                "### Entity Integrity Constraint\n",
                "\n",
                "The attribute types that make up the primary key should always satisfy a NOT NULL constraint\n",
                "\n",
                "### Referential Integrity Constraint\n",
                "\n",
                "A foreign key has the same domain as the primary key to which it is referring, and occurs either as an existing value of the primary key or as null."
            ],
            "metadata": {
                "azdata_cell_guid": "a9365e00-8b78-40a5-b4a4-e6694ad87001"
            }
        },
        {
            "cell_type": "markdown",
            "source": [
                "## Normalization\n",
                "\n",
                "If we aren't careful about the way we design our relations, we might experience anomalous behaviour during some operations.\n",
                "\n",
                "An <em>insertion anomaly</em> can occur if an insertion can result in wrong data, consider for example the relation Address(Street,Zip,City) - if we aren't careful we might allow the insertion of two different cities to the same value for zip - this is an insertion anomaly.\n",
                "\n",
                "An <em>deletion anomaly</em> may occur if the deletion of one type of data results in anomalous behaviour. Consider again the above example, if we were to delete the only address of a particular zipcode, then we would lose all our knowledge of that zipcode, even though we only wanted to delete the address.\n",
                "\n",
                "An <em>update anomaly</em> may occur when we update data, consider again the example of zip and city, if the name of a city were to change, we would need to look for all rows with that zip, and update the city name, this is both error-prone and redundant.\n",
                "\n",
                "### Functional dependency\n",
                "\n",
                "A functional dependency X -\\> Y exists iff. the value of X implies the value of Y.\n",
                "\n",
                "### Full functional dependency\n",
                "\n",
                "We say that a functional dependency X -\\> Y is full iff. the removal of any attribute type from X also invalidates the dependency. If it is not full we say that it is partial.\n",
                "\n",
                "### Transitive functional dependency\n",
                "\n",
                "We say that a functional dependency X -\\> Y is transitive iff. there exists a set of attribute types Z such that Z is neither a key nor a subset of any key, and X -\\> Z and Z -\\> Y hold.\n",
                "\n",
                "### Trivial functional dependency\n",
                "\n",
                "For a functionnal dependency X -\\> Y, we say that the dependency is trivial if Y is a subset of X.\n",
                "\n",
                "### Multi-valued functional dependency\n",
                "\n",
                "We say that there is a multi-valued funcitonal dependency X --\\> Y iff. each value of X implies exactly a set of Y values independently of other attribute types. Consider the relation <code>Course(Name,Instructor,Textbook)</code> and the assumptions that each course may have multiple instructors and multiple textbooks - additionally we initially say that the whole relation is the primary key. We insert some data and get the table below.\n",
                "\n",
                "| Name | Instructor | Textbook |\n",
                "| --- | --- | --- |\n",
                "| Algorithms | Husfeldt | Sedgewick |\n",
                "| Algorithms | Husfeldt | Toolbox |\n",
                "| Algorithms | Jacob | Sedgewick |\n",
                "| Algorithms | Jacob | Toolbox  \n",
                " |\n",
                "\n",
                "  \n",
                "Notice that each value of Name exactly determines the set {Sedgewick, Toolbox} for values of Textbook, independently of the value of Instructor. Thus there is a multi-valued functional dependency from Name to Textbook.\n",
                "\n",
                "  \n",
                "\n",
                "Notice also that each value of Name exactly determines the set {Husfeldt, Jacob} for values of Instructor, independently of the value of Textbook.\n",
                "\n",
                "### Prime attribute type\n",
                "\n",
                "A prime attribute type is an attribute type that is part of a key.\n",
                "\n",
                "### 1NF\n",
                "\n",
                "We say that a relation R is in 1NF iff. there are no multi-valued or composite attribute types.\n",
                "\n",
                "### 2NF \n",
                "\n",
                "We say that a relation R is in 2NF if it is in 1NF and every non-prime attribute type A in R is fully functionally dependent on any key of R.\n",
                "\n",
                "### 3NF\n",
                "\n",
                "We say that a relation R is in 3NF if it is in 2NF and no non-prime attribute type of R is transitively dependent on the primary key.\n",
                "\n",
                "### BCNF\n",
                "\n",
                "A relation R is in BCNF if it is in 3NF and for each of its nontrivial functional dependencies X -> Y, X is a superkey.\n",
                "\n",
                "### 4NF\n",
                "\n",
                "A relation R is in 4NF if it is in BCNF and for each of its non-trivial multi-valued dependencies X --> Y, X is a superkey."
            ],
            "metadata": {
                "azdata_cell_guid": "bf8f129b-f93f-4a0d-8efc-6154cc487337"
            }
        },
        {
            "cell_type": "markdown",
            "source": [
                "## ER to Relational Mapping\r\n",
                "\r\n",
                "ER | Relation\r\n",
                "-|-\r\n",
                "Entity Type | Relation\r\n",
                "Entity | Tuple\r\n",
                "Attribute Type | Column name\r\n",
                "Attribute | Cell\r\n",
                "\r\n",
                "### 1:1 or 0..1:1 relationships\r\n",
                "Create a table for each entity type, in case of 1:1 consider if a merge makes sense (normalization constrains this often), otherwise use unique constraints and foreign keys to connect relations.\r\n",
                "\r\n",
                "### M:N relationships\r\n",
                "Create a join table, carefully consider key constraints\r\n",
                ""
            ],
            "metadata": {
                "azdata_cell_guid": "0d93b5ec-89e0-4604-99d5-8f6c57852dda"
            }
        }
    ]
}
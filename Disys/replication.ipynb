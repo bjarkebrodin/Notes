{
 "cells": [
  {
   "cell_type": "markdown",
   "metadata": {},
   "source": [
    "##### BJARKE BRODIN - DISYS 2020"
   ]
  },
  {
   "cell_type": "markdown",
   "metadata": {},
   "source": [
    "# Replication\n",
    "In distributed systems, when talking about replication we refer to the duplication of services, processes or data. While replicating immutable data is trivial, there are many concerns introduced when we try to replicate mutable information.\n",
    "\n",
    "### Motivation\n",
    "\n",
    "Replication can be very useful in distributed sytems, we do things such as distributing work, backing data and even processes, as well as providing faster service by having data replicated in multiple geographical locations decreasing distance from client to server.\n",
    "\n",
    "Examples of this are quite ubiquitous, just look at the DNS name resolution, content delivery networks, file-backup/distribution systems such as Google Drive, Dropbox or OneDrive. Replication is also used to maintain a high quality of service in streaming applications such as i.e. Netflix. We can talk more formally about the ..."
   ]
  },
  {
   "cell_type": "markdown",
   "metadata": {},
   "source": [
    "## Advantages of replication\n",
    "\n",
    "#### Performance Enhancement\n",
    "caching, load-balancing, \n",
    "\n",
    "#### Increased availability\n",
    "server failures, network partitions? disconneted operation?\n",
    "\n",
    "We talk about the availability of an _object or service_ as the probability that it is available, or equivalently, the percentage of time during which it is available.\n",
    "\n",
    "For some service $s$ being served by $n$ servers each with an independent probability of failure $p$, we get that the availability $A(s) = 1 - p^n$. That is, $s$ i available at all times, except only when all $n$ servers are down.  "
   ]
  },
  {
   "cell_type": "markdown",
   "metadata": {},
   "source": [
    "## Phases of request to replicated service\n",
    "\n",
    "- Request\n",
    "- Coordination (FIFO, Causal, Total)\n",
    "- Execution\n",
    "- Agreement\n",
    "- Response\n",
    "\n"
<<<<<<< HEAD
=======
   ]
  },
  {
   "cell_type": "markdown",
   "metadata": {},
   "source": [
    "\n",
    "---\n",
    "\n",
    "## Exercises"
>>>>>>> 410439ecedfb7c265e92e74ac44edc548a90af55
   ]
  },
  {
   "cell_type": "markdown",
   "metadata": {},
<<<<<<< HEAD
=======
   "source": [
    "__18.1__ _Three computers together provide a replicated service. The manufacturers claim that\n",
    "each computer has a mean time between failure of five days; a failure typically takes\n",
    "four hours to fix. What is the availability of the replicated service?_"
   ]
  },
  {
   "cell_type": "markdown",
   "metadata": {},
   "source": [
    "The availability of a replicated service provided by $n$ nodes with an independent probability $p$ of having failed at any given time is $1-p^n$"
   ]
  },
  {
   "cell_type": "markdown",
   "metadata": {},
   "source": [
    "$$\n",
    "\\begin{aligned}\n",
    "p &= \\cfrac{4}{24 * 5} \\implies\n",
    "1-p^3=1-(\\cfrac{4}{24*5})^3=0.9999629629629629\n",
    "\\end{aligned}\n",
    "$$"
   ]
  },
  {
   "cell_type": "code",
   "execution_count": 3,
   "metadata": {},
   "outputs": [
    {
     "data": {
      "text/plain": [
       "0.9999629629629629"
      ]
     },
     "execution_count": 3,
     "metadata": {},
     "output_type": "execute_result"
    }
   ],
   "source": [
    "1.0-Math.pow((4.0/(24*5)),3)"
   ]
  },
  {
   "cell_type": "markdown",
   "metadata": {},
   "source": [
    "__18.2__ _Explain why a multi-threaded server might not qualify as a state machine._"
   ]
  },
  {
   "cell_type": "markdown",
   "metadata": {},
   "source": [
    "A _state machine_ ([Lamport 1978](https://lamport.azurewebsites.net/pubs/time-clocks.pdf), [Schneider 1990](https://www.cs.cornell.edu/fbs/publications/SMSurvey.pdf)) is roughly described as a process, whose execution is equivalent to performing operations in some strict sequence (Coulouris 2015)."
   ]
  },
  {
   "cell_type": "markdown",
   "metadata": {},
   "source": [
    "If some parts of the server processing is multi-threaded, it may break the strictness of sequence constraint of the state machine definition. Considering all concurrency related issues when multi-threading, consequences could be:\n",
    "- Race conditions could result in unexpected states, if for example multi-threading write operations. \n",
    "- Thread starvation could easily result in the interleaving of the processing of multiple requests, this would trivially break the atomicity constraint of the state machine.\n",
    "- In the worst case: deadlocks could entirely incapacitate the so-perceived state machine."
   ]
  },
  {
   "cell_type": "code",
   "execution_count": null,
   "metadata": {},
   "outputs": [],
>>>>>>> 410439ecedfb7c265e92e74ac44edc548a90af55
   "source": []
  }
 ],
 "metadata": {
  "kernelspec": {
   "display_name": "Java",
   "language": "java",
   "name": "java"
  },
  "language_info": {
   "codemirror_mode": "java",
   "file_extension": ".jshell",
   "mimetype": "text/x-java-source",
   "name": "Java",
   "pygments_lexer": "java",
   "version": "11.0.8+10-LTS"
  }
 },
 "nbformat": 4,
 "nbformat_minor": 4
}

{
 "cells": [
  {
   "cell_type": "markdown",
   "metadata": {},
   "source": [
    "##### BJARKE BRODIN - C# 2020"
   ]
  },
  {
   "cell_type": "code",
   "execution_count": 7,
   "metadata": {},
   "outputs": [],
   "source": [
    "using static System.Console;"
   ]
  },
  {
   "cell_type": "markdown",
   "metadata": {},
   "source": [
    "# Typing & Classes"
   ]
  },
  {
   "cell_type": "markdown",
   "metadata": {},
   "source": [
    "## Value types\n",
    "\n",
    "Define value types as primitives (NOT `string` and custom `struct` and `enum` types. Value types are assigned by value, that is; assigning an existing instance of a value type to a variable will copy the values of that instance. In other words the content of a value-type variable is the values held by the struct."
   ]
  },
  {
   "cell_type": "code",
   "execution_count": 2,
   "metadata": {},
   "outputs": [
    {
     "name": "stdout",
     "output_type": "stream",
     "text": [
      "Vlad Bob\n",
      "Uncle Bob\n"
     ]
    }
   ],
   "source": [
    "struct Name\n",
    "{ \n",
    "    public string First { get; set; } \n",
    "    public string Last { get; set; }\n",
    "    public void Print () => Console.WriteLine($\"{First} {Last}\");\n",
    "}\n",
    "\n",
    "Name n = new Name { First = \"Vlad\", Last = \"Bob\" };\n",
    "Name m = n; \n",
    "\n",
    "m.First = \"Uncle\";\n",
    "\n",
    "n.Print();\n",
    "m.Print();"
   ]
  },
  {
   "cell_type": "markdown",
   "metadata": {},
   "source": [
    "## Reference types\n",
    "\n",
    "Define reference types as all types except for value types. These types are split in two distinct parts: an object and a reference to said object. The content of a reference-type variable is the reference to the object; this means using a `class` (reference type) instead of a `struct` (value type) would change the semantics of the previous example."
   ]
  },
  {
   "cell_type": "code",
   "execution_count": 13,
   "metadata": {},
   "outputs": [
    {
     "name": "stdout",
     "output_type": "stream",
     "text": [
      "Uncle Bob\n",
      "Uncle Bob\n"
     ]
    }
   ],
   "source": [
    "class Name\n",
    "{\n",
    "    public string First { get; set; } \n",
    "    public string Last { get; set; }\n",
    "    public void Print () => Console.WriteLine($\"{First} {Last}\");\n",
    "}\n",
    "\n",
    "Name n = new Name { First = \"Vlad\", Last = \"Bob\" };\n",
    "Name m = n; \n",
    "\n",
    "m.First = \"Uncle\";\n",
    "\n",
    "n.Print();\n",
    "m.Print();"
   ]
  },
  {
   "cell_type": "markdown",
   "metadata": {},
   "source": [
    "## Null\n",
    "\n",
    "References can hold the value `null`, meaning that there is no reference - value-types cannot be null, unless specified as nullable."
   ]
  },
  {
   "cell_type": "code",
   "execution_count": 20,
   "metadata": {},
   "outputs": [
    {
     "ename": "Unhandled Exception",
     "evalue": "(1,9): error CS0037: Cannot convert null to 'int' because it is a non-nullable value type",
     "output_type": "error",
     "traceback": [
      "(1,9): error CS0037: Cannot convert null to 'int' because it is a non-nullable value type"
     ]
    }
   ],
   "source": [
    "int a = null; // compile time error"
   ]
  },
  {
   "cell_type": "code",
   "execution_count": 21,
   "metadata": {},
   "outputs": [],
   "source": [
    "int? a = null; // this is fine"
   ]
  },
  {
   "cell_type": "code",
   "execution_count": 25,
   "metadata": {},
   "outputs": [],
   "source": [
    "string a = null; // also fine"
   ]
  },
  {
   "cell_type": "markdown",
   "metadata": {},
   "source": [
    "## Overflow checks"
   ]
  },
  {
   "cell_type": "code",
   "execution_count": 26,
   "metadata": {},
   "outputs": [
    {
     "name": "stdout",
     "output_type": "stream",
     "text": [
      "-2147483648\r\n"
     ]
    }
   ],
   "source": [
    "int a = int.MaxValue;\n",
    "WriteLine(a+1);"
   ]
  },
  {
   "cell_type": "code",
   "execution_count": 14,
   "metadata": {
    "collapsed": true
   },
   "outputs": [
    {
     "ename": "Unhandled exception",
     "evalue": "Microsoft.CSharp.RuntimeBinder.RuntimeBinderException: Operator '+' cannot be applied to operands of type 'Microsoft.DotNet.Interactive.Formatting.PocketView' and 'int'\r\n   at CallSite.Target(Closure , CallSite , Object , Int32 )\r\n   at System.Dynamic.UpdateDelegates.UpdateAndExecute2[T0,T1,TRet](CallSite site, T0 arg0, T1 arg1)\r\n   at Submission#17.<<Initialize>>d__0.MoveNext()\r\n--- End of stack trace from previous location where exception was thrown ---\r\n   at Microsoft.CodeAnalysis.Scripting.ScriptExecutionState.RunSubmissionsAsync[TResult](ImmutableArray`1 precedingExecutors, Func`2 currentExecutor, StrongBox`1 exceptionHolderOpt, Func`2 catchExceptionOpt, CancellationToken cancellationToken)",
     "output_type": "error",
     "traceback": [
      "Microsoft.CSharp.RuntimeBinder.RuntimeBinderException: Operator '+' cannot be applied to operands of type 'Microsoft.DotNet.Interactive.Formatting.PocketView' and 'int'\r\n   at CallSite.Target(Closure , CallSite , Object , Int32 )\r\n   at System.Dynamic.UpdateDelegates.UpdateAndExecute2[T0,T1,TRet](CallSite site, T0 arg0, T1 arg1)\r\n   at Submission#17.<<Initialize>>d__0.MoveNext()\r\n--- End of stack trace from previous location where exception was thrown ---\r\n   at Microsoft.CodeAnalysis.Scripting.ScriptExecutionState.RunSubmissionsAsync[TResult](ImmutableArray`1 precedingExecutors, Func`2 currentExecutor, StrongBox`1 exceptionHolderOpt, Func`2 catchExceptionOpt, CancellationToken cancellationToken)",
      "   at CallSite.Target(Closure , CallSite , Object , Int32 )",
      "   at System.Dynamic.UpdateDelegates.UpdateAndExecute2[T0,T1,TRet](CallSite site, T0 arg0, T1 arg1)",
      "   at Submission#17.<<Initialize>>d__0.MoveNext()",
      "--- End of stack trace from previous location where exception was thrown ---",
      "   at Microsoft.CodeAnalysis.Scripting.ScriptExecutionState.RunSubmissionsAsync[TResult](ImmutableArray`1 precedingExecutors, Func`2 currentExecutor, StrongBox`1 exceptionHolderOpt, Func`2 catchExceptionOpt, CancellationToken cancellationToken)"
     ]
    }
   ],
   "source": [
    "checked { WriteLine(a+1); }"
   ]
  },
  {
   "cell_type": "code",
   "execution_count": 29,
   "metadata": {
    "collapsed": true
   },
   "outputs": [
    {
     "ename": "Unhandled Exception",
     "evalue": "Arithmetic operation resulted in an overflow.",
     "output_type": "error",
     "traceback": [
      "Unhandled Exception",
      "Arithmetic operation resulted in an overflow.",
      "   at Submission#30.<<Initialize>>d__0.MoveNext()",
      "--- End of stack trace from previous location where exception was thrown ---",
      "   at Microsoft.CodeAnalysis.Scripting.ScriptExecutionState.RunSubmissionsAsync[TResult](ImmutableArray`1 precedingExecutors, Func`2 currentExecutor, StrongBox`1 exceptionHolderOpt, Func`2 catchExceptionOpt, CancellationToken cancellationToken)"
     ]
    }
   ],
   "source": [
    "WriteLine( checked (a + 1) );"
   ]
  },
  {
   "cell_type": "markdown",
   "metadata": {},
   "source": [
    "## Type conversions"
   ]
  },
  {
   "cell_type": "code",
   "execution_count": 3,
   "metadata": {},
   "outputs": [],
   "source": [
    "// implicit up\n",
    "string myString = \"Hey\";\n",
    "Object myObject = myString;"
   ]
  },
  {
   "cell_type": "code",
   "execution_count": 11,
   "metadata": {},
   "outputs": [],
   "source": [
    "// explicit unchecked cast down\n",
    "Object myObject = \"Hey\";\n",
    "string myString = (string)myObject;\n",
    "string anotherString = myObject as string;"
   ]
  },
  {
   "cell_type": "code",
   "execution_count": 17,
   "metadata": {
    "collapsed": true
   },
   "outputs": [
    {
     "ename": "Unhandled exception",
     "evalue": "System.InvalidCastException: Unable to cast object of type 'System.Int32' to type 'System.String'.\r\n   at Submission#20.<<Initialize>>d__0.MoveNext()\r\n--- End of stack trace from previous location where exception was thrown ---\r\n   at Microsoft.CodeAnalysis.Scripting.ScriptExecutionState.RunSubmissionsAsync[TResult](ImmutableArray`1 precedingExecutors, Func`2 currentExecutor, StrongBox`1 exceptionHolderOpt, Func`2 catchExceptionOpt, CancellationToken cancellationToken)",
     "output_type": "error",
     "traceback": [
      "System.InvalidCastException: Unable to cast object of type 'System.Int32' to type 'System.String'.\r\n   at Submission#20.<<Initialize>>d__0.MoveNext()\r\n--- End of stack trace from previous location where exception was thrown ---\r\n   at Microsoft.CodeAnalysis.Scripting.ScriptExecutionState.RunSubmissionsAsync[TResult](ImmutableArray`1 precedingExecutors, Func`2 currentExecutor, StrongBox`1 exceptionHolderOpt, Func`2 catchExceptionOpt, CancellationToken cancellationToken)",
      "   at Submission#20.<<Initialize>>d__0.MoveNext()",
      "--- End of stack trace from previous location where exception was thrown ---",
      "   at Microsoft.CodeAnalysis.Scripting.ScriptExecutionState.RunSubmissionsAsync[TResult](ImmutableArray`1 precedingExecutors, Func`2 currentExecutor, StrongBox`1 exceptionHolderOpt, Func`2 catchExceptionOpt, CancellationToken cancellationToken)"
     ]
    }
   ],
   "source": [
    "// this throws InvalidCastException exceptions, observe\n",
    "Object myObject = 42;\n",
    "string myString = (string)myObject;"
   ]
  },
  {
   "cell_type": "code",
   "execution_count": 22,
   "metadata": {},
   "outputs": [
    {
     "name": "stdout",
     "output_type": "stream",
     "text": [
      "\r\n"
     ]
    }
   ],
   "source": [
    "// this does not throw exceptions, but evaluates to null\n",
    "Object myObject = 42;\n",
    "string myString = myObject as string;\n",
    "WriteLine(myString);"
   ]
  },
  {
   "cell_type": "code",
   "execution_count": 25,
   "metadata": {},
   "outputs": [
    {
     "name": "stdout",
     "output_type": "stream",
     "text": [
      "Hey\r\n"
     ]
    }
   ],
   "source": [
    "// checked explicit cast with conditional\n",
    "// this is pure beauty if you are expecting\n",
    "// casts to fail sometimes\n",
    "Object myObject = \"Hey\";\n",
    "if (myObject is string str) WriteLine(str);"
   ]
  },
  {
   "cell_type": "markdown",
   "metadata": {},
   "source": [
    "###"
   ]
  }
 ],
 "metadata": {
  "kernelspec": {
   "display_name": ".NET (C#)",
   "language": "C#",
   "name": ".net-csharp"
  },
  "language_info": {
   "file_extension": ".cs",
   "mimetype": "text/x-csharp",
   "name": "C#",
   "pygments_lexer": "csharp",
   "version": "8.0"
  }
 },
 "nbformat": 4,
 "nbformat_minor": 4
}

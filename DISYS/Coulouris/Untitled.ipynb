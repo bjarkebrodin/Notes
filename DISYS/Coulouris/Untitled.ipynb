{
 "cells": [
  {
   "cell_type": "markdown",
   "metadata": {},
   "source": [
    "# 4. Interprocess Communication"
   ]
  },
  {
   "cell_type": "markdown",
   "metadata": {},
   "source": [
    "UDP Datagrams\n",
    "- Connection-less\n",
    "- Barebones\n",
    "\n",
    "TCP Streams\n",
    "- Connection-oriented\n",
    "- Reliable (Validity, Integrity, Ordering)\n",
    "\n",
    "Synchronous Communication\n",
    "- after `send` a process is blocked until a corresponding `receive` at the recipient process.\n",
    "- after `receive` a process is blocked until a message arrives.\n",
    "\n",
    "Asynchronous\n",
    "- nonblocking `send` \n",
    "- blocking or nonblocking `receive`; in case of non-blocking need to manage buffer for when message arrives as well as notification of arrival - nonblocking receive is awkward and generally not provided\n",
    "\n",
    "Address\n",
    "*(IP address, port)* \n",
    "Ports can have a single receiver but many senders\n",
    "\n",
    "Reliability\n",
    "*guaranteed delivery despite a reasonable number of lost packets*\n",
    "- Arrives within reasonable expectations\n",
    "- Uncorrupted\n",
    "- No duplications\n",
    "(May or may not be in sender-order, TCP does this though)"
   ]
  },
  {
   "cell_type": "markdown",
   "metadata": {},
   "source": [
    "## Tools\n",
    "\n",
    "`nslookup` - DNS Lookup\n",
    "\n",
    "`nmap` - Port scanning\n",
    "\n",
    "`nc` - Communication\n",
    "\n",
    "`traceroute` - Route tracer\n",
    "\n",
    "`ifconfig` - Network configuration\n",
    "\n",
    "`tcpdump` - Dump traffic from network\n",
    "\n",
    "`ping` - duh"
   ]
  },
  {
   "cell_type": "markdown",
   "metadata": {},
   "source": [
    "## Sockets (In Java)"
   ]
  },
  {
   "cell_type": "markdown",
   "metadata": {},
   "source": [
    "## `InetAddress`"
   ]
  },
  {
   "cell_type": "code",
   "execution_count": 21,
   "metadata": {},
   "outputs": [
    {
     "name": "stdout",
     "output_type": "stream",
     "text": [
      "google.com/216.58.207.238\n"
     ]
    }
   ],
   "source": [
    "import java.net.InetAddress;\n",
    "InetAddress addr = InetAddress.getByName(\"google.com\");\n",
    "\n",
    "System.out.println(addr);"
   ]
  },
  {
   "cell_type": "code",
   "execution_count": 37,
   "metadata": {},
   "outputs": [],
   "source": [
    "import java.net.UnknownHostException;\n",
    "Function<String,InetAddress> getByName = (String name) -> { try {\n",
    "    return InetAddress.getByName(name);\n",
    "} catch (UnknownHostException e) { return null; } }\n"
   ]
  },
  {
   "cell_type": "code",
   "execution_count": 58,
   "metadata": {},
   "outputs": [
    {
     "name": "stdout",
     "output_type": "stream",
     "text": [
      "true\n",
      "localhost\n",
      "google.com/142.250.74.46\n"
     ]
    }
   ],
   "source": [
    "System.out.println(getByName.apply(\"0.0.0.0\").isAnyLocalAddress());\n",
    "System.out.println(getByName.apply(\"00:00:00:00:00:00:00:1\").getHostName());\n",
    "System.out.println(getByName.apply(\"google.com\"));"
   ]
  },
  {
   "cell_type": "markdown",
   "metadata": {},
   "source": []
  }
 ],
 "metadata": {
  "kernelspec": {
   "display_name": "Java",
   "language": "java",
   "name": "java"
  },
  "language_info": {
   "codemirror_mode": "java",
   "file_extension": ".jshell",
   "mimetype": "text/x-java-source",
   "name": "Java",
   "pygments_lexer": "java",
   "version": "15.0.1+9"
  }
 },
 "nbformat": 4,
 "nbformat_minor": 4
}

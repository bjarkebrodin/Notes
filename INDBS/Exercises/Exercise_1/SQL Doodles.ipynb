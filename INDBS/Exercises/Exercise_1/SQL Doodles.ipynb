{
    "metadata": {
        "kernelspec": {
            "name": "SQL",
            "display_name": "SQL",
            "language": "sql"
        },
        "language_info": {
            "name": "sql",
            "version": ""
        }
    },
    "nbformat_minor": 2,
    "nbformat": 4,
    "cells": [
        {
            "cell_type": "markdown",
            "source": [
                "## Procedures"
            ],
            "metadata": {
                "azdata_cell_guid": "0301e6d8-a0b9-469c-b9e7-fa43289609a1"
            }
        },
        {
            "cell_type": "code",
            "source": [
                "drop procedure if exists test(str varchar);\n",
                "create procedure test(str varchar) language sql as\n",
                "$$\n",
                "    select str;\n",
                "$$;\n",
                "\n",
                "call test('Hola senor mundo!');\n",
                "-- NB. does nothing heh"
            ],
            "metadata": {
                "azdata_cell_guid": "aa20d4a8-15a1-4e9e-a181-ebf22ec671e7"
            },
            "outputs": [],
            "execution_count": null
        },
        {
            "cell_type": "code",
            "source": [
                "drop function if exists hello(str varchar);\n",
                "create function hello(str varchar) returns varchar language sql as\n",
                "$$\n",
                "    select str;\n",
                "$$;\n",
                "\n",
                "select hello('World');"
            ],
            "metadata": {
                "azdata_cell_guid": "8ff51d4d-9357-44ad-a7f1-ff70eb87ac37",
                "tags": []
            },
            "outputs": [],
            "execution_count": null
        },
        {
            "cell_type": "code",
            "source": [
                "create or replace function hello_trigger() returns trigger as $$ \n",
                "    begin \n",
                "        if (new.name = 'Bad Coffee') then \n",
                "            raise exception 'Coffee name not allowed: %.', new.name;\n",
                "        elsif (false) then \n",
                "            raise exception 'No error but ELSIF is a thing';\n",
                "        else \n",
                "            return new;\n",
                "        end if;\n",
                "    end;\n",
                "$$ language plpgsql;\n",
                "\n",
                "create trigger hello\n",
                "    before insert\n",
                "    on coffees\n",
                "    for each row EXECUTE procedure hello_trigger();"
            ],
            "metadata": {
                "azdata_cell_guid": "c8fa0b6b-13d5-4f33-8649-1adc05ca74f0"
            },
            "outputs": [],
            "execution_count": null
        },
        {
            "cell_type": "code",
            "source": [
                "create or replace function hello_dynamic_trigger() returns trigger as $$\n",
                "    begin\n",
                "        if (TG_OP = 'DELETE') then\n",
                "            -- delete logic\n",
                "        elsif (TG_OP = 'UPDATE') then\n",
                "            -- update logic\n",
                "        elsif (TG_OP = 'INSERT') then\n",
                "            -- insert logig\n",
                "        end if;\n",
                "    end;\n",
                "$$ language plpgsql;\n",
                "\n",
                "create trigger hello_dynamic\n",
                "    before insert or update or delete \n",
                "    on coffees\n",
                "    for each row execute procedure hello_dynamic_trigger();"
            ],
            "metadata": {
                "azdata_cell_guid": "3c6272c0-1b85-4107-9d92-e9041fd01211"
            },
            "outputs": [],
            "execution_count": null
        }
    ]
}
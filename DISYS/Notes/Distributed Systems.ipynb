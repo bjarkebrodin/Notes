{
 "cells": [
  {
   "cell_type": "markdown",
   "metadata": {},
   "source": [
    "##### BJARKE BRODIN - DISYS 2020"
   ]
  },
  {
   "cell_type": "markdown",
   "metadata": {},
   "source": [
    "# Distributed Systems"
   ]
  },
  {
   "cell_type": "markdown",
   "metadata": {},
   "source": [
    "_A distributed system of processes or nodes coordinating and communicating by way of message passing._"
   ]
  },
  {
   "cell_type": "markdown",
   "metadata": {},
   "source": [
    "Characteristics of a distributed system :\n",
    "- Concurrent\n",
    "- Clock drift\n",
    "- Independent failure\n",
    "\n",
    "Fallacies of distributed computing :\n",
    "- Reliable network\n",
    "- Infinite bandwidth\n",
    "- Secure connection\n",
    "- Zero latency\n",
    "- Single admin\n",
    "- Homogeneity\n",
    "- Cost of network use is free\n",
    "- Topology is constant"
   ]
  },
  {
   "cell_type": "markdown",
   "metadata": {},
   "source": [
    "Challenges :\n",
    "- Openness \n",
    "- Heterogeneity\n",
    "- Transparency\n",
    "- Availability (Failure handling)\n",
    "- Security\n",
    "- Scalability\n",
    "- Concurrency\n",
    "- Quality of service"
   ]
  },
  {
   "cell_type": "code",
   "execution_count": null,
   "metadata": {},
   "outputs": [],
   "source": []
  }
 ],
 "metadata": {
  "kernelspec": {
   "display_name": "Java",
   "language": "java",
   "name": "java"
  },
  "language_info": {
   "codemirror_mode": "java",
   "file_extension": ".jshell",
   "mimetype": "text/x-java-source",
   "name": "Java",
   "pygments_lexer": "java",
   "version": "15.0.1+9"
  }
 },
 "nbformat": 4,
 "nbformat_minor": 4
}
